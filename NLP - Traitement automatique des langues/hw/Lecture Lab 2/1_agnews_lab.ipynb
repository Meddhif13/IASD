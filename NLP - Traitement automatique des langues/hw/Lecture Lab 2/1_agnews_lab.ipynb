{
  "cells": [
    {
      "cell_type": "markdown",
      "metadata": {
        "id": "view-in-github",
        "colab_type": "text"
      },
      "source": [
        "<a href=\"https://colab.research.google.com/github/Meddhif13/IASD/blob/main/1_agnews_lab.ipynb\" target=\"_parent\"><img src=\"https://colab.research.google.com/assets/colab-badge.svg\" alt=\"Open In Colab\"/></a>"
      ]
    },
    {
      "cell_type": "code",
      "execution_count": null,
      "metadata": {
        "id": "uwCKx4HR7kZn"
      },
      "outputs": [],
      "source": [
        "%%capture\n",
        "!pip install datasets transformers"
      ]
    },
    {
      "cell_type": "code",
      "execution_count": null,
      "metadata": {
        "id": "rkwA9Q977kZo"
      },
      "outputs": [],
      "source": [
        "from transformers import BertTokenizer"
      ]
    },
    {
      "cell_type": "markdown",
      "metadata": {
        "id": "Bu7fwiOsXM6N"
      },
      "source": [
        "# Machine Learning for NLP"
      ]
    },
    {
      "cell_type": "markdown",
      "metadata": {
        "id": "zF_dAvTP7kZp"
      },
      "source": [
        "# Building blocks\n",
        "\n",
        "In this part, we will discover how to build a first neural network for text classification, step by step.\n",
        "\n",
        "🚧 **TODO** 🚧\n",
        "\n",
        "Propose a chain of operations that should be applied to the input text, from the input to the output.\n",
        "When it applies, write the dimension of the expected tensors.\n",
        "\n",
        "**Answer**\n",
        "\n",
        "TODO"
      ]
    },
    {
      "cell_type": "markdown",
      "metadata": {
        "id": "iK6-NFt57kZq"
      },
      "source": [
        "## Tokenizer\n",
        "\n",
        "During the last course and during the HW, you used a `WhiteSpaceTokenizer` to tokenize the text.\n",
        "\n",
        "Here, we are going to use the tokenizer from the model `Bert`, that we will describe later in the course. It comes with the `transformers` library."
      ]
    },
    {
      "cell_type": "code",
      "execution_count": null,
      "metadata": {
        "id": "7AcxGgrS7kZq"
      },
      "outputs": [],
      "source": [
        "tokenizer = BertTokenizer.from_pretrained(\"bert-base-uncased\", do_lower_case=True)"
      ]
    },
    {
      "cell_type": "code",
      "source": [
        "sent = \"I love footballing\"\n",
        "tokens = tokenizer.encode(sent)\n",
        "ids = tokenizer.encode(sent)\n",
        "for i in ids:\n",
        "    print(i, tokenizer.ids_to_tokens[i])\n"
      ],
      "metadata": {
        "colab": {
          "base_uri": "https://localhost:8080/"
        },
        "id": "WruqfMGt8U9d",
        "outputId": "e77600d3-3e0a-47d2-f035-700bb15634a4"
      },
      "execution_count": null,
      "outputs": [
        {
          "output_type": "stream",
          "name": "stdout",
          "text": [
            "101 [CLS]\n",
            "1045 i\n",
            "2293 love\n",
            "2374 football\n",
            "2075 ##ing\n",
            "102 [SEP]\n"
          ]
        }
      ]
    },
    {
      "cell_type": "markdown",
      "metadata": {
        "id": "7TiofdyL7kZq"
      },
      "source": [
        "**Dataset**\n",
        "\n",
        "We will use the AGNews dataset. It is a dataset with 4 classes: World, Sports, Business, Sci/Tech. We download it from HuggingFace Hub [here](https://huggingface.co/datasets/fancyzhx/ag_news)."
      ]
    },
    {
      "cell_type": "code",
      "execution_count": null,
      "metadata": {
        "colab": {
          "base_uri": "https://localhost:8080/",
          "height": 255,
          "referenced_widgets": [
            "4b774222e7ff4a72bede317aa2ba2e63",
            "12c5a09c15bc4ee89366cd5487533cc6",
            "e639960626034d99aa75ce1e7f668887",
            "e64599287c3844f984bb935257684265",
            "15630071678f43d9b7e0a627f8ca76fb",
            "68790aa4eb2849b29ef7c2e39fa19a03",
            "ffc83ce2f2b04770b680145ba6c0bb12",
            "f28c2914bcef4d4c89ab805418714072",
            "5068fcb8f2734fd99c6672921efc9f0c",
            "41eefe6d69c84eb2b61b1df60112660b",
            "7c0f920feeac4b3aa495872fbbe87f93",
            "798ad2af5c2b414a893b7c8d45a832fd",
            "bf7c2610d67b43b38500e8c100317f13",
            "266891f837b74b01a269cd026d0f3f3a",
            "64466bd4000e4dfd8927dbc993479efa",
            "82e16617325147ca8bfa4f45da0ca036",
            "6906d9923e1844bd9ef33123986d6c4a",
            "108407d2bfd14a5fb9ff1dcd96b5237d",
            "eb65ef4e4b2541f586278d1ff47070e5",
            "3291281e095c498485b79c2d95a78eb4",
            "a3c4a3bf6ee94d95a73e909f9e3e0275",
            "d362fa6e07b34624a8e47ec518ebac9d"
          ]
        },
        "id": "OyuZt6RP7kZr",
        "outputId": "10bbc8ae-8710-4f22-dbbb-b1e2e158cd7d"
      },
      "outputs": [
        {
          "output_type": "stream",
          "name": "stdout",
          "text": [
            "DatasetDict({\n",
            "    train: Dataset({\n",
            "        features: ['text', 'label'],\n",
            "        num_rows: 2100\n",
            "    })\n",
            "    test: Dataset({\n",
            "        features: ['text', 'label'],\n",
            "        num_rows: 900\n",
            "    })\n",
            "})\n"
          ]
        },
        {
          "output_type": "display_data",
          "data": {
            "text/plain": [
              "Map:   0%|          | 0/2100 [00:00<?, ? examples/s]"
            ],
            "application/vnd.jupyter.widget-view+json": {
              "version_major": 2,
              "version_minor": 0,
              "model_id": "4b774222e7ff4a72bede317aa2ba2e63"
            }
          },
          "metadata": {}
        },
        {
          "output_type": "display_data",
          "data": {
            "text/plain": [
              "Map:   0%|          | 0/900 [00:00<?, ? examples/s]"
            ],
            "application/vnd.jupyter.widget-view+json": {
              "version_major": 2,
              "version_minor": 0,
              "model_id": "798ad2af5c2b414a893b7c8d45a832fd"
            }
          },
          "metadata": {}
        }
      ],
      "source": [
        "from datasets import load_dataset\n",
        "import unicodedata\n",
        "import re\n",
        "\n",
        "dataset = load_dataset(\"fancyzhx/ag_news\")\n",
        "dataset = dataset[\"train\"]\n",
        "dataset = dataset.shuffle(seed=42)\n",
        "dataset = dataset.select(range(3000))\n",
        "dataset = dataset.train_test_split(test_size=0.3)\n",
        "\n",
        "print(dataset)\n",
        "\n",
        "\n",
        "def preprocess_text(text: str) -> str:\n",
        "    # TODO lower case\n",
        "    text = text.lower()\n",
        "\n",
        "    # TODO string normalization.\n",
        "    text = unicodedata.normalize(\"NFD\", text).encode(\"ascii\", \"ignore\").decode()\n",
        "\n",
        "    # TODO remove non alpha numeric characters.\n",
        "    text = re.sub(r\"[^a-z0-9]\", \" \", text)\n",
        "\n",
        "    # TODO replace numbers by the <NUM> token.\n",
        "    text = re.sub(r\"\\d+\", \"<NUM>\", text)\n",
        "\n",
        "    # TODO remove double whitespaces.\n",
        "    text = re.sub(\" +\", \" \", text.strip())\n",
        "    return text\n",
        "\n",
        "\n",
        "# Clean the dataset\n",
        "dataset = dataset.map(lambda x: {\"text\": preprocess_text(x[\"text\"])})"
      ]
    },
    {
      "cell_type": "markdown",
      "metadata": {
        "id": "NzxTO8xO7kZr"
      },
      "source": [
        "## Word vectors\n",
        "\n",
        "The first step since we have access to text in a tokenized form is to use word embeddings.\n",
        "\n",
        "### Embeddings"
      ]
    },
    {
      "cell_type": "markdown",
      "metadata": {
        "id": "QWlxUfem7kZr"
      },
      "source": [
        "\n",
        "🚧 **TODO** 🚧\n",
        "\n",
        "Experiment with the class `nn.Embedding` from PyTorch.\n",
        "\n",
        "Construct an embedding layer with:\n",
        "- `d_embed=50` dimensions\n",
        "- `n_vocab=V` words in the vocabulary\n",
        "\n",
        "Then try to get the embedding of the following sentence: `\"I love machine learning.\"`."
      ]
    },
    {
      "cell_type": "code",
      "source": [
        "print(len(tokenizer))"
      ],
      "metadata": {
        "colab": {
          "base_uri": "https://localhost:8080/"
        },
        "id": "QFid6pac9lj6",
        "outputId": "ffc732bb-0d65-4ee8-ecc4-2f68c663d322"
      },
      "execution_count": null,
      "outputs": [
        {
          "output_type": "stream",
          "name": "stdout",
          "text": [
            "30522\n"
          ]
        }
      ]
    },
    {
      "cell_type": "code",
      "execution_count": null,
      "metadata": {
        "colab": {
          "base_uri": "https://localhost:8080/"
        },
        "id": "bcr0KlhX7kZr",
        "outputId": "32c91481-869a-4a0b-a20f-fe6e2562f2d4"
      },
      "outputs": [
        {
          "output_type": "stream",
          "name": "stdout",
          "text": [
            "Token ids: tensor([[ 101, 1045, 2293, 3698, 4083,  102]])\n",
            "Embedding:\n",
            "tensor([[[-0.4148, -0.9911,  1.3767,  0.9707, -1.5581],\n",
            "         [-0.1970,  2.1105, -0.1314,  0.1659,  0.7836],\n",
            "         [-0.5597,  0.4638, -0.4771,  0.5890,  1.5528],\n",
            "         [ 0.3601,  0.0794, -0.8231, -0.0471,  0.0981],\n",
            "         [ 0.4764,  0.2930,  0.5099, -0.6649,  1.1533],\n",
            "         [ 0.7469, -1.4753,  1.5888, -1.9025, -0.3251]]],\n",
            "       grad_fn=<EmbeddingBackward0>)\n"
          ]
        }
      ],
      "source": [
        "from torch import nn\n",
        "import torch\n",
        "d_embed=5\n",
        "n_vocab=len(tokenizer)\n",
        "\n",
        "embedding_models = nn.Embedding(num_embeddings=n_vocab, embedding_dim= d_embed)\n",
        "\n",
        "sentence = \"I love machine learning\"\n",
        "tokens = tokenizer(sentence, return_tensors=\"pt\")[\"input_ids\"]\n",
        "print('Token ids:', tokens)\n",
        "vectors = embedding_models(tokens)\n",
        "print('Embedding:')\n",
        "# TODO\n",
        "print(vectors)"
      ]
    },
    {
      "cell_type": "code",
      "execution_count": null,
      "metadata": {
        "outputId": "5cb5af38-b32f-4207-9b2c-8c0e135610da",
        "colab": {
          "base_uri": "https://localhost:8080/"
        },
        "id": "ou02d01--2R8"
      },
      "outputs": [
        {
          "output_type": "stream",
          "name": "stdout",
          "text": [
            "Token ids: tensor([[ 101, 1045, 2293, 3000,  102]])\n",
            "Embedding:\n",
            "tensor([[[-0.4148, -0.9911,  1.3767,  0.9707, -1.5581],\n",
            "         [-0.1970,  2.1105, -0.1314,  0.1659,  0.7836],\n",
            "         [-0.5597,  0.4638, -0.4771,  0.5890,  1.5528],\n",
            "         [-1.1506,  0.4744,  0.5668,  0.2478, -0.4285],\n",
            "         [ 0.7469, -1.4753,  1.5888, -1.9025, -0.3251]]],\n",
            "       grad_fn=<EmbeddingBackward0>)\n"
          ]
        }
      ],
      "source": [
        "sentence = \"I love Paris\"\n",
        "tokens = tokenizer(sentence, return_tensors=\"pt\")[\"input_ids\"]\n",
        "print('Token ids:', tokens)\n",
        "vectors = embedding_models(tokens)\n",
        "print('Embedding:')\n",
        "# TODO\n",
        "print(vectors)"
      ]
    },
    {
      "cell_type": "markdown",
      "source": [
        "❗ CLS and SEP tensors remain thesame throughout different sentences using the same model"
      ],
      "metadata": {
        "id": "7__t4UX2AIav"
      }
    },
    {
      "cell_type": "markdown",
      "metadata": {
        "id": "Hu2ZF7Xg7kZr"
      },
      "source": [
        "### Aggregation function\n",
        "\n",
        "Since we need to perform document classfications, we need to aggregate the embeddings into a single vector of size `d`.\n",
        "\n",
        "### Classification\n",
        "\n",
        "The last layer of the network should be a linear layer with `c` classes."
      ]
    },
    {
      "cell_type": "markdown",
      "metadata": {
        "id": "_OQcdysE7kZr"
      },
      "source": [
        "🚧 **TODO** 🚧\n",
        "\n",
        "Write a class named \"WordEmbedClassifier\" that will take as input a list of ids and return the probability of each class."
      ]
    },
    {
      "cell_type": "code",
      "execution_count": null,
      "metadata": {
        "id": "VXwwAkFh7kZr"
      },
      "outputs": [],
      "source": [
        "class WordEmbedClassifier(nn.Module):\n",
        "    def __init__(self, vocab_size, d, n_classes=4):\n",
        "        super().__init__()\n",
        "        # TODO\n",
        "        self.embedding_layer = nn.Embedding(num_embeddings= vocab_size, embedding_dim= d)\n",
        "        self.class_projection = nn.Linear(d, n_classes)\n",
        "\n",
        "    def forward(self, x):\n",
        "        # x(B, L) B= Batch size et L = length\n",
        "        x_embed = self.embedding_layer(x) # (B, L, d)\n",
        "        x_vector = x_embed.mean(axis=1) #(B, d)\n",
        "        class_scores =  self.class_projection(x_vector) #(B, n_classes)\n",
        "\n",
        "        #class_proba = torch.softmax(class_logits, dim=1)\n",
        "        return class_scores"
      ]
    },
    {
      "cell_type": "code",
      "execution_count": null,
      "metadata": {
        "colab": {
          "base_uri": "https://localhost:8080/"
        },
        "id": "t5q9by8y7kZs",
        "outputId": "7eeeb6be-f0d3-4e43-fd19-abf5e09fd4eb"
      },
      "outputs": [
        {
          "output_type": "stream",
          "name": "stdout",
          "text": [
            "torch.Size([2, 5])\n",
            "tensor([[-0.4427, -0.3354,  0.0342,  0.0596],\n",
            "        [-0.3627, -0.1528, -0.0270, -0.1088]], grad_fn=<AddmmBackward0>)\n"
          ]
        }
      ],
      "source": [
        "# Try the model on a simple input:\n",
        "length = 10\n",
        "model = WordEmbedClassifier(d=5, n_classes=4, vocab_size=len(tokenizer))\n",
        "x = tokenizer((\"I live Paris\", \"I live London\"), return_tensors=\"pt\")[\"input_ids\"]\n",
        "print(x.shape)\n",
        "output = model(x)\n",
        "print(output)"
      ]
    },
    {
      "cell_type": "markdown",
      "metadata": {
        "id": "YkoSSv4K7kZs"
      },
      "source": [
        "## Training\n",
        "\n",
        "For training we need to iterate over the dataset.\n",
        "\n",
        "### Data preparation\n",
        "\n",
        "Here, we will assume that all texts have the same length, using truncation and discarding examples."
      ]
    },
    {
      "cell_type": "markdown",
      "metadata": {
        "id": "wf_nbxPF7kZs"
      },
      "source": [
        "🚧 **Question** 🚧\n",
        "\n",
        "Why do we need to have inputs of the same length?\n",
        "\n",
        "**Answer**\n",
        "\n",
        "Because we put them into tensors."
      ]
    },
    {
      "cell_type": "code",
      "execution_count": null,
      "metadata": {
        "colab": {
          "base_uri": "https://localhost:8080/"
        },
        "id": "4hxKzw8z7kZs",
        "outputId": "3fff9f06-91c7-4919-b5d8-ef5aec65c2e3"
      },
      "outputs": [
        {
          "output_type": "stream",
          "name": "stdout",
          "text": [
            "Size before truncating: 2100\n",
            "Size after truncating: 931\n"
          ]
        }
      ],
      "source": [
        "def tokenize_truncate_and_discard(texts_list, labels_list, tokenizer, length=50):\n",
        "    new_texts = []\n",
        "    new_labels = []\n",
        "    for text, label in zip(texts_list, labels_list):\n",
        "        tokenized_text = tokenizer.encode(text)\n",
        "        if len(tokenized_text) < length:\n",
        "            continue\n",
        "        new_texts.append(tokenized_text[:length])\n",
        "        new_labels.append(label)\n",
        "\n",
        "    return new_texts, new_labels\n",
        "\n",
        "\n",
        "train_texts, train_labels = tokenize_truncate_and_discard(\n",
        "    dataset[\"train\"][\"text\"], dataset[\"train\"][\"label\"], tokenizer\n",
        ")\n",
        "test_texts, test_labels = tokenize_truncate_and_discard(\n",
        "    dataset[\"test\"][\"text\"], dataset[\"test\"][\"label\"], tokenizer\n",
        ")\n",
        "\n",
        "train_dataset = [(t, l) for t, l in zip(train_texts, train_labels)]\n",
        "valid_dataset = [(t, l) for t, l in zip(test_texts, test_labels)]\n",
        "\n",
        "print(\"Size before truncating:\", len(dataset[\"train\"][\"text\"]))\n",
        "print(\"Size after truncating:\", len(train_texts))"
      ]
    },
    {
      "cell_type": "markdown",
      "metadata": {
        "id": "v69JKx047kZs"
      },
      "source": [
        "Now we need to make batches of examples. We will use the DataLoader class from PyTorch."
      ]
    },
    {
      "cell_type": "markdown",
      "metadata": {
        "id": "DirWi4qr7kZs"
      },
      "source": [
        "🚧 **TODO** 🚧\n",
        "\n",
        "Load the data into batches. One batch should be a dictionary with the following keys:\n",
        "- `\"input_ids\"`: tensor of size (batch_size, L)\n",
        "- `\"labels\"`: tensor of size (batch_size,)"
      ]
    },
    {
      "cell_type": "code",
      "execution_count": null,
      "metadata": {
        "id": "l4mmBrMN7kZs"
      },
      "outputs": [],
      "source": [
        "from torch.utils.data import DataLoader\n",
        "\n",
        "\n",
        "class DataCollator:\n",
        "    def __init__(self, tokenizer):\n",
        "        self.tokenizer = tokenizer\n",
        "\n",
        "    def __call__(self, batch):\n",
        "        # `batch` is a list of tuples (text, label)\n",
        "        texts, labels = zip(*batch)\n",
        "        # Encode the texts\n",
        "        return {\"input_ids\": torch.tensor(texts), \"labels\": torch.tensor(labels)}\n",
        "\n",
        "\n",
        "data_collator = DataCollator(tokenizer)\n",
        "\n",
        "batch_size = 32\n",
        "\n",
        "train_dataloader = DataLoader(\n",
        "    train_dataset, batch_size=batch_size, collate_fn= data_collator, shuffle=True)\n",
        "valid_dataloader = DataLoader(\n",
        "    valid_dataset, batch_size=batch_size, collate_fn= data_collator, shuffle=True)\n",
        "n_valid = len(valid_dataset)\n",
        "n_train = len(train_dataset)"
      ]
    },
    {
      "cell_type": "markdown",
      "metadata": {
        "id": "x_ejkItc7kZs"
      },
      "source": [
        "🔴 **TEST**"
      ]
    },
    {
      "cell_type": "code",
      "execution_count": null,
      "metadata": {
        "colab": {
          "base_uri": "https://localhost:8080/"
        },
        "id": "LmX6CfZk7kZs",
        "outputId": "07dbbd1c-4446-4d74-a05c-833b6d77dcce"
      },
      "outputs": [
        {
          "output_type": "stream",
          "name": "stdout",
          "text": [
            "{'input_ids': tensor([[  101,  2796,  4007,  ...,  1028,  3867,  6012],\n",
            "        [  101,  2048,  4599,  ...,  2012,  1996,  5196],\n",
            "        [  101,  7380, 16371,  ...,  2400,  2005,  2190],\n",
            "        ...,\n",
            "        [  101,  5088, 11956,  ...,  1028,  1026, 16371],\n",
            "        [  101,  2563,  3786,  ..., 16371,  2213,  1028],\n",
            "        [  101,  4238,  2758,  ..., 12707, 10631,  2056]]), 'labels': tensor([3, 1, 1, 3, 3, 2, 1, 2, 0, 1, 2, 3, 1, 1, 2, 3, 1, 0, 1, 1, 1, 3, 1, 2,\n",
            "        1, 1, 2, 0, 3, 1, 1, 0])}\n"
          ]
        }
      ],
      "source": [
        "batch = next(iter(train_dataloader))\n",
        "print(batch)\n",
        "assert isinstance(batch, dict)\n",
        "assert \"input_ids\" in batch\n",
        "assert \"labels\" in batch\n",
        "assert isinstance(batch[\"input_ids\"], torch.Tensor)\n",
        "assert isinstance(batch[\"labels\"], torch.Tensor)\n",
        "assert batch[\"input_ids\"].shape[0] == batch_size\n",
        "assert batch[\"labels\"].shape[0] == batch_size"
      ]
    },
    {
      "cell_type": "markdown",
      "metadata": {
        "id": "3lvXB2ky7kZs"
      },
      "source": [
        "### Training loop\n",
        "\n",
        "🚧 **TODO** 🚧\n",
        "\n",
        "Now write the training loop. Validate the model on the validation set every epoch. Don't forget to plot the learning curves."
      ]
    },
    {
      "cell_type": "code",
      "execution_count": null,
      "metadata": {
        "scrolled": true,
        "colab": {
          "base_uri": "https://localhost:8080/",
          "height": 696
        },
        "id": "nd2UW_Cr7kZs",
        "outputId": "286a65a7-e90a-41da-e57e-e40bc25b29e4"
      },
      "outputs": [
        {
          "output_type": "stream",
          "name": "stdout",
          "text": [
            "Epoch 1: train_loss: 1.3208, train_accuracy: 0.3867, valid_loss: 1.2266, valid_accuracy: 0.5061\n",
            "Epoch 2: train_loss: 1.0075, train_accuracy: 0.7089, valid_loss: 0.9831, valid_accuracy: 0.6472\n",
            "Epoch 3: train_loss: 0.5710, train_accuracy: 0.8926, valid_loss: 0.7496, valid_accuracy: 0.7445\n",
            "Epoch 4: train_loss: 0.2606, train_accuracy: 0.9646, valid_loss: 0.6487, valid_accuracy: 0.7956\n",
            "Epoch 5: train_loss: 0.1228, train_accuracy: 0.9871, valid_loss: 0.6073, valid_accuracy: 0.8054\n",
            "Epoch 6: train_loss: 0.0644, train_accuracy: 0.9957, valid_loss: 0.5996, valid_accuracy: 0.8127\n",
            "Epoch 7: train_loss: 0.0382, train_accuracy: 0.9979, valid_loss: 0.5873, valid_accuracy: 0.8102\n",
            "Epoch 8: train_loss: 0.0254, train_accuracy: 1.0000, valid_loss: 0.5852, valid_accuracy: 0.8102\n",
            "Epoch 9: train_loss: 0.0188, train_accuracy: 1.0000, valid_loss: 0.5873, valid_accuracy: 0.8102\n",
            "Epoch 10: train_loss: 0.0148, train_accuracy: 1.0000, valid_loss: 0.5862, valid_accuracy: 0.8102\n"
          ]
        },
        {
          "output_type": "display_data",
          "data": {
            "text/plain": [
              "<Figure size 1200x600 with 2 Axes>"
            ],
            "image/png": "[encoded data removed]"
          },
          "metadata": {}
        }
      ],
      "source": [
        "import matplotlib.pyplot as plt\n",
        "from torch import optim\n",
        "\n",
        "\n",
        "# TODO\n",
        "def validation_step(valid_dataloader, model, criterion):\n",
        "    n_valid = len(valid_dataloader.dataset)\n",
        "    model.eval()\n",
        "    total_loss = 0.0\n",
        "    correct = 0\n",
        "    n_iter = 0\n",
        "\n",
        "    with torch.no_grad():\n",
        "        for batch in valid_dataloader:\n",
        "            input_ids = batch[\"input_ids\"]\n",
        "            labels = batch[\"labels\"]\n",
        "            output = model(input_ids)\n",
        "            loss = criterion(output, labels)\n",
        "            total_loss += loss.item()\n",
        "            correct += (output.argmax(axis=-1) == labels).sum().item()\n",
        "            n_iter += 1\n",
        "\n",
        "    return total_loss / n_iter, correct / n_valid\n",
        "\n",
        "\n",
        "def train_one_epoch(train_dataloader, model, optimizer, criterion):\n",
        "    model.train()\n",
        "    total_loss = 0.0\n",
        "    correct = 0\n",
        "    n_train = len(train_dataloader.dataset)\n",
        "    n_iter = 0\n",
        "    for batch in train_dataloader:\n",
        "        optimizer.zero_grad() #init the parameters to 0, good practivce\n",
        "        class_scores = model(batch[\"input_ids\"]) #(B, 4)\n",
        "\n",
        "        loss = criterion(class_scores, batch[\"labels\"]) # scalaire (1,)\n",
        "        loss.backward()\n",
        "        optimizer.step()\n",
        "\n",
        "\n",
        "        total_loss += loss.item()\n",
        "        correct += (class_scores.argmax(axis=-1) == batch[\"labels\"]).sum().item() # .item to convert to python float\n",
        "        n_iter += 1\n",
        "\n",
        "    return total_loss / n_iter, correct / n_train\n",
        "\n",
        "\n",
        "def train(model, train_dataloader, valid_dataloader, lr=0.01, n_epochs=10):\n",
        "    criterion = nn.CrossEntropyLoss()\n",
        "    optimizer = optim.AdamW(model.parameters(), lr=lr)\n",
        "    # Track training loss, training accuracy, validation loss and validation accuracy and plot in the end\n",
        "    train_losses = []\n",
        "    train_accuracies = []\n",
        "    valid_losses = []\n",
        "    valid_accuracies = []\n",
        "\n",
        "    for epoch in range(n_epochs):\n",
        "        train_loss, train_accuracy = train_one_epoch(\n",
        "            train_dataloader, model, optimizer, criterion\n",
        "        )\n",
        "        valid_loss, valid_accuracy = validation_step(valid_dataloader, model, criterion)\n",
        "        print(\n",
        "            f\"Epoch {epoch + 1}: train_loss: {train_loss:.4f}, train_accuracy: {train_accuracy:.4f}, valid_loss: {valid_loss:.4f}, valid_accuracy: {valid_accuracy:.4f}\"\n",
        "        )\n",
        "        train_losses.append(train_loss)\n",
        "        train_accuracies.append(train_accuracy)\n",
        "        valid_losses.append(valid_loss)\n",
        "        valid_accuracies.append(valid_accuracy)\n",
        "\n",
        "    plt.figure(figsize=(12, 6))\n",
        "    plt.subplot(1, 2, 1)\n",
        "    plt.plot(train_losses, label=\"train loss\")\n",
        "    plt.plot(valid_losses, label=\"valid loss\")\n",
        "    plt.legend()\n",
        "    plt.subplot(1, 2, 2)\n",
        "    plt.plot(train_accuracies, label=\"train accuracy\")\n",
        "    plt.plot(valid_accuracies, label=\"valid accuracy\")\n",
        "    plt.legend()\n",
        "\n",
        "\n",
        "model = WordEmbedClassifier(d=50, n_classes=4, vocab_size=len(tokenizer))\n",
        "\n",
        "train(model, train_dataloader, valid_dataloader, n_epochs=10)"
      ]
    },
    {
      "cell_type": "markdown",
      "metadata": {
        "id": "6No-bGRt7kZs"
      },
      "source": [
        "🚧 **TODO** 🚧\n",
        "\n",
        "What do you think about the learning curves ?\n",
        "\n",
        "✅ **Answer** ✅\n",
        "\n"
      ]
    },
    {
      "cell_type": "markdown",
      "metadata": {
        "id": "LhJ8m1etvhEQ"
      },
      "source": [
        "## Padding and masking\n",
        "\n",
        "Up to know, we assumed that our texts have the same length. To achieve that, we truncated the texts. However, in practive we want to keep the full texts (up to a given limit, of course)\n",
        "\n",
        "We will investigate masking and padding to handle texts of different lengths."
      ]
    },
    {
      "cell_type": "markdown",
      "metadata": {
        "id": "U-MESmJN7kZt"
      },
      "source": [
        "🚧 **Question** 🚧\n",
        "\n",
        "- What will padding achieve?\n",
        "- What should we be careful about when using padding model?\n",
        "\n",
        "**Answer**\n",
        "\n",
        "TODO\n"
      ]
    },
    {
      "cell_type": "code",
      "execution_count": null,
      "metadata": {
        "id": "luZ2kEZg7kZt"
      },
      "outputs": [],
      "source": [
        "class DataCollator:\n",
        "    def __init__(self, tokenizer):\n",
        "        self.tokenizer = tokenizer\n",
        "\n",
        "    def __call__(self, batch):\n",
        "        # Tokenize the texts\n",
        "        texts = [example[\"text\"] for example in batch]\n",
        "        labels = [example[\"label\"] for example in batch]\n",
        "        tokenized_texts = [self.tokenizer.encode(text) for text in texts]\n",
        "        # Pad the tokenized texts\n",
        "        max_len = max(len(text) for text in tokenized_texts)\n",
        "        padded_texts = [\n",
        "            text + [self.tokenizer.pad_token_id] * (max_len - len(text))\n",
        "            for text in tokenized_texts\n",
        "        ]\n",
        "        pad_mask = [\n",
        "            [1] * len(text) + [0] * (max_len - len(text)) for text in tokenized_texts\n",
        "        ]\n",
        "        return {\n",
        "            \"input_ids\": torch.tensor(padded_texts),\n",
        "            \"pad_mask\": torch.tensor(pad_mask),\n",
        "            \"labels\": torch.tensor(labels),\n",
        "        }\n",
        "\n",
        "\n",
        "batch_size = 32\n",
        "n_train = len(dataset[\"train\"])\n",
        "n_valid = len(dataset[\"test\"])\n",
        "data_collator = DataCollator(tokenizer)\n",
        "train_dataloader = DataLoader(\n",
        "    dataset[\"train\"], batch_size=batch_size, collate_fn=data_collator, shuffle=True\n",
        ")\n",
        "valid_dataloader = DataLoader(\n",
        "    dataset[\"test\"], batch_size=batch_size, collate_fn=data_collator, shuffle=True\n",
        ")"
      ]
    },
    {
      "cell_type": "code",
      "execution_count": null,
      "metadata": {
        "colab": {
          "base_uri": "https://localhost:8080/"
        },
        "id": "Rt-vQtSz7kZt",
        "outputId": "ce49723e-fffa-4f92-9bf7-877096c55772"
      },
      "outputs": [
        {
          "output_type": "stream",
          "name": "stdout",
          "text": [
            "tensor([[ 3296, 12195,  3514,  1998,  3806, 25335,  2000, 28805, 17401,  1998,\n",
            "          5780,  2752,  1996,  2689,  2001,  2000,  3437, 11141, 10069,  1996,\n",
            "          2801,  2453, 12996,  2062, 15827,  2125,  2037, 20266,   102,     0,\n",
            "             0,     0,     0,     0,     0,     0,     0,     0,     0,     0,\n",
            "             0,     0,     0,     0,     0,     0,     0,     0,     0,     0],\n",
            "        [ 2140, 12023,  2371,  2009,  2001,  3647,  2000,  3677,  1037,  7401,\n",
            "           102,     0,     0,     0,     0,     0,     0,     0,     0,     0,\n",
            "             0,     0,     0,     0,     0,     0,     0,     0,     0,     0,\n",
            "             0,     0,     0,     0,     0,     0,     0,     0,     0,     0,\n",
            "             0,     0,     0,     0,     0,     0,     0,     0,     0,     0]])\n"
          ]
        }
      ],
      "source": [
        "batch = next(iter(train_dataloader))\n",
        "print(batch[\"input_ids\"][:2, -50:])"
      ]
    },
    {
      "cell_type": "markdown",
      "source": [
        "These zeros that the padding tokens represnt risk interfering with the calculations so we will need to handle them so the model doesn't learn it ad well."
      ],
      "metadata": {
        "id": "HSptg8ZdTaDA"
      }
    },
    {
      "cell_type": "markdown",
      "metadata": {
        "id": "UsM9x4quwCXP"
      },
      "source": [
        "🚧 **TODO** 🚧\n",
        "\n",
        "Update the code of the `WordEmbedClassifier` to handle padding.\n"
      ]
    },
    {
      "cell_type": "code",
      "execution_count": null,
      "metadata": {
        "id": "lLGUEeKgwA7f"
      },
      "outputs": [],
      "source": [
        "class WordEmbedClassifier(nn.Module):\n",
        "    def __init__(self, vocab_size, d, n_classes=4):\n",
        "        super().__init__()\n",
        "        self.embedding_layer = nn.Embedding(vocab_size, d)\n",
        "        self.class_projection = nn.Linear(d, n_classes)\n",
        "\n",
        "    def forward(self, input_ids, pad_mask):\n",
        "        x_embed = self.embedding_layer(input_ids) #(B,L,d)\n",
        "        #x_vector = x_embed.mean(axis=1)  # (B, d)\n",
        "\n",
        "        n_non_pad = pad_mask.sum(axis=1, keepdim=True) # (B,)\n",
        "\n",
        "        # pad_mask(B,L), x_embed(B, L, d)\n",
        "        x_embed = x_embed * pad_mask.unsqueeze(-1)\n",
        "        x_vector = x_embed.sum(axis=1) / n_non_pad  # (B, d)\n",
        "\n",
        "        class_scores = self.class_projection(x_vector)  # (B, n_classes)\n",
        "\n",
        "        # TODO\n",
        "\n",
        "        return class_scores"
      ]
    },
    {
      "cell_type": "markdown",
      "metadata": {
        "id": "c0_otRDt7kZt"
      },
      "source": [
        "🔴 **TEST**"
      ]
    },
    {
      "cell_type": "code",
      "execution_count": null,
      "metadata": {
        "id": "niYyi0uXDpTL"
      },
      "outputs": [],
      "source": [
        "model = WordEmbedClassifier(d=50, n_classes=4, vocab_size=10000)\n",
        "\n",
        "seq_len = 10\n",
        "x_without_pad = torch.randint(0, 10000, (1, seq_len))\n",
        "pad_mask = torch.ones(1, seq_len)\n",
        "out_without_pad = model(x_without_pad, pad_mask)\n",
        "\n",
        "x_with_pad = torch.randint(0, 10000, (1, 2 * seq_len))\n",
        "pad_mask = torch.ones(1, 2 * seq_len)\n",
        "pad_mask[:, seq_len:] = 0\n",
        "out_with_pad = model(x_with_pad, pad_mask)\n",
        "\n",
        "assert out_without_pad.shape == out_with_pad.shape"
      ]
    },
    {
      "cell_type": "code",
      "source": [
        "import matplotlib.pyplot as plt\n",
        "from torch import optim\n",
        "\n",
        "\n",
        "# TODO\n",
        "def validation_step(valid_dataloader, model, criterion):\n",
        "    n_valid = len(valid_dataloader.dataset)\n",
        "    model.eval()\n",
        "    total_loss = 0.0\n",
        "    correct = 0\n",
        "    n_iter = 0\n",
        "\n",
        "    with torch.no_grad():\n",
        "        for batch in valid_dataloader:\n",
        "            input_ids = batch[\"input_ids\"]\n",
        "            labels = batch[\"labels\"]\n",
        "            pad_mask= batch[\"pad_mask\"]\n",
        "            output = model(input_ids, pad_mask)\n",
        "            loss = criterion(output, labels)\n",
        "            total_loss += loss.item()\n",
        "            correct += (output.argmax(axis=-1) == labels).sum().item()\n",
        "            n_iter += 1\n",
        "\n",
        "    return total_loss / n_iter, correct / n_valid\n",
        "\n",
        "\n",
        "def train_one_epoch(train_dataloader, model, optimizer, criterion):\n",
        "    model.train()\n",
        "    total_loss = 0.0\n",
        "    correct = 0\n",
        "    n_train = len(train_dataloader.dataset)\n",
        "    n_iter = 0\n",
        "    for batch in train_dataloader:\n",
        "        optimizer.zero_grad() #init the parameters to 0, good practivce\n",
        "        class_scores = model(batch[\"input_ids\"], batch[\"pad_mask\"]) #(B, 4)\n",
        "\n",
        "        loss = criterion(class_scores, batch[\"labels\"]) # scalaire (1,)\n",
        "        loss.backward()\n",
        "        optimizer.step()\n",
        "\n",
        "\n",
        "        total_loss += loss.item()\n",
        "        correct += (class_scores.argmax(axis=-1) == batch[\"labels\"]).sum().item() # .item to convert to python float\n",
        "        n_iter += 1\n",
        "\n",
        "    return total_loss / n_iter, correct / n_train\n",
        "\n",
        "\n",
        "def train(model, train_dataloader, valid_dataloader, lr=0.01, n_epochs=10):\n",
        "    criterion = nn.CrossEntropyLoss()\n",
        "    optimizer = optim.AdamW(model.parameters(), lr=lr)\n",
        "    # Track training loss, training accuracy, validation loss and validation accuracy and plot in the end\n",
        "    train_losses = []\n",
        "    train_accuracies = []\n",
        "    valid_losses = []\n",
        "    valid_accuracies = []\n",
        "\n",
        "    for epoch in range(n_epochs):\n",
        "        train_loss, train_accuracy = train_one_epoch(\n",
        "            train_dataloader, model, optimizer, criterion\n",
        "        )\n",
        "        valid_loss, valid_accuracy = validation_step(valid_dataloader, model, criterion)\n",
        "        print(\n",
        "            f\"Epoch {epoch + 1}: train_loss: {train_loss:.4f}, train_accuracy: {train_accuracy:.4f}, valid_loss: {valid_loss:.4f}, valid_accuracy: {valid_accuracy:.4f}\"\n",
        "        )\n",
        "        train_losses.append(train_loss)\n",
        "        train_accuracies.append(train_accuracy)\n",
        "        valid_losses.append(valid_loss)\n",
        "        valid_accuracies.append(valid_accuracy)\n",
        "\n",
        "    plt.figure(figsize=(12, 6))\n",
        "    plt.subplot(1, 2, 1)\n",
        "    plt.plot(train_losses, label=\"train loss\")\n",
        "    plt.plot(valid_losses, label=\"valid loss\")\n",
        "    plt.legend()\n",
        "    plt.subplot(1, 2, 2)\n",
        "    plt.plot(train_accuracies, label=\"train accuracy\")\n",
        "    plt.plot(valid_accuracies, label=\"valid accuracy\")\n",
        "    plt.legend()\n",
        "\n",
        "\n",
        "model = WordEmbedClassifier(d=50, n_classes=4, vocab_size=len(tokenizer))\n",
        "\n",
        "train(model, train_dataloader, valid_dataloader, n_epochs=10)"
      ],
      "metadata": {
        "colab": {
          "base_uri": "https://localhost:8080/",
          "height": 696
        },
        "id": "0QS3wnbhXMrG",
        "outputId": "e8816a86-8345-4033-d6a6-b2fe98132730"
      },
      "execution_count": null,
      "outputs": [
        {
          "output_type": "stream",
          "name": "stdout",
          "text": [
            "Epoch 1: train_loss: 1.2145, train_accuracy: 0.5067, valid_loss: 0.9251, valid_accuracy: 0.7011\n",
            "Epoch 2: train_loss: 0.5520, train_accuracy: 0.8462, valid_loss: 0.5543, valid_accuracy: 0.8267\n",
            "Epoch 3: train_loss: 0.2048, train_accuracy: 0.9524, valid_loss: 0.4797, valid_accuracy: 0.8344\n",
            "Epoch 4: train_loss: 0.0836, train_accuracy: 0.9867, valid_loss: 0.4629, valid_accuracy: 0.8422\n",
            "Epoch 5: train_loss: 0.0380, train_accuracy: 0.9981, valid_loss: 0.4581, valid_accuracy: 0.8422\n",
            "Epoch 6: train_loss: 0.0209, train_accuracy: 0.9995, valid_loss: 0.4889, valid_accuracy: 0.8367\n",
            "Epoch 7: train_loss: 0.0135, train_accuracy: 1.0000, valid_loss: 0.4656, valid_accuracy: 0.8389\n",
            "Epoch 8: train_loss: 0.0098, train_accuracy: 1.0000, valid_loss: 0.5066, valid_accuracy: 0.8378\n",
            "Epoch 9: train_loss: 0.0075, train_accuracy: 1.0000, valid_loss: 0.4914, valid_accuracy: 0.8411\n",
            "Epoch 10: train_loss: 0.0060, train_accuracy: 1.0000, valid_loss: 0.4871, valid_accuracy: 0.8411\n"
          ]
        },
        {
          "output_type": "display_data",
          "data": {
            "text/plain": [
              "<Figure size 1200x600 with 2 Axes>"
            ],
            "image/png": "[encoded data removed]"
          },
          "metadata": {}
        }
      ]
    },
    {
      "cell_type": "code",
      "execution_count": null,
      "metadata": {
        "colab": {
          "base_uri": "https://localhost:8080/",
          "height": 696
        },
        "id": "4f-Rh0UZ7kZt",
        "outputId": "4bb61d4b-8a10-4c67-f09a-7dc5f418c060"
      },
      "outputs": [
        {
          "output_type": "stream",
          "name": "stdout",
          "text": [
            "Epoch 1: train_loss: 1.3520, train_accuracy: 0.3433, valid_loss: 1.2734, valid_accuracy: 0.4678\n",
            "Epoch 2: train_loss: 1.0119, train_accuracy: 0.6986, valid_loss: 0.8872, valid_accuracy: 0.7111\n",
            "Epoch 3: train_loss: 0.5362, train_accuracy: 0.8714, valid_loss: 0.6466, valid_accuracy: 0.7678\n",
            "Epoch 4: train_loss: 0.2920, train_accuracy: 0.9310, valid_loss: 0.5729, valid_accuracy: 0.7978\n",
            "Epoch 5: train_loss: 0.1721, train_accuracy: 0.9671, valid_loss: 0.5531, valid_accuracy: 0.8033\n",
            "Epoch 6: train_loss: 0.1045, train_accuracy: 0.9862, valid_loss: 0.5273, valid_accuracy: 0.8056\n",
            "Epoch 7: train_loss: 0.0672, train_accuracy: 0.9914, valid_loss: 0.5396, valid_accuracy: 0.8056\n",
            "Epoch 8: train_loss: 0.0447, train_accuracy: 0.9986, valid_loss: 0.5254, valid_accuracy: 0.8056\n",
            "Epoch 9: train_loss: 0.0319, train_accuracy: 0.9995, valid_loss: 0.5341, valid_accuracy: 0.8067\n",
            "Epoch 10: train_loss: 0.0236, train_accuracy: 1.0000, valid_loss: 0.5443, valid_accuracy: 0.8122\n"
          ]
        },
        {
          "output_type": "display_data",
          "data": {
            "text/plain": [
              "<Figure size 1200x600 with 2 Axes>"
            ],
            "image/png": "[encoded data removed]"
          },
          "metadata": {}
        }
      ],
      "source": [
        "model = WordEmbedClassifier(\n",
        "    d=10,\n",
        "    n_classes=4,\n",
        "    vocab_size=len(tokenizer),\n",
        ")\n",
        "train(\n",
        "    model,\n",
        "    train_dataloader=train_dataloader,\n",
        "    valid_dataloader=valid_dataloader,\n",
        "    lr=0.01,\n",
        "    n_epochs=10,\n",
        ")"
      ]
    },
    {
      "cell_type": "markdown",
      "metadata": {
        "id": "TaKrsFY67kZt"
      },
      "source": [
        "## Sequence processing module\n",
        "\n",
        "Now we built a simple classifier using word embeddings.\n",
        "\n",
        "But is our model really different from a simple bag-of-words model?\n",
        "\n",
        "🚧 **Question** 🚧\n",
        "\n",
        "How can we make our model more powerful?\n",
        "\n",
        "**Answer**\n",
        "\n",
        "Convolutoinal layer for the tokens (something like a sliding mean)\n",
        "We can also use reoccurnet neural network to take the previous context in cosideration  "
      ]
    },
    {
      "cell_type": "markdown",
      "metadata": {
        "id": "1NaLa3mF7kZt"
      },
      "source": [
        "🚧 **Question** 🚧\n",
        "\n",
        "What kind of module can we use?\n",
        "\n",
        "**Answer**\n",
        "\n",
        "TODO"
      ]
    },
    {
      "cell_type": "markdown",
      "metadata": {
        "id": "HYd-P_4J7kZt"
      },
      "source": [
        "## Convolution1D\n",
        "\n",
        "Look at the documentation of the Conv1d layer. Read it carefully and try to completely understand the following code. A convolution layer expects a tensor as input, with the following dimensions *(B, D, L)*:\n",
        "- B: size of the batch, the number of examples (here the number of sequences).\n",
        "- D: the dimension of the vectors for each time step\n",
        "- L: the length of the input sequence (the number of tokens in the sequence)."
      ]
    },
    {
      "cell_type": "markdown",
      "metadata": {
        "id": "rIG34euS7kZu"
      },
      "source": [
        "🚧 **Question** 🚧\n",
        "\n",
        "Is this shape directly compatible with our Embeddings layer defined above?"
      ]
    },
    {
      "cell_type": "markdown",
      "metadata": {
        "id": "bw8QN_6F7kZu"
      },
      "source": [
        "🚧 **TODO** 🚧\n",
        "\n",
        "- Make sure the following code computing a convolution run and is consistent.\n",
        "- Draw what happens to better understand the obtained dimensions."
      ]
    },
    {
      "cell_type": "code",
      "execution_count": null,
      "metadata": {
        "colab": {
          "base_uri": "https://localhost:8080/"
        },
        "id": "ZsIncmlI7kZu",
        "outputId": "6c832de3-1455-429a-edd1-bf4185bd688e"
      },
      "outputs": [
        {
          "output_type": "stream",
          "name": "stdout",
          "text": [
            "Sequence embedding shape: torch.Size([2, 50, 50])\n",
            "Convolution output shape: torch.Size([2, 50, 48])\n"
          ]
        }
      ],
      "source": [
        "d_embed = 50\n",
        "embedding_layer = nn.Embedding(num_embeddings=len(tokenizer), embedding_dim=d_embed)\n",
        "\n",
        "sequence_embedding = embedding_layer(batch[\"input_ids\"][:2])\n",
        "print(\"Sequence embedding shape:\", sequence_embedding.shape)\n",
        "\n",
        "convolution_layer = nn.Conv1d(in_channels=d_embed, out_channels=d_embed, kernel_size=3)\n",
        "convolution_output = convolution_layer(sequence_embedding.transpose(1, 2)) #convolution input should be (B, D, L)\n",
        "print(\"Convolution output shape:\", convolution_output.shape)"
      ]
    },
    {
      "cell_type": "markdown",
      "metadata": {
        "id": "vJoP40jD7kZu"
      },
      "source": [
        "🚧 **TODO** 🚧\n",
        "\n",
        "Write a class named \"Conv1dClassifier\" that implements a convolutional neural network for text classification."
      ]
    },
    {
      "cell_type": "code",
      "execution_count": null,
      "metadata": {
        "id": "zDJXTMOY7kZu"
      },
      "outputs": [],
      "source": [
        "class ConvClassifier(nn.Module):\n",
        "    def __init__(self, vocab_size, d, n_classes=4):\n",
        "        super().__init__()\n",
        "        self.embedding_layer = nn.Embedding(vocab_size, d)\n",
        "        self.class_projection = nn.Linear(d, n_classes)\n",
        "        self.conv1 = nn.Conv1d(in_channels=d, out_channels=d, kernel_size=3)\n",
        "        self.conv2 = nn.Conv1d(in_channels=d, out_channels=d, kernel_size=3)\n",
        "\n",
        "    def forward(self, input_ids, pad_mask):\n",
        "            x_embed = self.embedding_layer(input_ids) #(B,L,d)\n",
        "            x_embed = x_embed * pad_mask.unsqueeze(-1)\n",
        "            x_embed = self.conv1(x_embed.transpose(1, 2)) # (B, d, L)\n",
        "            x_embed = torch.relu(x_embed)\n",
        "            x_embed = self.conv2(x_embed).transpose(1, 2) #convolution input should be (B, D, L\n",
        "            #x_vector = x_embed.mean(axis=1)  # (B, d)\n",
        "            pad_mask = pad_mask[:, 2:-2]\n",
        "            n_non_pad = pad_mask.sum(axis=1, keepdim=True) # (B,)\n",
        "\n",
        "            # pad_mask(B,L), x_embed(B, L, d)\n",
        "            x_embed = x_embed * pad_mask[:, :, None] #or pad_mask[:, :, None]\n",
        "            x_vector = x_embed.sum(axis=1) / n_non_pad  # (B, d)\n",
        "\n",
        "            class_scores = self.class_projection(x_vector)  # (B, n_classes)\n",
        "\n",
        "            # TODO\n",
        "\n",
        "            return class_scores"
      ]
    },
    {
      "cell_type": "code",
      "execution_count": null,
      "metadata": {
        "colab": {
          "base_uri": "https://localhost:8080/",
          "height": 696
        },
        "id": "iNZBcYmE7kZu",
        "outputId": "efd64566-300c-44f9-c2e2-8924312d829c"
      },
      "outputs": [
        {
          "output_type": "stream",
          "name": "stdout",
          "text": [
            "Epoch 1: train_loss: 1.3923, train_accuracy: 0.2490, valid_loss: 1.3822, valid_accuracy: 0.2867\n",
            "Epoch 2: train_loss: 1.3769, train_accuracy: 0.3048, valid_loss: 1.3772, valid_accuracy: 0.3044\n",
            "Epoch 3: train_loss: 1.3603, train_accuracy: 0.3643, valid_loss: 1.3598, valid_accuracy: 0.3467\n",
            "Epoch 4: train_loss: 1.3159, train_accuracy: 0.4024, valid_loss: 1.3068, valid_accuracy: 0.3711\n",
            "Epoch 5: train_loss: 1.2230, train_accuracy: 0.4452, valid_loss: 1.2408, valid_accuracy: 0.4011\n",
            "Epoch 6: train_loss: 1.1237, train_accuracy: 0.5005, valid_loss: 1.2013, valid_accuracy: 0.4822\n",
            "Epoch 7: train_loss: 1.0307, train_accuracy: 0.5633, valid_loss: 1.1552, valid_accuracy: 0.5056\n",
            "Epoch 8: train_loss: 0.9372, train_accuracy: 0.6152, valid_loss: 1.0890, valid_accuracy: 0.5456\n",
            "Epoch 9: train_loss: 0.8465, train_accuracy: 0.6648, valid_loss: 1.0933, valid_accuracy: 0.5733\n",
            "Epoch 10: train_loss: 0.7614, train_accuracy: 0.7100, valid_loss: 1.0394, valid_accuracy: 0.5911\n"
          ]
        },
        {
          "output_type": "display_data",
          "data": {
            "text/plain": [
              "<Figure size 1200x600 with 2 Axes>"
            ],
            "image/png": "[encoded data removed]"
          },
          "metadata": {}
        }
      ],
      "source": [
        "model = ConvClassifier(\n",
        "    d=10,\n",
        "    n_classes=4,\n",
        "    vocab_size=len(tokenizer),\n",
        ")\n",
        "train(\n",
        "    model,\n",
        "    train_dataloader=train_dataloader,\n",
        "    valid_dataloader=valid_dataloader,\n",
        "    lr=0.001,\n",
        "    n_epochs=10,\n",
        ")"
      ]
    }
  ],
  "metadata": {
    "accelerator": "GPU",
    "colab": {
      "provenance": [],
      "include_colab_link": true
    },
    "kernelspec": {
      "display_name": "env-llm",
      "language": "python",
      "name": "python3"
    },
    "language_info": {
      "codemirror_mode": {
        "name": "ipython",
        "version": 3
      },
      "file_extension": ".py",
      "mimetype": "text/x-python",
      "name": "python",
      "nbconvert_exporter": "python",
      "pygments_lexer": "ipython3",
      "version": "3.9.20"
    },
    "toc": {
      "base_numbering": 1,
      "nav_menu": {},
      "number_sections": true,
      "sideBar": true,
      "skip_h1_title": false,
      "title_cell": "Table of Contents",
      "title_sidebar": "Contents",
      "toc_cell": false,
      "toc_position": {},
      "toc_section_display": true,
      "toc_window_display": false
    },
    "widgets": {
      "application/vnd.jupyter.widget-state+json": {
        "4b774222e7ff4a72bede317aa2ba2e63": {
          "model_module": "@jupyter-widgets/controls",
          "model_name": "HBoxModel",
          "model_module_version": "1.5.0",
          "state": {
            "_dom_classes": [],
            "_model_module": "@jupyter-widgets/controls",
            "_model_module_version": "1.5.0",
            "_model_name": "HBoxModel",
            "_view_count": null,
            "_view_module": "@jupyter-widgets/controls",
            "_view_module_version": "1.5.0",
            "_view_name": "HBoxView",
            "box_style": "",
            "children": [
              "IPY_MODEL_12c5a09c15bc4ee89366cd5487533cc6",
              "IPY_MODEL_e639960626034d99aa75ce1e7f668887",
              "IPY_MODEL_e64599287c3844f984bb935257684265"
            ],
            "layout": "IPY_MODEL_15630071678f43d9b7e0a627f8ca76fb"
          }
        },
        "12c5a09c15bc4ee89366cd5487533cc6": {
          "model_module": "@jupyter-widgets/controls",
          "model_name": "HTMLModel",
          "model_module_version": "1.5.0",
          "state": {
            "_dom_classes": [],
            "_model_module": "@jupyter-widgets/controls",
            "_model_module_version": "1.5.0",
            "_model_name": "HTMLModel",
            "_view_count": null,
            "_view_module": "@jupyter-widgets/controls",
            "_view_module_version": "1.5.0",
            "_view_name": "HTMLView",
            "description": "",
            "description_tooltip": null,
            "layout": "IPY_MODEL_68790aa4eb2849b29ef7c2e39fa19a03",
            "placeholder": "​",
            "style": "IPY_MODEL_ffc83ce2f2b04770b680145ba6c0bb12",
            "value": "Map: 100%"
          }
        },
        "e639960626034d99aa75ce1e7f668887": {
          "model_module": "@jupyter-widgets/controls",
          "model_name": "FloatProgressModel",
          "model_module_version": "1.5.0",
          "state": {
            "_dom_classes": [],
            "_model_module": "@jupyter-widgets/controls",
            "_model_module_version": "1.5.0",
            "_model_name": "FloatProgressModel",
            "_view_count": null,
            "_view_module": "@jupyter-widgets/controls",
            "_view_module_version": "1.5.0",
            "_view_name": "ProgressView",
            "bar_style": "success",
            "description": "",
            "description_tooltip": null,
            "layout": "IPY_MODEL_f28c2914bcef4d4c89ab805418714072",
            "max": 2100,
            "min": 0,
            "orientation": "horizontal",
            "style": "IPY_MODEL_5068fcb8f2734fd99c6672921efc9f0c",
            "value": 2100
          }
        },
        "e64599287c3844f984bb935257684265": {
          "model_module": "@jupyter-widgets/controls",
          "model_name": "HTMLModel",
          "model_module_version": "1.5.0",
          "state": {
            "_dom_classes": [],
            "_model_module": "@jupyter-widgets/controls",
            "_model_module_version": "1.5.0",
            "_model_name": "HTMLModel",
            "_view_count": null,
            "_view_module": "@jupyter-widgets/controls",
            "_view_module_version": "1.5.0",
            "_view_name": "HTMLView",
            "description": "",
            "description_tooltip": null,
            "layout": "IPY_MODEL_41eefe6d69c84eb2b61b1df60112660b",
            "placeholder": "​",
            "style": "IPY_MODEL_7c0f920feeac4b3aa495872fbbe87f93",
            "value": " 2100/2100 [00:00&lt;00:00, 7560.45 examples/s]"
          }
        },
        "15630071678f43d9b7e0a627f8ca76fb": {
          "model_module": "@jupyter-widgets/base",
          "model_name": "LayoutModel",
          "model_module_version": "1.2.0",
          "state": {
            "_model_module": "@jupyter-widgets/base",
            "_model_module_version": "1.2.0",
            "_model_name": "LayoutModel",
            "_view_count": null,
            "_view_module": "@jupyter-widgets/base",
            "_view_module_version": "1.2.0",
            "_view_name": "LayoutView",
            "align_content": null,
            "align_items": null,
            "align_self": null,
            "border": null,
            "bottom": null,
            "display": null,
            "flex": null,
            "flex_flow": null,
            "grid_area": null,
            "grid_auto_columns": null,
            "grid_auto_flow": null,
            "grid_auto_rows": null,
            "grid_column": null,
            "grid_gap": null,
            "grid_row": null,
            "grid_template_areas": null,
            "grid_template_columns": null,
            "grid_template_rows": null,
            "height": null,
            "justify_content": null,
            "justify_items": null,
            "left": null,
            "margin": null,
            "max_height": null,
            "max_width": null,
            "min_height": null,
            "min_width": null,
            "object_fit": null,
            "object_position": null,
            "order": null,
            "overflow": null,
            "overflow_x": null,
            "overflow_y": null,
            "padding": null,
            "right": null,
            "top": null,
            "visibility": null,
            "width": null
          }
        },
        "68790aa4eb2849b29ef7c2e39fa19a03": {
          "model_module": "@jupyter-widgets/base",
          "model_name": "LayoutModel",
          "model_module_version": "1.2.0",
          "state": {
            "_model_module": "@jupyter-widgets/base",
            "_model_module_version": "1.2.0",
            "_model_name": "LayoutModel",
            "_view_count": null,
            "_view_module": "@jupyter-widgets/base",
            "_view_module_version": "1.2.0",
            "_view_name": "LayoutView",
            "align_content": null,
            "align_items": null,
            "align_self": null,
            "border": null,
            "bottom": null,
            "display": null,
            "flex": null,
            "flex_flow": null,
            "grid_area": null,
            "grid_auto_columns": null,
            "grid_auto_flow": null,
            "grid_auto_rows": null,
            "grid_column": null,
            "grid_gap": null,
            "grid_row": null,
            "grid_template_areas": null,
            "grid_template_columns": null,
            "grid_template_rows": null,
            "height": null,
            "justify_content": null,
            "justify_items": null,
            "left": null,
            "margin": null,
            "max_height": null,
            "max_width": null,
            "min_height": null,
            "min_width": null,
            "object_fit": null,
            "object_position": null,
            "order": null,
            "overflow": null,
            "overflow_x": null,
            "overflow_y": null,
            "padding": null,
            "right": null,
            "top": null,
            "visibility": null,
            "width": null
          }
        },
        "ffc83ce2f2b04770b680145ba6c0bb12": {
          "model_module": "@jupyter-widgets/controls",
          "model_name": "DescriptionStyleModel",
          "model_module_version": "1.5.0",
          "state": {
            "_model_module": "@jupyter-widgets/controls",
            "_model_module_version": "1.5.0",
            "_model_name": "DescriptionStyleModel",
            "_view_count": null,
            "_view_module": "@jupyter-widgets/base",
            "_view_module_version": "1.2.0",
            "_view_name": "StyleView",
            "description_width": ""
          }
        },
        "f28c2914bcef4d4c89ab805418714072": {
          "model_module": "@jupyter-widgets/base",
          "model_name": "LayoutModel",
          "model_module_version": "1.2.0",
          "state": {
            "_model_module": "@jupyter-widgets/base",
            "_model_module_version": "1.2.0",
            "_model_name": "LayoutModel",
            "_view_count": null,
            "_view_module": "@jupyter-widgets/base",
            "_view_module_version": "1.2.0",
            "_view_name": "LayoutView",
            "align_content": null,
            "align_items": null,
            "align_self": null,
            "border": null,
            "bottom": null,
            "display": null,
            "flex": null,
            "flex_flow": null,
            "grid_area": null,
            "grid_auto_columns": null,
            "grid_auto_flow": null,
            "grid_auto_rows": null,
            "grid_column": null,
            "grid_gap": null,
            "grid_row": null,
            "grid_template_areas": null,
            "grid_template_columns": null,
            "grid_template_rows": null,
            "height": null,
            "justify_content": null,
            "justify_items": null,
            "left": null,
            "margin": null,
            "max_height": null,
            "max_width": null,
            "min_height": null,
            "min_width": null,
            "object_fit": null,
            "object_position": null,
            "order": null,
            "overflow": null,
            "overflow_x": null,
            "overflow_y": null,
            "padding": null,
            "right": null,
            "top": null,
            "visibility": null,
            "width": null
          }
        },
        "5068fcb8f2734fd99c6672921efc9f0c": {
          "model_module": "@jupyter-widgets/controls",
          "model_name": "ProgressStyleModel",
          "model_module_version": "1.5.0",
          "state": {
            "_model_module": "@jupyter-widgets/controls",
            "_model_module_version": "1.5.0",
            "_model_name": "ProgressStyleModel",
            "_view_count": null,
            "_view_module": "@jupyter-widgets/base",
            "_view_module_version": "1.2.0",
            "_view_name": "StyleView",
            "bar_color": null,
            "description_width": ""
          }
        },
        "41eefe6d69c84eb2b61b1df60112660b": {
          "model_module": "@jupyter-widgets/base",
          "model_name": "LayoutModel",
          "model_module_version": "1.2.0",
          "state": {
            "_model_module": "@jupyter-widgets/base",
            "_model_module_version": "1.2.0",
            "_model_name": "LayoutModel",
            "_view_count": null,
            "_view_module": "@jupyter-widgets/base",
            "_view_module_version": "1.2.0",
            "_view_name": "LayoutView",
            "align_content": null,
            "align_items": null,
            "align_self": null,
            "border": null,
            "bottom": null,
            "display": null,
            "flex": null,
            "flex_flow": null,
            "grid_area": null,
            "grid_auto_columns": null,
            "grid_auto_flow": null,
            "grid_auto_rows": null,
            "grid_column": null,
            "grid_gap": null,
            "grid_row": null,
            "grid_template_areas": null,
            "grid_template_columns": null,
            "grid_template_rows": null,
            "height": null,
            "justify_content": null,
            "justify_items": null,
            "left": null,
            "margin": null,
            "max_height": null,
            "max_width": null,
            "min_height": null,
            "min_width": null,
            "object_fit": null,
            "object_position": null,
            "order": null,
            "overflow": null,
            "overflow_x": null,
            "overflow_y": null,
            "padding": null,
            "right": null,
            "top": null,
            "visibility": null,
            "width": null
          }
        },
        "7c0f920feeac4b3aa495872fbbe87f93": {
          "model_module": "@jupyter-widgets/controls",
          "model_name": "DescriptionStyleModel",
          "model_module_version": "1.5.0",
          "state": {
            "_model_module": "@jupyter-widgets/controls",
            "_model_module_version": "1.5.0",
            "_model_name": "DescriptionStyleModel",
            "_view_count": null,
            "_view_module": "@jupyter-widgets/base",
            "_view_module_version": "1.2.0",
            "_view_name": "StyleView",
            "description_width": ""
          }
        },
        "798ad2af5c2b414a893b7c8d45a832fd": {
          "model_module": "@jupyter-widgets/controls",
          "model_name": "HBoxModel",
          "model_module_version": "1.5.0",
          "state": {
            "_dom_classes": [],
            "_model_module": "@jupyter-widgets/controls",
            "_model_module_version": "1.5.0",
            "_model_name": "HBoxModel",
            "_view_count": null,
            "_view_module": "@jupyter-widgets/controls",
            "_view_module_version": "1.5.0",
            "_view_name": "HBoxView",
            "box_style": "",
            "children": [
              "IPY_MODEL_bf7c2610d67b43b38500e8c100317f13",
              "IPY_MODEL_266891f837b74b01a269cd026d0f3f3a",
              "IPY_MODEL_64466bd4000e4dfd8927dbc993479efa"
            ],
            "layout": "IPY_MODEL_82e16617325147ca8bfa4f45da0ca036"
          }
        },
        "bf7c2610d67b43b38500e8c100317f13": {
          "model_module": "@jupyter-widgets/controls",
          "model_name": "HTMLModel",
          "model_module_version": "1.5.0",
          "state": {
            "_dom_classes": [],
            "_model_module": "@jupyter-widgets/controls",
            "_model_module_version": "1.5.0",
            "_model_name": "HTMLModel",
            "_view_count": null,
            "_view_module": "@jupyter-widgets/controls",
            "_view_module_version": "1.5.0",
            "_view_name": "HTMLView",
            "description": "",
            "description_tooltip": null,
            "layout": "IPY_MODEL_6906d9923e1844bd9ef33123986d6c4a",
            "placeholder": "​",
            "style": "IPY_MODEL_108407d2bfd14a5fb9ff1dcd96b5237d",
            "value": "Map: 100%"
          }
        },
        "266891f837b74b01a269cd026d0f3f3a": {
          "model_module": "@jupyter-widgets/controls",
          "model_name": "FloatProgressModel",
          "model_module_version": "1.5.0",
          "state": {
            "_dom_classes": [],
            "_model_module": "@jupyter-widgets/controls",
            "_model_module_version": "1.5.0",
            "_model_name": "FloatProgressModel",
            "_view_count": null,
            "_view_module": "@jupyter-widgets/controls",
            "_view_module_version": "1.5.0",
            "_view_name": "ProgressView",
            "bar_style": "success",
            "description": "",
            "description_tooltip": null,
            "layout": "IPY_MODEL_eb65ef4e4b2541f586278d1ff47070e5",
            "max": 900,
            "min": 0,
            "orientation": "horizontal",
            "style": "IPY_MODEL_3291281e095c498485b79c2d95a78eb4",
            "value": 900
          }
        },
        "64466bd4000e4dfd8927dbc993479efa": {
          "model_module": "@jupyter-widgets/controls",
          "model_name": "HTMLModel",
          "model_module_version": "1.5.0",
          "state": {
            "_dom_classes": [],
            "_model_module": "@jupyter-widgets/controls",
            "_model_module_version": "1.5.0",
            "_model_name": "HTMLModel",
            "_view_count": null,
            "_view_module": "@jupyter-widgets/controls",
            "_view_module_version": "1.5.0",
            "_view_name": "HTMLView",
            "description": "",
            "description_tooltip": null,
            "layout": "IPY_MODEL_a3c4a3bf6ee94d95a73e909f9e3e0275",
            "placeholder": "​",
            "style": "IPY_MODEL_d362fa6e07b34624a8e47ec518ebac9d",
            "value": " 900/900 [00:00&lt;00:00, 5179.58 examples/s]"
          }
        },
        "82e16617325147ca8bfa4f45da0ca036": {
          "model_module": "@jupyter-widgets/base",
          "model_name": "LayoutModel",
          "model_module_version": "1.2.0",
          "state": {
            "_model_module": "@jupyter-widgets/base",
            "_model_module_version": "1.2.0",
            "_model_name": "LayoutModel",
            "_view_count": null,
            "_view_module": "@jupyter-widgets/base",
            "_view_module_version": "1.2.0",
            "_view_name": "LayoutView",
            "align_content": null,
            "align_items": null,
            "align_self": null,
            "border": null,
            "bottom": null,
            "display": null,
            "flex": null,
            "flex_flow": null,
            "grid_area": null,
            "grid_auto_columns": null,
            "grid_auto_flow": null,
            "grid_auto_rows": null,
            "grid_column": null,
            "grid_gap": null,
            "grid_row": null,
            "grid_template_areas": null,
            "grid_template_columns": null,
            "grid_template_rows": null,
            "height": null,
            "justify_content": null,
            "justify_items": null,
            "left": null,
            "margin": null,
            "max_height": null,
            "max_width": null,
            "min_height": null,
            "min_width": null,
            "object_fit": null,
            "object_position": null,
            "order": null,
            "overflow": null,
            "overflow_x": null,
            "overflow_y": null,
            "padding": null,
            "right": null,
            "top": null,
            "visibility": null,
            "width": null
          }
        },
        "6906d9923e1844bd9ef33123986d6c4a": {
          "model_module": "@jupyter-widgets/base",
          "model_name": "LayoutModel",
          "model_module_version": "1.2.0",
          "state": {
            "_model_module": "@jupyter-widgets/base",
            "_model_module_version": "1.2.0",
            "_model_name": "LayoutModel",
            "_view_count": null,
            "_view_module": "@jupyter-widgets/base",
            "_view_module_version": "1.2.0",
            "_view_name": "LayoutView",
            "align_content": null,
            "align_items": null,
            "align_self": null,
            "border": null,
            "bottom": null,
            "display": null,
            "flex": null,
            "flex_flow": null,
            "grid_area": null,
            "grid_auto_columns": null,
            "grid_auto_flow": null,
            "grid_auto_rows": null,
            "grid_column": null,
            "grid_gap": null,
            "grid_row": null,
            "grid_template_areas": null,
            "grid_template_columns": null,
            "grid_template_rows": null,
            "height": null,
            "justify_content": null,
            "justify_items": null,
            "left": null,
            "margin": null,
            "max_height": null,
            "max_width": null,
            "min_height": null,
            "min_width": null,
            "object_fit": null,
            "object_position": null,
            "order": null,
            "overflow": null,
            "overflow_x": null,
            "overflow_y": null,
            "padding": null,
            "right": null,
            "top": null,
            "visibility": null,
            "width": null
          }
        },
        "108407d2bfd14a5fb9ff1dcd96b5237d": {
          "model_module": "@jupyter-widgets/controls",
          "model_name": "DescriptionStyleModel",
          "model_module_version": "1.5.0",
          "state": {
            "_model_module": "@jupyter-widgets/controls",
            "_model_module_version": "1.5.0",
            "_model_name": "DescriptionStyleModel",
            "_view_count": null,
            "_view_module": "@jupyter-widgets/base",
            "_view_module_version": "1.2.0",
            "_view_name": "StyleView",
            "description_width": ""
          }
        },
        "eb65ef4e4b2541f586278d1ff47070e5": {
          "model_module": "@jupyter-widgets/base",
          "model_name": "LayoutModel",
          "model_module_version": "1.2.0",
          "state": {
            "_model_module": "@jupyter-widgets/base",
            "_model_module_version": "1.2.0",
            "_model_name": "LayoutModel",
            "_view_count": null,
            "_view_module": "@jupyter-widgets/base",
            "_view_module_version": "1.2.0",
            "_view_name": "LayoutView",
            "align_content": null,
            "align_items": null,
            "align_self": null,
            "border": null,
            "bottom": null,
            "display": null,
            "flex": null,
            "flex_flow": null,
            "grid_area": null,
            "grid_auto_columns": null,
            "grid_auto_flow": null,
            "grid_auto_rows": null,
            "grid_column": null,
            "grid_gap": null,
            "grid_row": null,
            "grid_template_areas": null,
            "grid_template_columns": null,
            "grid_template_rows": null,
            "height": null,
            "justify_content": null,
            "justify_items": null,
            "left": null,
            "margin": null,
            "max_height": null,
            "max_width": null,
            "min_height": null,
            "min_width": null,
            "object_fit": null,
            "object_position": null,
            "order": null,
            "overflow": null,
            "overflow_x": null,
            "overflow_y": null,
            "padding": null,
            "right": null,
            "top": null,
            "visibility": null,
            "width": null
          }
        },
        "3291281e095c498485b79c2d95a78eb4": {
          "model_module": "@jupyter-widgets/controls",
          "model_name": "ProgressStyleModel",
          "model_module_version": "1.5.0",
          "state": {
            "_model_module": "@jupyter-widgets/controls",
            "_model_module_version": "1.5.0",
            "_model_name": "ProgressStyleModel",
            "_view_count": null,
            "_view_module": "@jupyter-widgets/base",
            "_view_module_version": "1.2.0",
            "_view_name": "StyleView",
            "bar_color": null,
            "description_width": ""
          }
        },
        "a3c4a3bf6ee94d95a73e909f9e3e0275": {
          "model_module": "@jupyter-widgets/base",
          "model_name": "LayoutModel",
          "model_module_version": "1.2.0",
          "state": {
            "_model_module": "@jupyter-widgets/base",
            "_model_module_version": "1.2.0",
            "_model_name": "LayoutModel",
            "_view_count": null,
            "_view_module": "@jupyter-widgets/base",
            "_view_module_version": "1.2.0",
            "_view_name": "LayoutView",
            "align_content": null,
            "align_items": null,
            "align_self": null,
            "border": null,
            "bottom": null,
            "display": null,
            "flex": null,
            "flex_flow": null,
            "grid_area": null,
            "grid_auto_columns": null,
            "grid_auto_flow": null,
            "grid_auto_rows": null,
            "grid_column": null,
            "grid_gap": null,
            "grid_row": null,
            "grid_template_areas": null,
            "grid_template_columns": null,
            "grid_template_rows": null,
            "height": null,
            "justify_content": null,
            "justify_items": null,
            "left": null,
            "margin": null,
            "max_height": null,
            "max_width": null,
            "min_height": null,
            "min_width": null,
            "object_fit": null,
            "object_position": null,
            "order": null,
            "overflow": null,
            "overflow_x": null,
            "overflow_y": null,
            "padding": null,
            "right": null,
            "top": null,
            "visibility": null,
            "width": null
          }
        },
        "d362fa6e07b34624a8e47ec518ebac9d": {
          "model_module": "@jupyter-widgets/controls",
          "model_name": "DescriptionStyleModel",
          "model_module_version": "1.5.0",
          "state": {
            "_model_module": "@jupyter-widgets/controls",
            "_model_module_version": "1.5.0",
            "_model_name": "DescriptionStyleModel",
            "_view_count": null,
            "_view_module": "@jupyter-widgets/base",
            "_view_module_version": "1.2.0",
            "_view_name": "StyleView",
            "description_width": ""
          }
        }
      }
    }
  },
  "nbformat": 4,
  "nbformat_minor": 0
}