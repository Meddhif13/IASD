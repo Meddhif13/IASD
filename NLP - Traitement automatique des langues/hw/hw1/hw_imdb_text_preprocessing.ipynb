{
  "cells": [
    {
      "cell_type": "markdown",
      "metadata": {
        "id": "view-in-github",
        "colab_type": "text"
      },
      "source": [
        "<a href=\"https://colab.research.google.com/github/Meddhif13/ChallengeData/blob/main/hw/hw1/hw_imdb_text_preprocessing.ipynb\" target=\"_parent\"><img src=\"https://colab.research.google.com/assets/colab-badge.svg\" alt=\"Open In Colab\"/></a>"
      ]
    },
    {
      "cell_type": "code",
      "execution_count": 57,
      "metadata": {
        "id": "s-8ltYHfbs5B"
      },
      "outputs": [],
      "source": [
        "import pandas as pd\n",
        "from google_drive_downloader import GoogleDriveDownloader as gdd\n",
        "from pathlib import Path\n",
        "from typing import List, Dict\n",
        "from tqdm.notebook import tqdm\n",
        "import numpy as np\n",
        "import matplotlib.pyplot as plt\n",
        "import random\n",
        "import string"
      ]
    },
    {
      "cell_type": "markdown",
      "metadata": {
        "id": "laDowDK-m6Ag"
      },
      "source": [
        "# HW Instructions\n",
        "\n",
        "## Code guideline\n",
        "This notebook is intended to be executed in a standard **Google Colab** notebook.\n",
        "https://colab.research.google.com/\n",
        "\n",
        "The notebook will be executed and evaluated on Google Colab.\n",
        "\n",
        "## 🚧 Cells\n",
        "All the cells identified with a 🚧 should be completed, either by a code or an written answer.\n",
        "You can add as many cells as you want, but in general cells are already in place.\n",
        "\n",
        "\n",
        "🚧 **TODO** 🚧\n",
        "\n",
        "*Requires to complete a code (can be completed with optional text cells if you find it relevant).*\n",
        "\n",
        "or\n",
        "\n",
        "🚧 **Question** 🚧\n",
        "\n",
        "*Requires a written answer (can be completed with optional code cells if you find it relevant).*\n",
        "\n",
        "## 🔴 Test cells\n",
        "Cells identified with 🔴 should be left untouched and shouldn't return any error.\n",
        "\n",
        "## Presentation\n",
        "The overall presentation of the notebook will account in the grading process.\n",
        "Some advice:\n",
        "- Give title to your figures.\n",
        "- Put legends on the figures.\n",
        "- Comment the figures if they are not self-explanatory.\n",
        "- Add comment in the code if not self-explanatory.\n",
        "- Review your notebook before submitting.\n",
        "- Feel free to add any additional illustration if you find it will bring something.\n",
        "- Remain as concise as possible when answering written answer, emphasize the important points.\n",
        "\n",
        "**We cannot debug every notebooks. The notebook should run entirely from the start to the end without any error. If one cell returns an error during the execution, only the cells before the error will be graded.**\n",
        "\n"
      ]
    },
    {
      "cell_type": "markdown",
      "metadata": {
        "id": "PaBJpPWfW45L"
      },
      "source": [
        "# HW Introduction\n",
        "\n",
        "## Hands on with NLP preprocessing\n",
        "\n",
        "The goal of this first homework is to introduce the preprocessing steps in NLP. This step is necessary, very valuable but often not emphasized enough.\n",
        "\n",
        "## Plan\n",
        "\n",
        "1. Load the data\n",
        "2. Analyze and clean the text data\n",
        "3. Format the texts for Deep Learning models and pytorch (i.e. tokenize, etc).\n",
        "\n",
        "## Notations\n",
        "\n",
        "Throughout the HW, a text will be called either **document** or **text**.\n",
        "\n",
        "\n",
        "# I - Data loading"
      ]
    },
    {
      "cell_type": "code",
      "execution_count": 58,
      "metadata": {
        "id": "Eri6thqeX_MC"
      },
      "outputs": [],
      "source": [
        "def download_imdb(output_path: str, force_download: bool = False):\n",
        "    \"\"\"Save the data to `output_path`.\"\"\"\n",
        "    output_path = Path(output_path)\n",
        "    if (not output_path.is_file()) or force_download:\n",
        "        gdd.download_file_from_google_drive(\n",
        "            file_id=\"1zfM5E6HvKIe7f3rEt1V2gBpw5QOSSKQz\",\n",
        "            dest_path=output_path,\n",
        "        )\n",
        "    return"
      ]
    },
    {
      "cell_type": "code",
      "execution_count": 59,
      "metadata": {
        "id": "BJ9S1a1jW45M"
      },
      "outputs": [],
      "source": [
        "DATA_PATH = \"data/imdb_reviews.csv\"\n",
        "download_imdb(output_path=DATA_PATH, force_download=False)"
      ]
    },
    {
      "cell_type": "markdown",
      "metadata": {
        "id": "NGT4vDXmZDTT"
      },
      "source": [
        "🚧 **TODO** 🚧\n",
        "\n",
        "Read the file to a Pandas dataframe (the file is stored as a csv). Make sure the \"review\" field is of dtype `string` and label of dtype `int`.\n",
        "\n",
        "Hint: https://pandas.pydata.org/docs/user_guide/text.html (you can specify the `dtype` argument of pandas constructor).\n"
      ]
    },
    {
      "cell_type": "code",
      "execution_count": 60,
      "metadata": {
        "id": "gbQw5TGPha20"
      },
      "outputs": [],
      "source": [
        "df_imdb = pd.read_csv(DATA_PATH, dtype={\"review\": \"string\", \"label\": \"int\"})"
      ]
    },
    {
      "cell_type": "code",
      "execution_count": 61,
      "metadata": {
        "id": "CAv44K5tpMHF"
      },
      "outputs": [],
      "source": [
        "text_column = df_imdb[\"review\"]\n",
        "label_column = df_imdb[\"label\"]"
      ]
    },
    {
      "cell_type": "markdown",
      "metadata": {
        "id": "hqaE3bBDpPVK"
      },
      "source": [
        "🔴 **TEST**"
      ]
    },
    {
      "cell_type": "code",
      "execution_count": 62,
      "metadata": {
        "id": "-gMHYuJHcQB5"
      },
      "outputs": [],
      "source": [
        "assert text_column.dtype == \"string\"\n",
        "assert label_column.dtype == int"
      ]
    },
    {
      "cell_type": "markdown",
      "metadata": {
        "id": "EMTjOSWEbM6Q"
      },
      "source": [
        "🚧 **TODO** 🚧\n",
        "\n",
        "Print some values of the dataframe.\n",
        "- Print 3 samples of text.\n",
        "- Print their associated labels.\n",
        "- Print some statistics of the dataset.\n",
        "\n"
      ]
    },
    {
      "cell_type": "code",
      "execution_count": 63,
      "metadata": {
        "id": "-aQ0d6IIgRO_",
        "outputId": "0b0776fd-5733-4301-f98f-291d2475fa3a",
        "colab": {
          "base_uri": "https://localhost:8080/",
          "height": 751
        }
      },
      "outputs": [
        {
          "output_type": "stream",
          "name": "stdout",
          "text": [
            "==== 3 First Reviews and Their Labels ====\n",
            "Review: Once again Mr. Costner has dragged out a movie for far longer than necessary. Aside from the terrific sea rescue sequences, of which there are very few I just did not care about any of the characters. Most of us have ghosts in the closet, and Costner's character are realized early on, and then forgotten until much later, by which time I did not care. The character we should really care about is a very cocky, overconfident Ashton Kutcher. The problem is he comes off as kid who thinks he's better than anyone else around him and shows no signs of a cluttered closet. His only obstacle appears to be winning over Costner. Finally when we are well past the half way point of this stinker, Costner tells us all about Kutcher's ghosts. We are told why Kutcher is driven to be the best with no prior inkling or foreshadowing. No magic here, it was all I could do to keep from turning it off an hour in.\n",
            "Label: 0\n",
            "\n",
            "Review: This is an example of why the majority of action films are the same. Generic and boring, there's really nothing worth watching here. A complete waste of the then barely-tapped talents of Ice-T and Ice Cube, who've each proven many times over that they are capable of acting, and acting well. Don't bother with this one, go see New Jack City, Ricochet or watch New York Undercover for Ice-T, or Boyz n the Hood, Higher Learning or Friday for Ice Cube and see the real deal. Ice-T's horribly cliched dialogue alone makes this film grate at the teeth, and I'm still wondering what the heck Bill Paxton was doing in this film? And why the heck does he always play the exact same character? From Aliens onward, every film I've seen with Bill Paxton has him playing the exact same irritating character, and at least in Aliens his character died, which made it somewhat gratifying...<br /><br />Overall, this is second-rate action trash. There are countless better films to see, and if you really want to see this one, watch Judgement Night, which is practically a carbon copy but has better acting and a better script. The only thing that made this at all worth watching was a decent hand on the camera - the cinematography was almost refreshing, which comes close to making up for the horrible film itself - but not quite. 4/10.\n",
            "Label: 0\n",
            "\n",
            "Review: First of all I hate those moronic rappers, who could'nt act if they had a gun pressed against their foreheads. All they do is curse and shoot each other and acting like clichÃ©'e version of gangsters.<br /><br />The movie doesn't take more than five minutes to explain what is going on before we're already at the warehouse There is not a single sympathetic character in this movie, except for the homeless guy, who is also the only one with half a brain.<br /><br />Bill Paxton and William Sadler are both hill billies and Sadlers character is just as much a villain as the gangsters. I did'nt like him right from the start.<br /><br />The movie is filled with pointless violence and Walter Hills specialty: people falling through windows with glass flying everywhere. There is pretty much no plot and it is a big problem when you root for no-one. Everybody dies, except from Paxton and the homeless guy and everybody get what they deserve.<br /><br />The only two black people that can act is the homeless guy and the junkie but they're actors by profession, not annoying ugly brain dead rappers.<br /><br />Stay away from this crap and watch 48 hours 1 and 2 instead. At lest they have characters you care about, a sense of humor and nothing but real actors in the cast.\n",
            "Label: 0\n",
            "\n",
            "\n",
            "=== Dataset Statistics ===\n",
            "Total number of texts: 62155.\n",
            "Average text length: 1374.04 characters. [Average review length indicates the need for efficient tokenization.]\n",
            "Percentage of positive texts: 49.67%\n"
          ]
        },
        {
          "output_type": "display_data",
          "data": {
            "text/plain": [
              "<Figure size 640x480 with 1 Axes>"
            ],
            "image/png": "[encoded data removed]"
          },
          "metadata": {}
        }
      ],
      "source": [
        "# Print the first 3 reviews and their corresponding labels for inspection\n",
        "print(\"==== 3 First Reviews and Their Labels ====\")\n",
        "for review, label in zip(text_column.iloc[:3], label_column.iloc[:3]):\n",
        "    print(f\"Review: {review}\\nLabel: {label}\\n\")  # Display both review and label\n",
        "\n",
        "# Print basic dataset statistics\n",
        "print(\"\\n=== Dataset Statistics ===\")\n",
        "print(f\"Total number of texts: {len(text_column)}.\")  # Total number of reviews\n",
        "print(f\"Average text length: {text_column.apply(len).mean():.2f} characters. [Average review length indicates the need for efficient tokenization.]\")  # Average length of reviews\n",
        "print(f\"Percentage of positive texts: {(label_column.mean() * 100):.2f}%\")  # Percentage of positive sentiment reviews\n",
        "\n",
        "# Generate a pie chart for label distribution\n",
        "label_counts = label_column.value_counts()  # Count occurrences of each label (0 and 1)\n",
        "fig, ax = plt.subplots()\n",
        "label_counts.plot(kind='pie',autopct='%1.1f%%',labels=[\"Negative\", \"Positive\"],title=\"Label Distribution\",ylabel=\"\",ax=ax)\n",
        "observation_text = \"Observation: The dataset is well-balanced\\nwith nearly 50% positive reviews.\"\n",
        "plt.text(-1.5, -1.5, observation_text, fontsize=10, wrap=True)\n",
        "plt.show()\n"
      ]
    },
    {
      "cell_type": "markdown",
      "metadata": {
        "id": "ON1bQK5jhz4E"
      },
      "source": [
        "## II - Clean and format the data.\n",
        "For this first TP, we want to focus on very simple tasks.\n",
        "Therefore, we want to avoid as much as possible rare and uncommon words that will be considered as outliers.\n",
        "\n",
        "We will try to figure out what kind of cleaning we can perform, by having a look at the data.\n",
        "\n",
        "The plan for this part will be:\n",
        "1. Split the strings as a list of words.\n",
        "2. Find the outliers in the corpus.\n",
        "3. Propose some methods to clean them."
      ]
    },
    {
      "cell_type": "markdown",
      "metadata": {
        "id": "5XLRgi5giy_g"
      },
      "source": [
        "### 1. Tokenization\n",
        "First, we will split our texts into words.\n",
        "Splitting a string into a list of smaller substrings is called **tokenization**, and the substrings are called **tokens**.\n",
        "\n",
        "The simplest way to tokenize a text is to split it by words, according to whitespaces.\n",
        "\n",
        "Then, each word encountered in the training set is stored and uniquely identified through an id.\n",
        "\n"
      ]
    },
    {
      "cell_type": "markdown",
      "metadata": {
        "id": "H-HLOTivIfSP"
      },
      "source": [
        "🚧 **Question** 🚧\n",
        "\n",
        "By doing so, we put a huge emphasis on words within documents.\n",
        "\n",
        "a) Intuitively, why is it relevant? For instance compare to splitting by character.\n",
        "\n",
        "b) Cite some methods discussed during the course that rely on word-based representations of documents."
      ]
    },
    {
      "cell_type": "markdown",
      "source": [
        "✅ **Answer** ✅\n",
        "\n",
        "**a) Intuitively, why is it relevant? For instance compare to splitting by character.**\n",
        "- **Word-Based Tokenization**:\n",
        "  - Focuses on the linguistic meaning of a document by isolating words.\n",
        "  - Preserves semantic units that convey meaning (e.g., \"great movie\" has different semantics than \"g r e a t m o v i e\").\n",
        "  - Makes downstream tasks (like frequency counts, embeddings) more efficient and interpretable.\n",
        "\n",
        "- **Character-Based Tokenization**:\n",
        "  - Ignores the semantic structure and treats text as a sequence of characters.\n",
        "  - Can be useful for certain tasks, such as handling rare or out-of-vocabulary words, but generally results in much larger token vocabularies and less interpretability.\n",
        "\n",
        "**b) Cite some methods discussed during the course that rely on word-based representations of documents.**\n",
        "- **Bag of Words (BoW)**:\n",
        "  - Represents documents as a vector of word counts.\n",
        "  - Simple but effective for many tasks.\n",
        "- **TF-IDF (Term Frequency-Inverse Document Frequency)**:\n",
        "  - Word frequencies are weighted by their informativeness across documents.\n",
        "- **Word Embeddings**:\n",
        "  - Dense vector representations of words (e.g., Word2Vec, GloVe).\n",
        "  - Capture semantic similarities between words.\n",
        "- **Sequence Models**:\n",
        "  - Models like RNNs and Transformers process sequences of tokens (e.g., words) for tasks like text classification and machine translation.\n",
        "\n",
        "\n"
      ],
      "metadata": {
        "id": "zrKuSVI_7laN"
      }
    },
    {
      "cell_type": "markdown",
      "metadata": {
        "id": "jYwJDXAUIc7C"
      },
      "source": [
        "🚧 **TODO** 🚧\n",
        "\n",
        "Implement a tokenizer based on whitespace splitting. For now, the tokenizer should only be able to store each unique word found in the dataset."
      ]
    },
    {
      "cell_type": "code",
      "source": [
        "class WhiteSpaceTokenizer:\n",
        "    def __init__(self):\n",
        "        # The vocabulary will store the mapping between text tokens and their id.\n",
        "        self.vocab = {}\n",
        "        self.id_to_token = {}\n",
        "\n",
        "        # We will keep track of the number of times a word appears in the corpus.\n",
        "        self.frequencies = {}\n",
        "\n",
        "    def split_text(self, text: str) -> List[str]:\n",
        "        \"\"\"Converts the text to a list of tokens (substrings).\"\"\"\n",
        "        return text.split()  # Splits the text by whitespace\n",
        "\n",
        "    def fit(self, corpus: List[str]):\n",
        "        \"\"\"Fits the tokenizer to a list of texts to construct its vocabulary.\"\"\"\n",
        "        current_id = 0\n",
        "        for text in tqdm(corpus):\n",
        "\n",
        "            # Split into substrings.\n",
        "            list_tokens = self.split_text(text)  # Tokenize the text into words\n",
        "\n",
        "            for token in list_tokens:\n",
        "\n",
        "                # Add the token to the vocabulary\n",
        "                token_id = self.vocab.get(token, None)\n",
        "\n",
        "                token_not_in_vocab = token_id is None  # Check if the token is not already in the vocabulary\n",
        "                if token_not_in_vocab:\n",
        "                    self.vocab[token] = current_id  # Add the token to the vocabulary with a new ID\n",
        "                    self.id_to_token[current_id] = token  # Add reverse mapping\n",
        "                    self.frequencies[current_id] = 0  # Initialize token frequency to 0\n",
        "                    token_id = current_id\n",
        "                    current_id += 1  # Increment ID for the next token\n",
        "\n",
        "                self.frequencies[token_id] += 1  # Increment the frequency of the token\n",
        "\n",
        "        # Total number of words in vocab.\n",
        "        self.num_words = len(self.vocab)  # The total number of unique words\n",
        "        print(f\"Built a vocabulary of {self.num_words} words.\")\n"
      ],
      "metadata": {
        "id": "emOkuSsC-sbn"
      },
      "execution_count": 64,
      "outputs": []
    },
    {
      "cell_type": "markdown",
      "metadata": {
        "id": "geTlVAEGpa4n"
      },
      "source": [
        "🔴 **TEST**"
      ]
    },
    {
      "cell_type": "code",
      "execution_count": 65,
      "metadata": {
        "id": "joZuRcZ7nc3N",
        "outputId": "f4a9bd5d-3a5f-419c-a568-67e0f377a0c9",
        "colab": {
          "base_uri": "https://localhost:8080/",
          "height": 66,
          "referenced_widgets": [
            "c3490a1f3c7748bc8795e79d3ef1a97f",
            "5546207b0dc44da887f3d28dcdc93e35",
            "873af388fc3f492aab45154129489f9a",
            "b972ec7087e741b4adac46ce5ecd0915",
            "07a67d05f5ff4748bfac8b777f57ae66",
            "f81dffbeaa524de18e7f2c071fcdb1e2",
            "2bd9cd60669f450da6bea5dabd5e80e7",
            "28ca48f416844e1bb0188baba717dbfa",
            "5e67b750f3ab42d0bd8794540737f20d",
            "8d92831b0603402aa64a04c569b7366b",
            "ffd834a531144a7fb7592fa7136b5995"
          ]
        }
      },
      "outputs": [
        {
          "output_type": "display_data",
          "data": {
            "text/plain": [
              "  0%|          | 0/2 [00:00<?, ?it/s]"
            ],
            "application/vnd.jupyter.widget-view+json": {
              "version_major": 2,
              "version_minor": 0,
              "model_id": "c3490a1f3c7748bc8795e79d3ef1a97f"
            }
          },
          "metadata": {}
        },
        {
          "output_type": "stream",
          "name": "stdout",
          "text": [
            "Built a vocabulary of 3 words.\n"
          ]
        }
      ],
      "source": [
        "toy_corpus = [\"a cat\", \"a dog\"]\n",
        "tokenizer = WhiteSpaceTokenizer()\n",
        "tokenizer.fit(toy_corpus)\n",
        "assert tokenizer.vocab == {\"a\": 0, \"cat\": 1, \"dog\": 2}\n",
        "assert tokenizer.frequencies == {0: 2, 1: 1, 2: 1}\n",
        "assert tokenizer.num_words == 3"
      ]
    },
    {
      "cell_type": "markdown",
      "metadata": {
        "id": "fct0L_9EoGWT"
      },
      "source": [
        "🚧 **TODO** 🚧\n",
        "\n",
        "Fits the tokenizer on the imdb reviews."
      ]
    },
    {
      "cell_type": "code",
      "execution_count": 66,
      "metadata": {
        "id": "59qiHgwmmcfB",
        "outputId": "15a0e99a-1885-4782-a1cc-e9067eecbdb1",
        "colab": {
          "base_uri": "https://localhost:8080/",
          "height": 66,
          "referenced_widgets": [
            "307bc02373af47e8bcddb3742a0eaac4",
            "d36b6e7b210941eba73a675987153933",
            "e2d9223f56a44c2dadff234944d70e35",
            "c17c320a376f47dc99ab211fa4b3471b",
            "1996012c71b343a2b1070b203797d057",
            "5a64b453530c4d05b93fde073b2642a0",
            "a1edb11874f143bfaf8278535d2939b7",
            "07b7a528f7f747fea5c57cfb3cf3fd98",
            "a47d52c02e05454a862ceb209f2fce3f",
            "ebe52253af904383ab210579cee9d5a0",
            "cf2fb9195dee4f6eae6fe8546e15b804"
          ]
        }
      },
      "outputs": [
        {
          "output_type": "display_data",
          "data": {
            "text/plain": [
              "  0%|          | 0/62155 [00:00<?, ?it/s]"
            ],
            "application/vnd.jupyter.widget-view+json": {
              "version_major": 2,
              "version_minor": 0,
              "model_id": "307bc02373af47e8bcddb3742a0eaac4"
            }
          },
          "metadata": {}
        },
        {
          "output_type": "stream",
          "name": "stdout",
          "text": [
            "Built a vocabulary of 474682 words.\n"
          ]
        }
      ],
      "source": [
        "# TODO\n",
        "# Initialize the tokenizer\n",
        "tokenizer = WhiteSpaceTokenizer()\n",
        "\n",
        "# Fit the tokenizer on the IMDB reviews\n",
        "tokenizer.fit(text_column.tolist())\n"
      ]
    },
    {
      "cell_type": "markdown",
      "metadata": {
        "id": "LHBeN-x-2fhB"
      },
      "source": [
        "### 2. Noise analysis"
      ]
    },
    {
      "cell_type": "markdown",
      "metadata": {
        "id": "3H-GBNNVobV8"
      },
      "source": [
        "🚧 **TODO** 🚧\n",
        "\n",
        "Print 50 random tokens."
      ]
    },
    {
      "cell_type": "code",
      "execution_count": 67,
      "metadata": {
        "id": "AI2knE7em9HT",
        "outputId": "8d0b3ed1-c40d-4804-a5a3-f20d3e5e3344",
        "colab": {
          "base_uri": "https://localhost:8080/"
        }
      },
      "outputs": [
        {
          "output_type": "stream",
          "name": "stdout",
          "text": [
            "50 Random Tokens:\n",
            "(communism)\n",
            "blackened\n",
            "mistaken.\n",
            "SEATS:<br\n",
            "worm-on-human\n",
            "Carney\n",
            "movie-watching\n",
            "turnoff\n",
            "reinterpretation.<br\n",
            "Kane\\\",\n",
            "McDiarmid)\n",
            "suffices\n",
            "series?).\n",
            "flackering.\n",
            "Samuel.<br\n",
            "ENEMY\n",
            "path,\n",
            "'Cliffhanger'\n",
            "Extemporaneous\n",
            "Kid,\n",
            "WSJ).<br\n",
            "Alcohol\",\n",
            "interesting?!\n",
            "Kennedy's,\n",
            "episodes..\n",
            "\"Miike\"\n",
            "recently;\n",
            "Mallet\n",
            "downplays\n",
            "yuk).\n",
            "(IMDB\n",
            "/>\\\"Cry\n",
            "\"empty\"\n",
            "chaser,\n",
            "metallers\\\"\n",
            "Midaregumo\n",
            "\"Jo\n",
            "(1981)\n",
            "\"Kite\".\n",
            "cross!!\n",
            "\"Romanian\n",
            "Loggia)\n",
            "\\\"natural\\\"\n",
            "World':\n",
            "and...you\n",
            "perforations\n",
            "yes!!<br\n",
            "Warner?)\n",
            "Art's\n",
            "expedition),\n"
          ]
        }
      ],
      "source": [
        "# TODO\n",
        "import random\n",
        "\n",
        "# Sample 50 random tokens from the vocabulary\n",
        "random_tokens = random.sample(list(tokenizer.vocab.keys()), 50)\n",
        "\n",
        "# Print the random tokens\n",
        "print(\"50 Random Tokens:\")\n",
        "for token in random_tokens:\n",
        "    print(token)\n"
      ]
    },
    {
      "cell_type": "markdown",
      "metadata": {
        "id": "buQNo3ZsrXq4"
      },
      "source": [
        "🚧 **QUESTION** 🚧\n",
        "\n",
        "What do you think of the tokens? Do they look like simple \"words\" as expected?\n",
        "\n",
        "Analyze the noise and explain why we got such weird vocabulary."
      ]
    },
    {
      "cell_type": "markdown",
      "source": [
        "✅ **Answer** ✅\n",
        "\n",
        "The tokens do not look like simple \"words\" as expected. Many tokens include punctuation, special characters, HTML tags, case inconsistencies, and typos (e.g., `endings!!`, `now!!<br`, `Seagul`). This indicates significant noise in the vocabulary.\n",
        "\n",
        "### **Analysis**\n",
        "1. **Special Characters and Punctuation**: Tokens include `!!`, `<br>`, and quotes due to lack of preprocessing.\n",
        "2. **Case Sensitivity**: Words like `Can't` and `can't` are treated differently.\n",
        "3. **Typos/Encoding Issues**: Tokens like `surpriseÂ?through` show encoding problems.\n",
        "4. **Complex Tokens**: Delimiters (`/`, `:`) and mixed formats (e.g., `comedy/gangster`) remain unprocessed.\n",
        "\n",
        "### **Why This Happened**\n",
        "- **Whitespace-Based Tokenization**: Splitting by spaces preserves formatting, punctuation, and encoding issues.\n",
        "- **Dataset Style**: Informal reviews include noise like typos, HTML tags, and special characters.\n",
        "- **Lack of Preprocessing**: No steps taken yet to normalize, clean, or process tokens.\n",
        "\n",
        "### **Next Steps**\n",
        "Preprocess tokens by applying:\n",
        "- Lowercasing.\n",
        "- Removing punctuation, HTML tags, and encoding artifacts.\n",
        "- Handling typos and standardizing tokens."
      ],
      "metadata": {
        "id": "tX4pBOd7AJWF"
      }
    },
    {
      "cell_type": "markdown",
      "metadata": {
        "id": "bbt1bQ2SsK4l"
      },
      "source": [
        "### 3. Cleaning\n",
        "\n",
        "🚧 **TODO** 🚧\n",
        "\n",
        "You are going to implement some of the classical cleaning methods.\n",
        "1. Lower case the string.\n",
        "2. String normalization, i.e., replace accentuated characters by standard version (\"â -> a\") (hint: https://stackoverflow.com/a/14121678).\n",
        "3. Remove non alpha-numeric characters (use Python regex package `re`).\n",
        "4. Replace numeric characters by the token `'<NUM>'` (use the package `re`).\n",
        "5. Remove double whitespaces (use the package `re`).\n"
      ]
    },
    {
      "cell_type": "code",
      "execution_count": 68,
      "metadata": {
        "id": "orSU21XPfBhL"
      },
      "outputs": [],
      "source": [
        "import unicodedata\n",
        "import re"
      ]
    },
    {
      "cell_type": "code",
      "execution_count": 70,
      "metadata": {
        "id": "Y5EqoG1dsWMv"
      },
      "outputs": [],
      "source": [
        "def preprocess_text(text: str) -> str:\n",
        "    # Step 1: Convert text to lowercase\n",
        "    text = text.lower()\n",
        "\n",
        "    # Step 2: Normalize accented characters to their standard equivalents\n",
        "    # (e.g., \"Ï\" -> \"i\")\n",
        "    text = unicodedata.normalize('NFKD', text).encode('ASCII', 'ignore').decode('utf-8')\n",
        "\n",
        "    # Step 3: Remove non-alphanumeric characters (punctuation, symbols, etc.)\n",
        "    # Except for spaces to preserve word separation\n",
        "    text = re.sub(r'[^a-zA-Z0-9\\s-]', '', text)  # Keep hyphens for compound words like \"San-Francisco\"\n",
        "    text = re.sub(r'\\s*-\\s*', ' ', text)  # Replace hyphens surrounded by spaces\n",
        "\n",
        "\n",
        "    # Step 4: Replace numbers with the <NUM> token\n",
        "    text = re.sub(r'\\d+', '<NUM>', text)\n",
        "\n",
        "    # Step 5: Remove extra whitespaces\n",
        "    text = re.sub(r'\\s+', ' ', text).strip()  # Remove double whitespaces\n",
        "\n",
        "    return text\n"
      ]
    },
    {
      "cell_type": "markdown",
      "metadata": {
        "id": "yiAbpQrbptvH"
      },
      "source": [
        "🔴 **TEST**"
      ]
    },
    {
      "cell_type": "code",
      "execution_count": 71,
      "metadata": {
        "id": "cfmJ1GDzy7-f"
      },
      "outputs": [],
      "source": [
        "noisy_text = \"Ï   lîved  in    San-Françisco...  ! for 12 years.\"\n",
        "clean_text = \"i lived in san francisco for <NUM> years\"\n",
        "assert preprocess_text(noisy_text) == clean_text"
      ]
    },
    {
      "cell_type": "markdown",
      "metadata": {
        "id": "LkO-jZPY0mDy"
      },
      "source": [
        "🚧 **TODO** 🚧\n",
        "\n",
        "Add column `clean_review` to the dataframe, with the clean text.\n",
        "\n",
        "Store the `clean_review` column to the variable `clean_column`."
      ]
    },
    {
      "cell_type": "code",
      "execution_count": 72,
      "metadata": {
        "id": "tMO7SaQO0uSr"
      },
      "outputs": [],
      "source": [
        "# TODO\n",
        "# Apply the preprocess_text function to each review in the text_column\n",
        "df_imdb[\"clean_review\"] = text_column.apply(preprocess_text)\n",
        "\n",
        "# Store the clean_review column in the clean_column variable\n",
        "clean_column = df_imdb[\"clean_review\"]"
      ]
    },
    {
      "cell_type": "markdown",
      "metadata": {
        "id": "M0Dl9i7X1JWb"
      },
      "source": [
        "🚧 **TODO** 🚧\n",
        "\n",
        "Run the tokenizer on the clean text and print 50 random tokens."
      ]
    },
    {
      "cell_type": "code",
      "execution_count": 73,
      "metadata": {
        "id": "koSGantW1SL1",
        "outputId": "e5c42024-e196-4d50-d9f9-55bfb3d3048f",
        "colab": {
          "base_uri": "https://localhost:8080/",
          "height": 66,
          "referenced_widgets": [
            "10c3dc9eb4d0418c94430585533b4b94",
            "9b657c8bf1d44885af6960ec487b2fde",
            "be3ecc49745949b4b1b3adc3378227aa",
            "8bf7d3166ea64d73aada89c3faf23e52",
            "278ef7f523d3409aa3bb0095eb1ebb73",
            "6ae4ac12ebeb4c54b9dd67095b55cfdc",
            "b981cc33dd854feab921b7f8a50ef499",
            "0bc759ee6e08402188bc4349574d6d07",
            "69bad9f0840a4570a923760dd03c6966",
            "e875542abdf648a8b6a30ba02973d46e",
            "4cbf9647d8624035958efa3b81acabe6"
          ]
        }
      },
      "outputs": [
        {
          "output_type": "display_data",
          "data": {
            "text/plain": [
              "  0%|          | 0/62155 [00:00<?, ?it/s]"
            ],
            "application/vnd.jupyter.widget-view+json": {
              "version_major": 2,
              "version_minor": 0,
              "model_id": "10c3dc9eb4d0418c94430585533b4b94"
            }
          },
          "metadata": {}
        },
        {
          "output_type": "stream",
          "name": "stdout",
          "text": [
            "Built a vocabulary of 151937 words.\n"
          ]
        }
      ],
      "source": [
        "# TODO fit the tokenizer with cleaned reviews\n",
        "tokenizer = WhiteSpaceTokenizer()\n",
        "tokenizer.fit(clean_column.tolist())  # clean_column was previously assigned"
      ]
    },
    {
      "cell_type": "code",
      "execution_count": 74,
      "metadata": {
        "id": "DJlHz9Sw1c56",
        "outputId": "fd14ea99-49ac-48a7-e0eb-bff5ce507a77",
        "colab": {
          "base_uri": "https://localhost:8080/"
        }
      },
      "outputs": [
        {
          "output_type": "stream",
          "name": "stdout",
          "text": [
            "50 Random Tokens from Cleaned Text:\n",
            "rigeur\n",
            "potty\n",
            "summoned\n",
            "strangeonly\n",
            "ultimtum\n",
            "manticores\n",
            "skilfully\n",
            "cobbled\n",
            "effectit\n",
            "henenlotters\n",
            "aurelius\n",
            "categorizations\n",
            "sorpasso\n",
            "odile\n",
            "negativepositive\n",
            "enlivenes\n",
            "toma\n",
            "quited\n",
            "knautzs\n",
            "dezel\n",
            "mediating\n",
            "screenall\n",
            "overactedbr\n",
            "hookerbr\n",
            "watchingit\n",
            "scen\n",
            "nealquite\n",
            "deploys\n",
            "stevie\n",
            "singled\n",
            "networks\n",
            "picked\n",
            "feetthose\n",
            "unsaid\n",
            "oberons\n",
            "roled\n",
            "glaring\n",
            "zemekis\n",
            "arousing\n",
            "nicodemus\n",
            "batchler\n",
            "trymane\n",
            "alwaleed\n",
            "salma\n",
            "beastermaster\n",
            "disenchanting\n",
            "marek\n",
            "insightsbr\n",
            "makeit\n",
            "concoct\n"
          ]
        }
      ],
      "source": [
        "# TODO Print 50 random tokens from the vocabulary\n",
        "import random\n",
        "\n",
        "random_tokens = random.sample(list(tokenizer.vocab.keys()), 50)  # Sample 50 random tokens\n",
        "print(\"50 Random Tokens from Cleaned Text:\")\n",
        "for token in random_tokens:\n",
        "    print(token)"
      ]
    },
    {
      "cell_type": "markdown",
      "metadata": {
        "id": "Sq8CzSBw1vsI"
      },
      "source": [
        "🚧 **Question** 🚧\n",
        "\n",
        "What do you think of the new tokens? Are they better? What common noise still remain? (Feel free to print more tokens to get a better intuition).\n",
        "\n",
        "Suggest some methods to improve again the tokenization (at least 2), based on either these results or on something you think we could have done better.\n",
        "\n",
        "**Answer**\n",
        "\n",
        "TODO"
      ]
    },
    {
      "cell_type": "markdown",
      "source": [
        "### ✅ **Answer** ✅\n",
        "\n",
        "The new tokens are significantly better than the initial noisy tokens:\n",
        "- **Improvements**: Special characters, numbers, and uppercase inconsistencies have been removed.\n",
        "- **Remaining Noise**:\n",
        "  - **Concatenated Words**: Tokens like `overtheyll` and `beautifuland` indicate missing spaces.\n",
        "  - **Line Break Artifacts**: Tokens like `languagesbr` and `silentsbr` suggest residual HTML tags.\n",
        "  - **Uncommon/Stretch Words**: Rare words (`cifaretto`) and exaggerated tokens (`looooooonnnnnggggggg`) remain.\n",
        "\n",
        "\n",
        "### **Suggestions for Improvement**\n",
        "1. **Handle Concatenated Tokens**:\n",
        "   - Use regex or pre-defined patterns to split tokens with missing spaces (e.g., `overtheyll` to `over they ll`).\n",
        "\n",
        "2. **Remove Residual Artifacts**:\n",
        "   - Further normalize HTML tags or non-alphabetic characters to address remnants like `<br>`.\n",
        "\n",
        "3. **Normalize Stretched Words**:\n",
        "   - Use regex to reduce overly stretched tokens (e.g., `looooooonnnnnggggggg` to `long`).\n",
        "\n",
        "4. **Spell Correction**:\n",
        "   - Use spell-checking libraries like `SymSpell` to address typos or uncommon terms.\n",
        "\n",
        "These refinements can ensure cleaner and more meaningful tokens for downstream tasks.\n"
      ],
      "metadata": {
        "id": "WergqtcdFV3s"
      }
    },
    {
      "cell_type": "markdown",
      "metadata": {
        "id": "ohqx368M2ZiG"
      },
      "source": [
        "### Tokens analysis\n",
        "\n",
        "\n",
        "🚧 **TODO** 🚧\n",
        "\n",
        "Show the frequencies repartition.\n",
        "This should be a histogram, with 100 bins, with the frequencies on the x axis and the number of words associated to the frequencies on the y axis (see https://matplotlib.org/stable/api/_as_gen/matplotlib.pyplot.hist.html).\n",
        "\n",
        "Use logarithm scale for y."
      ]
    },
    {
      "cell_type": "code",
      "execution_count": 75,
      "metadata": {
        "id": "r8N76FrE3fyt",
        "outputId": "2d0b0d3d-2f04-4363-ea23-b1dc403c1aff",
        "colab": {
          "base_uri": "https://localhost:8080/",
          "height": 569
        }
      },
      "outputs": [
        {
          "output_type": "display_data",
          "data": {
            "text/plain": [
              "<Figure size 1000x600 with 1 Axes>"
            ],
            "image/png": "[encoded data removed]"
          },
          "metadata": {}
        }
      ],
      "source": [
        "# TODO\n",
        "# Get token frequencies\n",
        "token_frequencies = list(tokenizer.frequencies.values())\n",
        "\n",
        "# Create the histogram\n",
        "plt.figure(figsize=(10, 6))\n",
        "plt.hist(token_frequencies, bins=100, log=True, edgecolor='black')  # Logarithmic y-axis\n",
        "\n",
        "# Add titles and labels\n",
        "plt.title(\"Token Frequency Distribution\", fontsize=14)\n",
        "plt.xlabel(\"Frequency of Tokens\", fontsize=12)\n",
        "plt.ylabel(\"Number of Tokens (Log Scale)\", fontsize=12)\n",
        "\n",
        "# Display the plot\n",
        "plt.grid(True, which=\"both\", linestyle=\"--\", linewidth=0.5)\n",
        "plt.show()\n"
      ]
    },
    {
      "cell_type": "markdown",
      "metadata": {
        "id": "qX-WtALB8mam"
      },
      "source": [
        "🚧 **Question** 🚧\n",
        "\n",
        "What do you think of the repartition? Explore links with Zipf's law (https://en.wikipedia.org/wiki/Zipf%27s_law). You can add other plots if you think it will help you to understand the distribution."
      ]
    },
    {
      "cell_type": "markdown",
      "source": [
        "### ✅ **Answer** ✅\n",
        "\n",
        "The token frequency distribution follows a **long tail** pattern, as expected in natural language corpora, which aligns with **Zipf's law**:\n",
        "- **Zipf's Law**: The frequency of a word is inversely proportional to its rank in the frequency table. Common words like \"the\" or \"a\" appear very frequently, while most words occur rarely.\n",
        "\n",
        "#### **Observations**:\n",
        "1. **Head of Distribution**:\n",
        "   - A small number of tokens dominate the dataset, likely comprising stopwords and frequent terms.\n",
        "   \n",
        "2. **Tail of Distribution**:\n",
        "   - The vast majority of tokens appear very rarely, often occurring once or twice.\n",
        "\n",
        "3. **Logarithmic Visualization**:\n",
        "   - The log scale highlights the disproportionate number of rare tokens compared to frequent ones.\n",
        "\n",
        "\n",
        "#### **Links to Zipf's Law**:\n",
        "1. **Commonality of Rare Tokens**:\n",
        "   - Most tokens are low-frequency, contributing to the tail of the distribution.\n",
        "   - Rare tokens might include proper nouns, domain-specific terms, or residual noise.\n",
        "\n",
        "2. **Frequent Tokens**:\n",
        "   - High-frequency tokens contribute heavily to the overall word count but provide limited unique information.\n",
        "\n",
        "\n",
        "#### **Further Analysis**:\n",
        "   - Plot frequency vs. rank on a log-log scale to verify the Zipfian distribution."
      ],
      "metadata": {
        "id": "8fzRvjvbG8AV"
      }
    },
    {
      "cell_type": "code",
      "source": [
        "   # Rank tokens by frequency\n",
        "   sorted_frequencies = sorted(token_frequencies, reverse=True)\n",
        "   ranks = range(1, len(sorted_frequencies) + 1)\n",
        "\n",
        "   # Plot on log-log scale\n",
        "   plt.figure(figsize=(8, 6))\n",
        "   plt.loglog(ranks, sorted_frequencies, marker=\"o\", markersize=3, linestyle=\"none\")\n",
        "   plt.title(\"Token Frequency vs Rank (Log-Log Scale)\")\n",
        "   plt.xlabel(\"Rank\")\n",
        "   plt.ylabel(\"Frequency\")\n",
        "   plt.grid(True, which=\"both\", linestyle=\"--\", linewidth=0.5)\n",
        "   plt.show()"
      ],
      "metadata": {
        "id": "mlGusH59HR9t",
        "outputId": "80946cea-e0e2-4a90-fcc5-30415abe1099",
        "colab": {
          "base_uri": "https://localhost:8080/",
          "height": 569
        }
      },
      "execution_count": 76,
      "outputs": [
        {
          "output_type": "display_data",
          "data": {
            "text/plain": [
              "<Figure size 800x600 with 1 Axes>"
            ],
            "image/png": "[encoded data removed]"
          },
          "metadata": {}
        }
      ]
    },
    {
      "cell_type": "markdown",
      "source": [
        "#### **Suggestions**:\n",
        "- **Stopword Removal:**\n",
        "High-frequency stopwords may not add much value for downstream tasks.\n",
        "- **Low-Frequency Filtering:**\n",
        "Tokens with very low frequencies can be excluded to simplify the vocabulary."
      ],
      "metadata": {
        "id": "dio90nSmIJIt"
      }
    },
    {
      "cell_type": "markdown",
      "metadata": {
        "id": "FB--kpAVE7p_"
      },
      "source": [
        "🚧 **TODO** 🚧\n",
        "\n",
        "Modify the code of the `WhiteSpaceTokenizer` so that it could encode a text into a list of token ids and do the reverse (i.e. decode a list of token ids to a text)."
      ]
    },
    {
      "cell_type": "code",
      "execution_count": 77,
      "metadata": {
        "id": "-8a20vOKJ5Wz"
      },
      "outputs": [],
      "source": [
        "class WhiteSpaceTokenizer:\n",
        "    def __init__(self):\n",
        "        # The vocabulary will store the mapping between text tokens and their id.\n",
        "        self.vocab = {}\n",
        "        self.id_to_token = {}\n",
        "\n",
        "        # We will keep track of the number of times a word appears in the corpus.\n",
        "        self.frequencies = {}\n",
        "\n",
        "    def split_text(self, text: str) -> List[str]:\n",
        "        \"\"\"Converts the text to a list of tokens (substrings).\"\"\"\n",
        "        # TODO\n",
        "        return text.split()  # Split text by whitespace into a list of tokens\n",
        "\n",
        "    def encode(self, text: str) -> List[int]:\n",
        "        \"\"\"Take a text as input and return its associated tokenization, as a list of ids.\"\"\"\n",
        "        # TODO\n",
        "        tokens = self.split_text(text)  # Tokenize the text\n",
        "        return [self.vocab[token] for token in tokens if token in self.vocab]  # Convert tokens to IDs\n",
        "\n",
        "    def decode(self, ids: List[int]) -> str:\n",
        "        # TODO\n",
        "        \"\"\"Take a list of token IDs as input and return the reconstructed text.\"\"\"\n",
        "        return \" \".join([self.id_to_token[token_id] for token_id in ids if token_id in self.id_to_token])\n",
        "\n",
        "\n",
        "    def fit(self, corpus: List[str]):\n",
        "        \"\"\"Fits the tokenizer to a list of texts to construct its vocabulary.\"\"\"\n",
        "        current_id = 0\n",
        "        for text in tqdm(corpus):\n",
        "\n",
        "            # Split into substrings.\n",
        "            list_tokens = self.split_text(text)  # Tokenize the text\n",
        "\n",
        "            for token in list_tokens:\n",
        "\n",
        "                # Add the token to the vocabulary\n",
        "                token_id = self.vocab.get(token, None)\n",
        "\n",
        "                token_not_in_vocab = token_id is None  # Check if token is not already in the vocab\n",
        "                if token_not_in_vocab:\n",
        "                    self.vocab[token] = current_id  # Add token to vocab with a unique ID\n",
        "                    self.id_to_token[current_id] = token  # Add reverse mapping\n",
        "                    self.frequencies[current_id] = 0\n",
        "                    token_id = current_id\n",
        "                    current_id += 1\n",
        "\n",
        "                self.frequencies[token_id] += 1\n",
        "\n",
        "        # Total number of words in vocab.\n",
        "        self.num_words = len(self.vocab)  # Total unique tokens\n",
        "        print(f\"Built a vocabulary of {self.num_words} words.\")"
      ]
    },
    {
      "cell_type": "markdown",
      "metadata": {
        "id": "EawK5ctWqjOQ"
      },
      "source": [
        "🔴 **TEST**"
      ]
    },
    {
      "cell_type": "code",
      "execution_count": 78,
      "metadata": {
        "id": "l1slN9MEKWjC",
        "outputId": "9578885f-ee17-4f95-89bf-4e80e6451344",
        "colab": {
          "base_uri": "https://localhost:8080/",
          "height": 66,
          "referenced_widgets": [
            "ab43ff09e0ed4858b20afc37264b1f3d",
            "a7489b165f084be78d2d96fd1ad92baa",
            "352236712ba44ffab1d08e927ab0f91f",
            "9351c518b94749ba989510eb5111c0f2",
            "1012021d6b87496997a168d18d4c9c4f",
            "933c038cc49f4cdfbdec0cc76f4fd967",
            "3fa88e80541040bd8b8145ebc4da8a6c",
            "ac1224c97789449d8ed536fd8bb24eaa",
            "5d2d1fc175bf4d53a481926ee17e5c5e",
            "856eeff83b1e4d2680777e60a19995db",
            "3adbdad27428414f887c9da3687da6e1"
          ]
        }
      },
      "outputs": [
        {
          "output_type": "display_data",
          "data": {
            "text/plain": [
              "  0%|          | 0/2 [00:00<?, ?it/s]"
            ],
            "application/vnd.jupyter.widget-view+json": {
              "version_major": 2,
              "version_minor": 0,
              "model_id": "ab43ff09e0ed4858b20afc37264b1f3d"
            }
          },
          "metadata": {}
        },
        {
          "output_type": "stream",
          "name": "stdout",
          "text": [
            "Built a vocabulary of 9 words.\n"
          ]
        }
      ],
      "source": [
        "tokenizer = WhiteSpaceTokenizer()\n",
        "toy_dataset = [\"the cat is in the kitchen\", \"i have a dog\"]\n",
        "tokenizer.fit(toy_dataset)\n",
        "text = \"i have a kitchen\"\n",
        "assert tokenizer.encode(text) == [5, 6, 7, 4]\n",
        "assert tokenizer.decode([0, 1, 2, 7, 8]) == \"the cat is a dog\""
      ]
    },
    {
      "cell_type": "markdown",
      "metadata": {
        "id": "imYmiv-PMiH4"
      },
      "source": [
        "🚧 **TODO** 🚧 Now fit it on your dataset."
      ]
    },
    {
      "cell_type": "code",
      "execution_count": 79,
      "metadata": {
        "id": "5-agmjJdMkHg",
        "outputId": "23f84b78-640a-469b-bb30-3d064d541fae",
        "colab": {
          "base_uri": "https://localhost:8080/",
          "height": 66,
          "referenced_widgets": [
            "d688c4b19dfe4b509e6dac6327d66af6",
            "b25395d7cc9d48c7965efa9c80b66df3",
            "8c8e78b772304c68a3051e9437e4836a",
            "db4fc71cd05e4db99703db3dd6e69919",
            "8f6c7175d99d4085bc23413ccf842267",
            "621b786208c64c79b329bd70d9c24df0",
            "ba558b1bf0854594b30e1a0b48175d8a",
            "6bf3b292d29b4371b40caaf9ff810c62",
            "4ccefd1c482945998af8cef03930f1e4",
            "3000347e551246f1ab814f96eacac496",
            "e83dcd0788934c098ba8b7f199faf6a7"
          ]
        }
      },
      "outputs": [
        {
          "output_type": "display_data",
          "data": {
            "text/plain": [
              "  0%|          | 0/62155 [00:00<?, ?it/s]"
            ],
            "application/vnd.jupyter.widget-view+json": {
              "version_major": 2,
              "version_minor": 0,
              "model_id": "d688c4b19dfe4b509e6dac6327d66af6"
            }
          },
          "metadata": {}
        },
        {
          "output_type": "stream",
          "name": "stdout",
          "text": [
            "Built a vocabulary of 151937 words.\n"
          ]
        }
      ],
      "source": [
        "# TODO\n",
        "# Initialize the tokenizer\n",
        "tokenizer = WhiteSpaceTokenizer()\n",
        "\n",
        "# Fit the tokenizer on the cleaned reviews\n",
        "tokenizer.fit(clean_column.tolist())\n"
      ]
    },
    {
      "cell_type": "markdown",
      "metadata": {
        "id": "ZHO2xKpiL1oI"
      },
      "source": [
        "🚧 **Question** 🚧\n",
        "Look at the following code:"
      ]
    },
    {
      "cell_type": "code",
      "execution_count": 80,
      "metadata": {
        "id": "l3zS9noAL0DO",
        "outputId": "4bfd84ab-e409-4da5-daaf-6b12e5109edb",
        "colab": {
          "base_uri": "https://localhost:8080/"
        }
      },
      "outputs": [
        {
          "output_type": "execute_result",
          "data": {
            "text/plain": [
              "[16, 3664, 57, 39, 16]"
            ]
          },
          "metadata": {},
          "execution_count": 80
        }
      ],
      "source": [
        "tokenizer.encode(\"the king is in the câstle\")"
      ]
    },
    {
      "cell_type": "markdown",
      "metadata": {
        "id": "Reu2H7UXM9J_"
      },
      "source": [
        "a) Does it raise an exception? Explain what is the problem with the above situation.\n",
        "\n",
        "b) In which real life scenario could such a situation appear?\n"
      ]
    },
    {
      "cell_type": "markdown",
      "source": [
        "### ✅ **Answer** ✅\n",
        "\n",
        "#### **a) Does it raise an exception? What is the problem with the above situation?**\n",
        "- **No, it does not raise an exception.**\n",
        "- **The Problem**:\n",
        "  - The token `cástle` is **not in the vocabulary** because it likely contains an accented character (`á`), which might not have been properly normalized during preprocessing.\n",
        "  - As a result, it is ignored during encoding, and no corresponding token ID is generated for it.\n",
        "\n",
        "\n",
        "#### **b) In which real-life scenario could such a situation appear?**\n",
        "1. **Multilingual Text**:\n",
        "   - In a dataset containing text from multiple languages, words with accents or diacritics might be overlooked if preprocessing does not handle them properly.\n",
        "\n",
        "2. **Noisy Data**:\n",
        "   - User-generated content, such as social media posts or reviews, often contains inconsistent use of characters (e.g., `cástle` vs `castle`).\n",
        "\n",
        "3. **Incomplete Preprocessing**:\n",
        "   - If text normalization steps (e.g., removing accents) are skipped or improperly applied, such mismatches can occur.\n",
        "\n",
        "4. **OOV Words**:\n",
        "   - Out-of-vocabulary (OOV) words, like rare proper nouns or domain-specific terms, can also lead to such situations.\n",
        "\n",
        "\n",
        "### **Suggestions to Avoid the Issue**:\n",
        "1. **Ensure Proper Normalization**:\n",
        "   - During preprocessing, convert accented characters to their standard equivalents (e.g., `á -> a`).\n",
        "   \n",
        "2. **Handle OOV Words**:\n",
        "   - Implement a mechanism to map unknown tokens to a special `<UNK>` token to avoid silent omissions.\n"
      ],
      "metadata": {
        "id": "bOqqGBNSNNxG"
      }
    },
    {
      "cell_type": "markdown",
      "metadata": {
        "id": "XbJtCxPKOFYe"
      },
      "source": [
        "🚧 **TODO** 🚧\n",
        "\n",
        "Propose a simple modification of the tokenizer code such that it doesn't raise an exception anymore. It should handle the presence of any unknown token.\n",
        "\n",
        "The following code should't raise any exception."
      ]
    },
    {
      "cell_type": "code",
      "source": [
        "class WhiteSpaceTokenizer:\n",
        "    def __init__(self):\n",
        "        # The vocabulary will store the mapping between text tokens and their id.\n",
        "        self.vocab = {}\n",
        "        self.id_to_token = {}\n",
        "\n",
        "        # We will keep track of the number of times a word appears in the corpus.\n",
        "        self.frequencies = {}\n",
        "\n",
        "        # Add a special <UNK> token for unknown tokens\n",
        "        self.unk_token = \"<UNK>\"\n",
        "        self.unk_token_id = 0\n",
        "        self.vocab[self.unk_token] = self.unk_token_id\n",
        "        self.id_to_token[self.unk_token_id] = self.unk_token\n",
        "\n",
        "    def split_text(self, text: str) -> List[str]:\n",
        "        \"\"\"Converts the text to a list of tokens (substrings).\"\"\"\n",
        "        return text.split()  # Split text by whitespace into a list of tokens\n",
        "\n",
        "    def encode(self, text: str) -> List[int]:\n",
        "        \"\"\"Take a text as input and return its associated tokenization, as a list of ids.\"\"\"\n",
        "        tokens = self.split_text(text)  # Tokenize the text\n",
        "        return [self.vocab.get(token, self.unk_token_id) for token in tokens]  # Convert tokens to IDs or <UNK>\n",
        "\n",
        "    def decode(self, ids: List[int]) -> str:\n",
        "        \"\"\"Take a list of token IDs as input and return the reconstructed text.\"\"\"\n",
        "        return \" \".join([self.id_to_token.get(token_id, self.unk_token) for token_id in ids])\n",
        "\n",
        "    def fit(self, corpus: List[str]):\n",
        "        \"\"\"Fits the tokenizer to a list of texts to construct its vocabulary.\"\"\"\n",
        "        current_id = len(self.vocab)  # Start IDs after the <UNK> token\n",
        "        for text in tqdm(corpus):\n",
        "\n",
        "            # Split into substrings.\n",
        "            list_tokens = self.split_text(text)  # Tokenize the text\n",
        "\n",
        "            for token in list_tokens:\n",
        "\n",
        "                # Add the token to the vocabulary\n",
        "                token_id = self.vocab.get(token, None)\n",
        "\n",
        "                token_not_in_vocab = token_id is None  # Check if token is not already in the vocab\n",
        "                if token_not_in_vocab:\n",
        "                    self.vocab[token] = current_id  # Add token to vocab with a unique ID\n",
        "                    self.id_to_token[current_id] = token  # Add reverse mapping\n",
        "                    self.frequencies[current_id] = 0\n",
        "                    token_id = current_id\n",
        "                    current_id += 1\n",
        "\n",
        "                self.frequencies[token_id] += 1\n",
        "\n",
        "        # Total number of words in vocab.\n",
        "        self.num_words = len(self.vocab)  # Total unique tokens\n",
        "        print(f\"Built a vocabulary of {self.num_words} words.\")\n",
        "\n",
        "# Re-initialize the tokenizer\n",
        "tokenizer = WhiteSpaceTokenizer()\n",
        "\n",
        "# Re-fit the tokenizer on the cleaned reviews\n",
        "tokenizer.fit(clean_column.tolist())"
      ],
      "metadata": {
        "id": "tFfbewKuNzNw",
        "outputId": "58f36f69-b1a7-4e63-f0d6-de93e01beab8",
        "colab": {
          "base_uri": "https://localhost:8080/",
          "height": 66,
          "referenced_widgets": [
            "93a78b4b6a0e4a3bb74c0b47c5c4c65f",
            "53185e9a1d2b422d82ba29ecc3ca6534",
            "1fa403a462e140cdb6c76cdbeebfca97",
            "558284fad0824a74a76984f80a64b06c",
            "04a9e3e3a8a64a479d74a4d160472c22",
            "953bc5fdb7d84b9ba2e206e6de084385",
            "d27cb28b177a45108adb844936d86cf5",
            "3f720b4ed6184fc0bd5da997746999bb",
            "f1a7f510bc6b4b01852fd75da9ccb855",
            "060a1f3d664e467cb3e0e726e42c0576",
            "58ee227a28244b9ba27656ae0a862c87"
          ]
        }
      },
      "execution_count": 83,
      "outputs": [
        {
          "output_type": "display_data",
          "data": {
            "text/plain": [
              "  0%|          | 0/62155 [00:00<?, ?it/s]"
            ],
            "application/vnd.jupyter.widget-view+json": {
              "version_major": 2,
              "version_minor": 0,
              "model_id": "93a78b4b6a0e4a3bb74c0b47c5c4c65f"
            }
          },
          "metadata": {}
        },
        {
          "output_type": "stream",
          "name": "stdout",
          "text": [
            "Built a vocabulary of 151938 words.\n"
          ]
        }
      ]
    },
    {
      "cell_type": "markdown",
      "metadata": {
        "id": "-sxrH8mFqs6I"
      },
      "source": [
        "🔴 **TEST**"
      ]
    },
    {
      "cell_type": "code",
      "execution_count": 84,
      "metadata": {
        "id": "EJVfIsLqLQ4M"
      },
      "outputs": [],
      "source": [
        "allowed_characters = (string.ascii_uppercase + string.digits).replace(\" \", \"\")\n",
        "for _ in range(1000):\n",
        "    word_that_do_not_exist = \"\".join(random.choices(allowed_characters, k=100))\n",
        "    encoding = tokenizer.encode(f\"the king is in the {word_that_do_not_exist}\")\n",
        "    assert tokenizer.decode(encoding) == \"the king is in the <UNK>\""
      ]
    },
    {
      "cell_type": "markdown",
      "metadata": {
        "id": "e8abSXenxZFU"
      },
      "source": [
        "🚧 **Question** 🚧\n",
        "\n",
        "Look for online resources about tokenization.\n",
        "- Explain the concept of \"subword tokenization\".\n",
        "- Explain how the BPE algorithm works (high level description)."
      ]
    },
    {
      "cell_type": "markdown",
      "source": [
        "### ✅ **Answer** ✅\n",
        "\n",
        "#### **1. Subword Tokenization**\n",
        "- **Concept**:\n",
        "  - Subword tokenization is a hybrid approach that splits text into smaller units than words but larger than characters.\n",
        "  - It addresses the limitations of word-level and character-level tokenization:\n",
        "    - **Word-Level**: Cannot handle out-of-vocabulary (OOV) words.\n",
        "    - **Character-Level**: Leads to longer sequences, increasing computational cost.\n",
        "  - Instead, subword tokenization breaks rare words into meaningful subword units (e.g., \"unbelievable\" → [\"un\", \"believable\"]).\n",
        "  - Frequently occurring words remain intact, while uncommon words are split.\n",
        "\n",
        "- **Benefits**:\n",
        "  - Handles OOV words gracefully.\n",
        "  - Reduces the vocabulary size while maintaining semantic richness.\n",
        "  - Frequently used subwords are retained, ensuring efficiency and meaningful representation.\n",
        "\n",
        "\n",
        "\n",
        "#### **2. Byte Pair Encoding (BPE) Algorithm**\n",
        "- **High-Level Description**:\n",
        "  - BPE is a data compression technique adapted for tokenization.\n",
        "  - It creates subword units by merging the most frequent pair of symbols (characters or subwords) iteratively.\n",
        "\n",
        "- **Steps**:\n",
        "  1. **Start with Characters**:\n",
        "     - Treat every character in the corpus as an initial token.\n",
        "  2. **Count Frequencies**:\n",
        "     - Calculate the frequency of all consecutive token pairs in the corpus.\n",
        "  3. **Merge the Most Frequent Pair**:\n",
        "     - Find the most frequent pair of tokens and merge them into a new token.\n",
        "     - For example, given \"h e l l o\" and \"h e l l\", merge \"l l\" to create \"ll\".\n",
        "  4. **Repeat**:\n",
        "     - Update the corpus with the new token and repeat the process for a predefined number of merges.\n",
        "\n",
        "- **Example**:\n",
        "  - Input Corpus: `[\"low\", \"lower\", \"newest\", \"widest\"]`\n",
        "  - Iterations:\n",
        "    1. Count pairs: `(\"lo\", \"ow\", \"we\", \"st\", etc.)`\n",
        "    2. Merge the most frequent: `[\"low\", \"low\", \"newe\", \"wides\"]`\n",
        "    3. Repeat.\n",
        "\n",
        "- **Outcome**:\n",
        "  - The resulting subwords are optimized to represent the corpus efficiently.\n",
        "\n",
        "- **Advantages of BPE**:\n",
        "  - Reduces the vocabulary size.\n",
        "  - Ensures OOV words can be represented as a combination of subwords.\n",
        "  - Adapts well to a wide variety of languages.\n",
        "\n"
      ],
      "metadata": {
        "id": "zi3z4mjMW_Bg"
      }
    },
    {
      "cell_type": "markdown",
      "metadata": {
        "id": "RqccFuQHxZFU"
      },
      "source": [
        "## III - DataLoading\n",
        "\n",
        "This final part aims at making your dataset compatible with PyTorch.\n",
        "\n",
        "### Text representation\n",
        "\n",
        "Since we plan to work with PyTorch, we need to work with `tensors`. But since a text is only composed of strings, we need to find some numerical representations for the text.\n",
        "\n",
        "The most basic method is to represent a text by list of tokens. We already used a simple WhiteSpace tokenizer earlier to analyze our texts before cleaning. Now we will use it to *represent* the texts."
      ]
    },
    {
      "cell_type": "markdown",
      "metadata": {
        "id": "DZ_O5jT_f0Mr"
      },
      "source": [
        "### Dataset for PyTorch\n",
        "We will be working wtth PyTorch most of the time.\n",
        "A good practice is to always iterate through a `torch.utils.data.DataLoader`, coupled with `torch.utils.data.Dataset`.\n",
        "\n",
        "🚧 **TODO** 🚧\n",
        "\n",
        "We will construct our custom `Dataset` class, that should be fully compatible with the PyTorch API. According to the [documentation](https://pytorch.org/tutorials/beginner/basics/data_tutorial.html#creating-a-custom-dataset-for-your-files), such a dataset should implement at least three methods, `__init__`, `__len__`, `__getitem__`. Complete the following code such that the dataset yields a list of texts.\n",
        "\n",
        "Requirements:\n",
        "1. The dataset class should read the data from the csv_file stored in `DATA_PATH`.\n",
        "2. The dataset should output the raw text, without any cleaning."
      ]
    },
    {
      "cell_type": "code",
      "execution_count": 87,
      "metadata": {
        "id": "Gqn2FgOthdcF"
      },
      "outputs": [],
      "source": [
        "from torch.utils.data import Dataset\n",
        "import pandas as pd\n",
        "\n",
        "\n",
        "class IMDBDataset(Dataset):\n",
        "    def __init__(self, file_path: str):\n",
        "        \"\"\"\n",
        "        Initializes the dataset by loading the data from a CSV file.\n",
        "        Args:\n",
        "            file_path (str): Path to the CSV file containing the dataset.\n",
        "        \"\"\"\n",
        "        self.data = pd.read_csv(file_path)  # Read the CSV file into a Pandas DataFrame\n",
        "\n",
        "    def __len__(self):\n",
        "        \"\"\"\n",
        "        Returns the total number of samples in the dataset.\n",
        "        \"\"\"\n",
        "        return len(self.data)  # Total number of rows in the DataFrame\n",
        "\n",
        "    def __getitem__(self, idx: int):\n",
        "        \"\"\"\n",
        "        Retrieves the text and label at the given index.\n",
        "        Args:\n",
        "            idx (int): Index of the desired sample.\n",
        "        Returns:\n",
        "            tuple: (str, int) The text and label from the dataset.\n",
        "        \"\"\"\n",
        "        text = self.data.iloc[idx][\"review\"]  # Retrieve the review text\n",
        "        label = self.data.iloc[idx][\"label\"]  # Retrieve the label\n",
        "        return text, label  # Return both the text and the label\n"
      ]
    },
    {
      "cell_type": "markdown",
      "metadata": {
        "id": "T2kJbUUxtPi8"
      },
      "source": [
        "🔴 **TEST**"
      ]
    },
    {
      "cell_type": "code",
      "execution_count": 88,
      "metadata": {
        "id": "68tkYxHKiFzA"
      },
      "outputs": [],
      "source": [
        "imdb_dataset = IMDBDataset(file_path=DATA_PATH)\n",
        "text, label = imdb_dataset[0]\n",
        "assert text == text_column[0]\n",
        "assert label == label_column[0]"
      ]
    },
    {
      "cell_type": "markdown",
      "metadata": {
        "id": "1EaTm6k7QZHL"
      },
      "source": [
        "### DataLoader for PyTorch\n",
        "\n",
        "Now that the dataset is ready, we should be able to iterate through it. This is done with a `DataLoader`.\n",
        "\n",
        "The `DataLoader` also has some handy functionnalities:\n",
        "1. Batch iteration.\n",
        "2. Collate function.\n",
        "\n",
        "The collate function corresponds to the argument `collate_fn` of the constructor of `torch.utils.data.DataLoader`.\n",
        "\n",
        "This function is applied on the fly to each sample of the dataset.\n",
        "\n",
        "Our `IMDBDataset` only outputs raw texts. During the iteration through the `DataLoader`, we would like to:\n",
        "1. Clean the dataset with our cleaning function `preprocess_text`.\n",
        "2. Convert the text to a list of tokens.\n",
        "3. The `DataLoader`, for a batch size of `N`, should yield a dictionnary `{\"token_ids\": ..., \"labels\": ...,}` with `\"token_ids\"` corresponding to a list of `N` lists of tokens ids, and `\"labels\"` to a list of size `N` with the corresponding labels.\n",
        "\n",
        "🚧 **TODO** 🚧\n",
        "\n",
        "Write the `collate_fn` function so that the above requirements are satisfied (i.e., clean and tokenize)."
      ]
    },
    {
      "cell_type": "code",
      "execution_count": 89,
      "metadata": {
        "id": "hvbB5VMrSSzY"
      },
      "outputs": [],
      "source": [
        "# TODO\n",
        "def collate_fn(batch):\n",
        "    \"\"\"\n",
        "    Custom collate function to preprocess and tokenize the dataset.\n",
        "    Args:\n",
        "        batch (list): A batch of samples, where each sample is a tuple (text, label).\n",
        "    Returns:\n",
        "        dict: A dictionary containing:\n",
        "              - \"token_ids\": A list of lists, where each list represents the tokenized IDs for a text.\n",
        "              - \"labels\": A list of labels corresponding to the texts.\n",
        "    \"\"\"\n",
        "    token_ids = []  # List to store tokenized IDs\n",
        "    labels = []  # List to store labels\n",
        "\n",
        "    for text, label in batch:\n",
        "        # Clean the text using the preprocess_text function\n",
        "        cleaned_text = preprocess_text(text)\n",
        "\n",
        "        # Tokenize the cleaned text using the tokenizer\n",
        "        tokens = tokenizer.encode(cleaned_text)\n",
        "\n",
        "        # Append the token IDs and label\n",
        "        token_ids.append(tokens)\n",
        "        labels.append(label)\n",
        "\n",
        "    return {\"token_ids\": token_ids, \"labels\": labels}\n"
      ]
    },
    {
      "cell_type": "code",
      "execution_count": 90,
      "metadata": {
        "id": "jGkthDygS5uT",
        "outputId": "293513f5-3334-44eb-da14-dfdc9946f816",
        "colab": {
          "base_uri": "https://localhost:8080/"
        }
      },
      "outputs": [
        {
          "output_type": "stream",
          "name": "stdout",
          "text": [
            "[[427, 17, 8707, 58, 230, 8, 228, 830, 22, 10964, 202, 28, 333, 17, 9, 113, 123918, 57, 149672, 29, 113, 3329, 144, 64, 583, 86, 8, 2373, 13319, 42, 560, 206, 81, 9699, 202, 24846, 216, 144, 660, 727, 85, 1485, 2110, 401, 304, 112, 31, 85, 17, 758, 22, 8, 745, 6380, 69, 5525, 296, 13190, 7445, 42, 5, 8, 1042, 43816, 29588, 47, 17, 1282, 22, 17, 5855, 123944, 202, 51657, 68, 58, 516, 547, 85, 38, 81, 1575, 560, 14093, 1057, 99, 69, 820, 2306, 17, 4104, 153, 21738, 42, 69, 820, 151, 85, 4275, 2542, 202, 202, 6315, 17, 662, 665, 1485, 149673, 243, 29151, 294, 940, 105, 243, 8728, 2788, 5995, 5252, 6308, 627, 42, 7852, 149674, 820, 17, 1842, 115, 586, 358, 202, 202, 28, 2842, 145, 99, 300, 23371, 85, 7033, 2914, 315, 243, 1575, 42, 733, 227, 40, 149675, 1100, 55, 304, 152, 335, 144, 148, 99, 9428, 75, 17, 662, 665, 1485, 2588, 42, 630, 22, 17, 12684, 1842], [96, 9, 2190, 16, 17, 633, 144, 10, 2036, 833, 239, 78, 5981, 67, 85, 576, 85, 14556, 1697, 5273, 10, 17, 6591, 81, 732, 1067, 14750, 3696, 335, 260, 99, 2033, 6469, 43073, 4838, 144, 8122, 81, 3485, 778, 7281, 42, 1095, 10, 3078, 1353, 81, 46, 833, 123, 2955, 76, 40, 17, 124, 335, 144, 260, 655, 20310, 10, 5965, 108, 5754, 14841, 24, 58, 128, 33, 21473, 44, 40, 96, 9, 144, 8753, 17, 44, 85, 86, 7961, 265, 10, 81, 655, 17, 345, 40, 81, 14750, 3696, 123, 5273, 58, 651, 3511, 105, 17, 335, 655, 150, 7899, 2030, 12256, 7734, 1147, 1057, 1324, 216, 17, 46348, 58, 3489, 1910, 9568, 31814, 1776, 3936, 51, 85, 1141, 105, 1498, 42, 17, 2432, 1490, 599, 17, 302, 1897, 58, 254, 8, 608, 22, 17, 217, 42, 904, 13, 576, 17, 302, 307, 410, 47, 1606, 272, 38, 382, 72, 40, 1074, 335, 17, 104, 218, 33, 17, 9, 58, 17, 14750, 3696, 4347, 17, 1423, 694, 58, 17, 1066, 94, 144, 1697, 5273, 65, 66, 403, 24892, 42, 10392, 112, 632, 86, 50, 17, 199, 40, 10832, 4299, 40, 17, 4261, 144, 17, 4387, 583, 89, 615, 7, 576, 85, 562, 8, 547, 1697, 5273, 9], [28, 859, 5062, 8, 6391, 4428, 657, 112, 1767, 546, 54, 85, 57, 300, 489, 81, 53776, 216, 1, 209, 152, 17, 684, 1364, 42, 17, 3652, 85, 933, 17, 478, 144, 58, 225, 85, 81, 1722, 4428, 58, 8, 5345, 1534, 17, 488, 119, 108, 19286, 302, 22, 388, 1649, 123, 22, 81, 24, 113, 78, 684, 478, 40, 96, 174, 28, 113, 1058, 85, 563, 17, 4803, 599, 12417, 42, 17, 8220, 85, 188, 91, 108, 86, 3758, 53, 1858, 216, 10, 546, 4793, 536, 4428, 113, 651, 1058, 85, 300, 17, 606, 411, 7, 12417, 30, 8, 219, 807, 105, 181, 113, 2569, 85, 76, 216, 209, 114, 933, 144, 96, 113, 31, 13058, 1649, 174, 31, 82, 30, 4428, 3167, 96, 174, 216, 64, 268, 5204, 112, 209, 114, 933, 17, 221, 1141, 113, 1447, 42, 17, 2643, 82, 12095, 85, 17, 36991, 22, 17, 174, 96, 174, 113, 2421, 346, 7377, 42, 112, 1436, 258, 85, 86, 294, 4428, 113, 31, 231, 1786, 96, 174, 67, 64, 113, 105, 115, 17, 279, 218, 22, 99, 17, 123, 28, 38, 194, 4428, 3167, 96, 113, 17, 48832, 42, 254, 12300, 22, 81, 123, 112, 113, 223, 67, 208, 64, 3579, 8, 833, 9, 318, 22, 150, 144, 113, 99, 81, 2075, 28, 148, 1051, 208, 64, 356, 17, 2791, 16, 115, 17, 279, 218, 42, 5156, 105, 112, 108, 181, 8, 216, 96, 174, 30, 31, 3830, 81, 606, 17784, 202, 10, 73, 7, 24, 144, 5, 194, 96, 174, 42, 2368, 2820, 130, 1049, 1834, 53, 6391, 4428, 3083, 1339, 85, 96, 174, 28, 4363, 209, 928, 76, 8, 204, 2794, 148, 300, 554, 2205, 28, 152, 1877, 582, 209, 25, 2421, 16, 105, 96, 174, 42, 102, 209, 583, 210, 85, 1704, 96, 1786, 209, 216, 4428, 186, 2545, 227, 81, 1141, 1643, 254, 22, 81, 2075, 42, 209, 304, 152, 17, 13388, 16, 8, 7383, 85, 562, 2791, 85, 29, 454, 85, 562, 547, 123, 112, 348, 554, 15094, 85, 157, 17, 488, 119, 216, 90, 28, 30, 112, 113, 2413, 15101, 2368, 112, 113, 17, 307, 2368, 17, 478, 216, 4428, 8587, 118, 3485, 174, 7, 22, 150, 351, 8150, 489, 17, 4841, 28, 1103, 144, 58, 181, 28, 113, 3329, 4258, 72, 11359, 583, 2206, 7, 85, 86, 96, 57, 647, 8150, 489, 17, 1575, 22, 8, 705, 144, 57, 651, 2562, 227, 216, 318, 99, 28, 410, 113, 24025, 655, 24025, 64, 57, 58, 150, 22, 17, 36, 519, 307, 22, 96, 8902, 42, 28, 115, 4157, 76, 17, 18057, 25704, 22, 972, 216, 96, 113, 31, 17, 174, 85, 11330, 81, 17784, 202, 1324, 5701, 144, 28, 239, 105, 96, 174, 113, 17, 678, 22, 12266, 3797, 195, 150, 22, 17, 480, 10397, 28, 148, 1051, 33, 209, 42, 969, 1381, 216, 28, 115, 31, 864, 144, 28, 114, 38, 815, 8, 738, 419, 105, 388, 3797, 28, 148, 32, 69, 17, 844, 58, 108, 576, 51, 2791, 28, 859, 1632, 2245, 28, 583, 651, 115, 112, 112, 58, 29, 666, 144, 28, 651, 545, 85, 152, 216, 1005, 144, 58, 681, 10, 6391, 64, 1527, 7064, 42, 2310, 17, 346, 7573, 4187, 22, 81, 3797, 586, 34, 22194, 112, 113, 2882, 42, 112, 323, 199, 554, 31160, 268, 28, 699, 1900, 85, 1350, 554, 96, 181, 113, 23647, 105317, 185, 13317, 96, 174, 403, 28, 859, 1301, 24, 47, 388, 19856, 3269, 85, 2119, 17, 174, 90, 1344, 24, 58, 8, 1140, 16, 17, 92, 13086, 7, 17, 2578, 144, 199, 96, 174, 48, 64, 17262, 1775, 144, 30, 31, 4975, 10, 8, 1999, 5450, 22, 17, 478, 2, 28, 903, 144, 4428, 113, 258, 10, 2791, 47, 96, 174, 318, 22, 1356, 1095, 2368, 144, 58, 576, 64, 114, 5873, 272, 24025, 42, 23168, 40, 17, 124, 9, 586, 34, 51004, 202, 24, 260, 302, 1210, 1087, 40, 96, 174, 144, 199, 112, 129, 130, 289, 85, 17, 733, 148, 300, 554, 2205, 96, 113, 8, 26, 843, 9, 216, 24, 58, 187, 8, 16665, 40, 192, 67795, 17, 419, 90, 105318, 1680, 24139, 23, 511, 64, 58, 105, 113, 9382, 64, 9360, 1527, 349, 42, 4742, 2682, 2514, 85, 4926, 40, 8, 94, 144, 3027, 144, 4428, 113, 641, 1786, 17, 221, 112, 113, 8, 7643, 419, 144, 113, 1897, 3926, 40, 17, 8439, 1339, 85, 17, 5450, 662, 1087, 17, 247, 419, 144, 113, 129, 130, 113, 17, 94, 144, 4428, 8633, 42, 1115, 17, 174, 53, 7765, 17, 124, 673, 42, 904, 64, 113, 1058, 85, 2830, 96, 8135, 44, 75, 346, 7377, 42, 928, 76, 17, 2794, 85, 1533, 81, 1575, 247, 13, 1605, 302, 1796, 17, 1990, 22, 17, 174, 113, 4823, 6599, 31, 129, 2415, 696, 209, 25, 33, 85, 151, 36465, 202, 2498, 7, 22], [31453, 42, 83925, 6160, 42, 5341, 15220, 83926, 746, 60825, 59976, 489, 4145, 243, 1748, 85, 8, 44576, 3824, 42, 43446, 358, 2734, 17, 39609, 85, 8, 22677, 181, 145, 115, 31, 1093, 58, 85, 3671, 17, 15727, 83866, 15074, 105, 243, 16241, 4356, 6188, 83927, 83928, 2950, 1666, 1480, 5822, 83929, 17, 374, 1140, 10, 17, 44576, 3824, 1521, 17, 25626, 856, 85, 17, 1550, 8109, 550, 17, 94, 145, 268, 3671, 3199, 8, 81505, 8787, 42, 81, 83930, 83931, 25626, 42, 15665, 358, 12147, 202, 20030, 1834, 53, 7508, 69, 3825, 225, 979, 85, 3278, 105, 4014, 2476, 34, 3824, 583, 3671, 483, 8, 24472, 25626, 6360, 17, 174, 5, 8, 3931, 322, 199, 227, 22, 44, 307, 105, 13922, 8, 606, 345, 40, 17, 174, 23, 58, 641, 8, 3156, 85, 152, 208, 29, 31, 10, 8, 1533, 22, 1278, 1046, 6160, 42, 15220, 1258, 549, 66, 166, 91, 216, 96, 58, 13471, 174, 85, 8594, 67, 64, 5, 17, 104, 2748, 6160, 58, 17, 150, 69, 773, 85, 563, 83932, 42, 50445, 248, 29904, 42, 820, 1133, 549, 40, 11587, 90, 759, 6112, 663, 4238, 67, 17, 83866, 2588, 3878, 550, 2142, 358, 8, 31521, 202, 4259, 38, 85, 858, 96, 58, 150, 22, 81, 104, 42, 36, 197, 7134, 6283, 42, 773, 85, 4323, 26, 91], [1733, 58, 31, 82, 17, 11652, 22, 99, 1419, 335, 216, 17, 3734, 595, 9, 667, 1646, 15498, 42, 25287, 273, 3579, 17, 36, 4090, 5039, 42, 10537, 9, 22, 99, 54, 105, 96, 1184, 17316, 4092, 25392, 58, 887, 8, 15511, 2085, 40, 96, 9, 144, 64, 5287, 4341, 22, 17055, 887, 67, 1440, 47361, 165, 17, 488, 17, 53234, 388, 4377, 13973, 42, 2152, 52863, 17, 212, 3313, 2152, 3407, 403, 28, 410, 8, 665, 4707, 24, 216, 112, 29, 2460, 85, 1772, 209, 17, 4048, 144, 96, 9, 239, 47, 17, 1880, 595, 4309, 78, 12, 30, 8, 2085, 38, 85, 549, 16, 3665, 83293, 16243, 108, 16, 2444, 17640, 9238, 64, 114, 86, 3579, 40, 17, 33175, 665, 25998, 22, 27281, 42, 47, 17, 212, 64, 337, 145875, 27764, 42, 17, 456, 583, 651, 86, 17, 124, 24, 25, 142, 1430, 22, 96, 9, 144, 562, 112, 17, 24478, 10569, 22, 595, 335, 232, 58, 17, 145876, 1767, 902, 40, 181, 84, 85, 86, 8, 1469, 9217, 1383, 142, 22, 37, 69, 2562, 227, 40, 118, 2038, 887, 67, 96, 304, 2090, 2703, 105, 17, 35, 96, 58, 17, 1801, 22, 1383, 582, 209, 431, 5217, 216, 208, 2672, 1771, 85, 6014, 847, 909, 85, 8008, 8, 7406, 85, 300, 377, 2837, 90, 8, 740, 11826, 17384, 58, 1640, 85, 53905, 587, 1046, 5333, 550, 105, 17, 373, 17, 9, 1767, 902, 47, 1733, 17, 10724, 212, 22, 17, 686, 385, 36, 287, 25, 30157, 154, 379, 132271, 4092, 25392, 58, 1317, 85, 22199, 227, 546, 68141, 33467, 5969, 17, 373, 24, 58, 546, 1210, 147, 6430, 4428, 8145, 186, 8, 12661, 807, 67, 587, 5333, 18356, 1084, 8, 27188, 302, 16168, 447, 14307, 69, 304, 651, 680, 85, 395, 8, 4351, 1173, 112, 58, 3371, 38878, 67, 2444, 1262, 24940, 69, 57, 9892, 17, 1772, 81, 2505, 22, 17, 547, 3199, 69, 3361, 29, 181, 1801, 22, 1079, 10629, 1786, 17, 303, 703, 22, 4092, 25392, 42, 1927, 6818, 85, 3178, 76, 85, 1745, 1, 42, 10, 99, 58, 17, 541, 22, 595, 2544, 1173, 112, 58, 17, 9381, 1448, 144, 57, 1566, 96, 537, 67, 112, 773, 85, 223, 1704, 17, 879, 489, 17, 174, 1, 209, 1878, 112, 209, 820, 651, 1369, 112, 28, 268, 417, 17, 5030, 431, 85, 96, 537, 5698, 145, 680, 85, 67091, 227, 17, 4187, 22, 192, 9, 1265, 37, 192, 995, 3278, 22, 17, 2085, 55, 25, 603, 85, 86, 5652, 22, 40, 1733, 1646, 15498, 651, 57, 1896, 37, 300, 8, 131, 981, 176, 4092, 25392, 64, 187, 773, 248, 64, 58, 8, 694, 22, 17, 5638, 42, 28, 864, 144, 58, 181, 173, 76, 403, 10537, 24, 25, 142, 1087, 582, 4092, 58, 8715, 13881, 67, 64, 14601, 47, 17, 1046, 1432, 16408, 85, 358, 23, 2568, 85, 81, 14078, 208, 209, 864, 33, 546, 44153, 114, 86, 130, 209, 279, 401, 42, 209, 632, 323, 1051, 112, 451, 10, 587, 1760, 42, 3123, 10, 37, 595, 691, 90, 145, 395, 4092, 71, 31, 1317, 10, 5044, 47, 96, 1733, 145877, 1317, 10, 629, 89, 4092, 25392, 1775, 58, 8, 4604, 3403, 85, 96, 335, 29123, 81, 16968, 2956, 22, 18356, 1084, 173, 76, 680, 248, 17, 1081, 69, 820, 651, 3938, 64, 58, 17, 37214, 144, 820, 2243, 209, 10, 17, 1990, 22, 969, 1575, 145878, 209, 38, 31, 194, 96, 9, 208, 24, 25, 179, 546, 22, 209, 7, 24, 69, 2178, 108, 323, 208, 209, 38, 7685, 546, 3949, 2206, 66, 192, 3078, 1660, 96, 489, 17, 687, 2369, 42, 157, 40, 4404, 3369, 108, 7647], [28, 356, 96, 176, 8, 2306, 40, 90, 28, 113, 231, 99, 28, 1435, 25, 8, 27, 1087, 17, 1505, 582, 17, 374, 44, 50107, 58, 655, 2560, 53, 8, 267, 40, 8, 4741, 42, 655, 2500, 60001, 2792, 112, 401, 388, 11623, 38, 5646, 392, 8, 4632, 595, 174, 33, 118, 60002, 890, 53, 6186, 20416, 2882, 42, 2453, 105, 8, 1046, 10586, 704, 50107, 69, 58, 4221, 24, 1057, 525, 1311, 17, 580, 24857, 113, 7309, 85, 1807, 105, 8, 11184, 19089, 1777, 17, 174, 5, 11896, 641, 307, 40, 243, 584, 655, 7309, 7546, 891, 13318, 4383, 105, 1270, 60003, 7275, 723, 723, 17, 8919, 11184, 1167, 58, 17, 3921, 419, 42, 48, 112, 643, 1074, 42, 1074, 24, 58, 128, 85, 1782, 33, 96, 316, 17, 295, 58, 406, 99, 17, 171, 58, 843, 42, 17, 26852, 575, 645, 17, 72, 576, 30, 96, 60004, 300, 53, 105, 8, 56840, 401, 10307, 930, 112, 583, 300, 118, 1736, 401, 1484, 150, 1382, 60005, 1148, 8895, 876, 880, 1312, 13469], [28, 5882, 595, 123, 16, 99, 88, 42, 28, 38, 194, 17, 547, 42, 17, 26, 843, 3792, 34133, 58, 8, 732, 1067, 716, 1615, 17, 147, 58, 843, 17, 4256, 58, 539, 8, 4193, 22, 99, 3792, 335, 2401, 1606, 42, 17, 1494, 58, 732, 40, 546, 8323, 17, 218, 209, 680, 85, 86, 1930, 58, 144, 392, 179, 1488, 42, 57, 26, 1136, 17, 1651, 527, 16, 248, 1043, 47, 111, 5, 645, 19946, 8356, 9883, 144, 981, 248, 5210, 17976, 85, 57, 547, 1505, 105, 546, 3485, 14643, 1141, 216, 17, 536, 209, 2411, 8, 9, 105, 8, 471, 248, 96, 58, 10, 17, 1433, 42, 96, 174, 58, 3485, 40, 144, 2038, 17, 1651, 25, 26, 547, 10, 887, 8, 1497, 174, 1043, 672, 112, 8, 2566, 9, 42, 112, 58, 231, 1136, 2566, 9, 28, 38, 2220, 16, 1746, 31480, 144, 96, 58, 641, 8, 7572, 1945, 22, 17, 174, 144, 410, 5968, 2141, 216, 17, 1356, 1600, 1945, 58, 2421, 47, 2369, 42, 112, 58, 26, 1042, 1494, 28, 820, 2411, 112, 42, 12711, 10, 1826, 202, 478, 58, 539, 8, 1224, 4865, 16654, 2460, 843, 42, 173, 9883, 17, 30515, 6016, 112, 637, 10629, 17, 478, 42, 43685, 11737, 85, 86, 4018, 88, 112, 546, 22, 17, 16654, 58, 179, 8938, 42, 1605, 3030, 549, 227, 42, 2572, 17, 2038, 8, 27, 307, 115, 8, 1210, 807, 127, 546, 294, 1977, 338, 2968, 144, 58, 2984, 42, 606, 547, 341, 1210, 2755, 546, 1779, 869, 42, 5374, 22, 629, 42, 2452, 1433, 150, 267, 643, 4383, 42, 5842, 16, 17, 929, 2038, 99, 17, 94, 227, 208, 209, 1051, 181, 28, 837, 48, 81, 9805, 25, 5953, 7, 22, 81, 961, 1324, 58, 7867, 40, 93, 248, 40, 620, 22, 17, 312, 42, 145, 30, 8, 1210, 807, 22, 144, 1724, 24, 25, 8, 5408, 1433, 8034, 42, 392, 223, 99, 122, 28, 858, 3938, 655, 8, 16681, 417, 1575, 42, 300, 254, 335, 248, 3792, 34133, 42, 1270, 2313, 302, 1210, 3030, 98502, 202, 1374, 9897, 28, 29, 410, 17, 2369, 412, 42, 111, 58, 181, 28, 27043, 202, 51, 72, 537, 1494, 42, 10, 1, 28, 113, 1058, 85, 152, 17, 1356, 1600, 1945, 22, 17, 174, 42, 112, 58, 8, 51, 72, 9, 28, 328, 112, 259, 216, 401, 28, 304, 152, 181, 29357, 21404, 113, 641, 1640, 85, 115, 105, 96, 150, 42, 17, 2968, 3591, 516, 6577, 21404, 711, 33, 17, 174, 40, 3278, 64, 3361, 392, 8, 540, 3792, 9, 216, 64, 186, 1772, 2843, 85, 99, 287, 377, 268, 21404, 5, 8, 1210, 320, 22, 321, 42, 546, 10021, 14824, 144, 1858, 114, 1048, 16, 40, 17, 9, 1979, 17, 1786, 17, 1087, 22, 3792, 34133, 58, 294, 1136, 67, 91, 28, 903, 112, 113, 223, 67, 1488, 67, 17, 174, 112, 113, 199, 10, 24, 25, 546, 1210, 6540, 42, 1786, 17, 1087, 1679, 3368, 105, 3216, 1273, 33, 17, 174, 16, 546, 4528, 2803, 248, 11798, 768, 42, 7789, 88, 99, 8, 1136, 665, 174, 144, 58, 26, 7572, 75, 17, 776, 216, 179, 239, 554, 1018, 42, 2805, 17, 3878, 28, 38, 194, 142, 12296, 123, 42, 546, 1088, 22, 716, 123, 42, 142, 25, 230, 3511, 216, 96, 150, 57, 1436, 385, 17034, 12296, 123, 25, 8747, 3680, 145, 29, 2025, 96, 51, 30568, 202, 4902, 28, 2220, 145, 25, 401, 14017, 96, 47, 8, 296, 1067], [150, 22, 388, 1649, 1156, 17, 1079, 7741, 58, 29, 17, 5580, 276, 10, 96, 9, 346, 22, 5035, 11565, 4595, 20755, 8255, 35, 5322, 13629, 1079, 35, 723, 723, 26, 761, 346, 22, 122, 209, 820, 31, 300, 4679, 1210, 9], [42, 17, 54, 337, 90, 17, 5296, 85, 2880, 2840, 40, 8, 12584, 113, 254, 2697, 13, 17, 5296, 112, 348, 85, 44545, 134204, 46890, 16520, 27923, 2241, 17, 166, 8107, 22, 1161, 3212, 40, 31, 2792, 153, 7751, 216, 40, 2631, 153, 703, 3198, 42, 2286, 22133, 11387, 15701, 17, 37, 12099, 85, 152, 153, 7751, 216, 17, 5006, 22, 81, 92, 32554, 76, 16, 2792, 17, 1842, 289, 153, 703, 604, 47, 81, 12957, 1753, 2468, 2494, 142, 2036, 1057, 17, 2680, 81, 478, 58, 15932, 40, 17, 174, 22133, 11387, 24025, 24026, 232, 2645, 2883, 112, 58, 8, 14325, 208, 200, 7494, 981, 176, 17, 2697, 4123, 22, 1521, 16, 655, 12471, 53, 1505, 92, 85, 655, 1058, 85, 2069, 1575, 40, 2161, 3594, 202, 9929, 85, 7093, 13721, 7550, 1057, 2398, 21291, 22, 7575, 176, 17, 5862, 17, 2697, 1430, 22, 81, 4012, 25, 1777, 40, 7755, 67, 17, 4126, 227, 22133, 7763, 8411, 32709, 81, 1575, 40, 7550, 105, 12099, 12930, 20154, 18489, 24025, 12417, 64, 58, 176, 232, 4544, 85, 711, 216, 90, 64, 850, 17, 32171, 25, 5233, 1057, 81, 611, 113, 1088, 85, 1807, 53, 8, 2424, 42, 22133, 113, 1856, 53, 81, 1311, 1057, 655, 2305, 16, 4361, 64, 113, 5477, 40, 8, 21322, 2391, 582, 64, 1830, 10, 17731, 2036, 2278, 16931, 42, 1014, 601, 2303, 85, 22133, 17, 7017, 53, 81, 21322, 1311, 5656, 18393, 18396, 8421, 69, 5401, 85, 76, 82, 67, 68196, 42, 53, 81, 7759, 57719, 134205, 4505, 113, 40, 633, 51, 1074, 13, 1777, 47, 17, 2248, 202, 17, 82, 1300, 64, 5, 58, 8, 2149, 53, 3335, 7345, 90884, 12417, 69, 52, 40, 17, 174, 82, 2568, 85, 81, 1514, 22, 46635, 112, 58, 3479, 85, 4975, 8, 174, 75, 9046, 7550, 216, 112, 113, 922, 11763, 40, 1075, 287, 42, 547, 820, 1240, 105, 8, 1210, 167, 254, 5461, 1097, 216, 112, 1378, 111, 1226, 22, 17, 18896, 380, 22, 12417, 42, 8411, 789, 17, 123, 1924, 85, 34811, 8552, 2036, 489, 8, 27, 3239, 773, 8, 774, 516, 31604, 18499, 4228, 42, 16339, 1173, 12027, 11387, 85, 431, 5217, 821, 85, 1940, 81, 3479, 92, 42, 76250, 1607, 11723, 81, 153, 2424, 69, 58, 268, 40, 17, 12099, 5863, 76, 40, 81, 4803, 85, 3238, 8, 134206, 202, 105, 134207, 2849, 42, 2444, 18499, 4912, 22133, 4602, 821, 2908, 5814, 85, 3099, 85, 27717, 42, 1631, 17, 8150, 85, 2371, 42, 395, 81, 1311, 40, 2123, 85, 131, 17, 92, 181, 65, 289, 40, 7763, 41138, 1039, 1054, 58, 134186, 10584, 10, 40401, 15932, 40, 8, 19648, 1348, 1777, 176, 17, 919, 22, 17, 174, 40, 23, 64, 58, 17, 9527, 22, 7356, 176, 8, 23340, 281, 105, 287, 69, 480, 76, 11272, 134208, 134209, 1, 645, 144, 287, 29, 38, 85, 1435, 181, 260, 99, 111, 10, 85, 395, 587, 94, 2391, 22133, 11387, 11446, 31, 82, 47, 17, 10584, 22, 150, 1046, 1333, 85, 395, 81, 94, 2391, 216, 9706, 99, 234, 69, 38, 12319, 3066, 85, 2965, 31, 3963, 17, 1607, 22, 655, 357], [1756, 402, 8, 9, 6057, 8, 9, 178, 403, 5778, 8529, 28268, 47, 1057, 81, 18053, 1807, 173, 150, 1112, 33, 17, 54, 42, 2791, 1603, 40, 13721, 181, 663, 38, 553, 208, 518, 278, 38, 144, 20606, 30, 17, 25594, 2849, 525, 108, 29, 21322, 8, 37977, 144, 924, 81, 9231, 1594, 26647, 17, 973, 4143, 85, 563, 144, 11996, 113, 575, 22, 118, 4057, 40, 234, 2263, 518, 113, 8, 9530, 1527, 85, 13721, 318, 22, 258, 85, 2554, 108, 807, 9181, 518, 918, 85, 431, 5432, 53, 17, 2589, 28, 1112, 208, 17, 25594, 667, 2474, 85, 300, 525, 85, 864, 33, 181, 518, 114, 38, 922, 85, 1533, 525, 2589, 42, 5463, 810, 3107, 897, 231, 113, 29, 17, 6256, 518, 113, 7, 24, 1568, 105, 81, 5354, 1115, 525, 843, 1389, 10162, 810, 42, 84, 85, 86, 8, 26, 12107, 1265, 1333, 5021, 17, 1008, 22, 17, 1389, 17, 17520, 30, 666, 279, 40, 16905, 231, 2110, 69, 114, 981, 176, 243, 4908, 478, 86, 1374, 105, 112, 42, 4463, 112, 105, 37, 42, 1100, 476, 37, 85, 2119, 2770, 105, 587, 4908, 42, 21842], [28, 1435, 8659, 96, 254, 13, 38519, 22, 17, 10535, 22, 17, 11755, 176, 118, 1598, 90, 144, 1288, 22, 478, 113, 516, 934, 10, 554, 37285, 3297, 471, 773, 85, 38, 19042, 392, 2141, 40, 17, 37, 85, 1458, 4926, 85, 392, 526, 10470, 3059, 5, 17, 18819, 10884, 22, 17, 1600, 2646, 734, 22715, 40, 633, 138761, 5, 17, 9277, 11784, 42, 12059, 40934, 22, 22715, 69, 11910, 66, 8, 2006, 1273, 7252, 81, 704, 40, 81, 3268, 42, 12825, 47, 81, 5594, 48, 884, 1131, 96, 173, 76, 17, 36, 3619, 42, 4345, 44, 85, 157, 17, 68653, 691, 22, 138762, 1619, 86, 865, 53, 17, 292, 1747, 42, 17, 10217, 3941, 289, 7, 37285, 17, 82, 6443, 1619, 86, 17, 4922, 1534, 7741, 67360, 42, 10535, 22, 17, 11755, 17, 1126, 40, 37285, 58, 31, 2707, 9039, 85, 32174, 208, 112, 5, 8, 1126, 176, 99, 392, 1590, 3275, 17, 7016, 22, 7460, 5627, 96, 58, 5974, 105, 17, 292, 7731, 58, 138763, 8045, 15546, 42, 31, 57, 3612, 289, 203, 28, 401, 2696, 17, 830, 67, 655, 176, 118, 78153, 599, 431, 547, 42, 4850], [17, 1195, 5656, 25262, 231, 2689, 728, 705, 2719, 345, 270, 5119, 96, 174, 113, 2305, 17, 124, 686, 67, 17, 204, 728, 705, 174, 1057, 17, 728, 705, 65, 26, 225, 85, 92499, 17, 1136, 42, 2228, 22, 17, 728, 705, 123, 216, 112, 1177, 2985, 179, 112, 58, 8, 8576, 1136, 2652, 1488, 1167, 1220, 40, 17, 124, 2808, 89268, 202, 58, 35384, 35385, 2801, 22, 631, 1896, 31, 6547, 1173, 4259, 86, 1567, 241, 85, 2380, 8, 72, 18234, 13, 3214, 13997, 42, 17, 1490, 599, 13997, 42, 616, 345, 270, 5119, 58, 166, 42, 392, 1136, 591, 42, 86762, 202, 17, 478, 42, 3200, 53, 129013, 129014, 42, 1646, 129015, 734, 2974, 5445, 2464, 5067, 4034, 17, 5037, 17, 843, 705, 58, 225, 85, 655, 227, 24, 105, 8, 728, 705, 2883, 216, 2249, 8, 774, 22, 17, 2760, 5167, 42, 129016, 202, 385, 392, 31, 40, 17, 92605, 22, 17, 728, 705, 335, 181, 74, 58, 17, 1195, 5656, 25262, 58, 150, 22, 17, 36, 1488, 22, 17, 8368, 42, 8368, 22, 1220, 1353, 69, 922, 392, 22, 17, 584, 584], [28, 677, 176, 1, 144, 96, 9, 57, 1436, 604, 47, 148529, 8463, 874, 40, 34, 2062, 112, 113, 8, 1042, 896, 144, 148384, 42, 148530, 758, 401, 239, 81, 2075, 10912, 17, 664, 22, 17, 63291, 113, 22, 631, 665, 11214, 69, 113, 504, 26280, 2327, 17, 26, 733, 22, 17, 174, 202, 202, 85, 86, 1513, 28, 278, 1051, 181, 85, 864, 90, 50717, 3412, 63292, 918, 85, 38, 5646, 504, 954, 40, 633, 28, 38, 994, 333, 33, 17, 2705, 144, 518, 114, 2354, 8602, 216, 401, 144, 518, 403, 371, 5646, 489, 810, 2, 42, 1517, 144, 518, 113, 50717, 1, 254, 28, 223, 1515, 85, 86, 57, 1297, 33, 148531, 85943, 202, 641, 17, 419, 40, 23, 17, 10912, 2402, 5609, 42, 17, 24857, 385, 6439, 42, 2949, 239, 243, 11217, 113, 51, 72, 13, 28, 239, 659, 28, 268, 113, 7650, 22, 17, 23723, 69, 3625, 85, 86, 8, 1551, 42, 112, 113, 1039, 144, 17, 4677, 239, 3563, 403, 142, 8849, 10, 96, 9, 202, 202, 22, 631, 28, 113, 921, 144, 176, 17, 733, 17, 63291, 260, 5843, 2, 216, 28, 583, 38, 328, 85, 1051, 181, 113, 258, 85, 727, 85, 50717, 1057, 518, 239, 3926, 525, 923, 11812, 42, 181, 47, 1113, 114, 17, 4677, 2391, 115, 105, 887, 8, 421, 5749, 22, 3596, 202, 89, 112, 113, 230, 5703, 144, 11214, 268, 239, 8323, 176, 17, 26, 733, 22, 17, 174], [17, 1271, 174, 604, 47, 4750, 66617, 188, 1483, 1220, 22, 17, 4573, 5558, 231, 13361, 8902, 5289, 66618, 14306, 8670, 24992, 6307, 42, 15220, 7878, 6307, 3728, 254, 54, 16148, 17, 374, 35, 13, 247, 1419, 335, 8, 885, 2119, 243, 2969, 66619, 118, 6881, 95, 22, 2976, 17, 846, 22, 66620, 5328, 9950, 113, 31, 51, 22, 8, 1185, 10, 17, 6760, 1649, 3183, 518, 66621, 40, 2228, 66622, 2588, 16843, 47, 8, 720, 42, 66623, 88, 118, 428, 3003, 15295, 525, 5312, 2004, 5, 382, 13385, 2863, 18430, 9950, 3899, 17, 4397, 22, 525, 1054, 31, 403, 384, 483, 17, 231, 212, 40, 5328, 231, 3344, 385, 17, 17589, 388, 3878, 58, 40, 2238, 518, 66624, 984, 10, 2636, 66625, 40, 525, 16982, 3324, 2667, 21716, 89, 17, 521, 66626, 10, 2440, 17, 161, 440, 47, 17, 738, 4915, 559, 59570, 66461, 7565, 42184, 81, 253, 47, 17, 14306, 218, 3249, 85, 17, 1126, 22, 17, 92, 140, 22650, 6256, 19239, 349, 48, 11962, 8, 2990, 22, 1498, 547, 108, 843, 304, 549, 7, 17, 38746, 1293, 1173, 17, 3759, 186, 31, 3076, 7, 17, 1260, 33055, 5697, 17, 5048, 22, 17, 6898, 21243, 304, 2637, 4157, 12655, 10924, 4888, 51224, 8, 2618, 39850, 13531, 17, 66627, 4463, 546, 11959, 887, 67, 9105, 47671, 66628, 42, 1167, 772, 150, 1497, 34824, 599, 17, 302, 173, 99, 17, 3095, 12655, 58, 323, 55659, 47, 17, 3854, 13, 64, 58, 47, 17, 7, 66461, 7605, 940, 22, 4573, 3825, 7947, 85, 844, 12655, 7431, 16, 17, 232, 468, 40, 231, 17, 174, 878, 1358, 4888, 66629, 8318, 85, 17, 1186, 22, 17, 973, 179, 17, 8220, 85, 16412, 17, 17477, 40, 302, 29592, 8, 8500, 876, 176, 17, 733, 14873, 12663, 12655, 7431, 66630, 66631, 2715, 12309, 227, 216, 17, 36, 10537, 150, 40, 595, 9, 2294, 8209, 85, 22218, 22219, 40, 11760, 22, 17, 908, 231, 67, 11, 67, 17, 153, 2000, 58, 2166, 17, 8538, 22, 24544, 13144, 66632, 17, 1724, 8, 5907, 56, 1051, 1030, 47, 14114, 14115, 18524, 358, 19124, 42, 18982, 243, 611, 4143, 85, 2802, 8, 1289, 6921, 2444, 9963, 85, 31668, 42, 2444, 59936, 85, 66633, 2115, 181, 17, 9823, 645, 4573, 58, 31, 2070, 40, 633, 209, 304, 9789, 396, 22, 112, 53, 363, 112], [17, 6127, 260, 248, 8, 9, 144, 820, 2343, 969, 1722, 723, 403, 8, 1300, 22, 8892, 42, 28, 239, 1210, 932, 90, 55, 3766, 85, 157, 96, 4416, 202, 428, 562, 112, 931, 42, 1675, 112, 227, 85, 1858, 85, 325, 33, 392, 921, 96, 9, 2911, 85, 2195, 209, 85, 14540, 969, 1722, 216, 112, 2767, 176, 197, 10, 554, 42, 10, 388, 1300, 6059, 202, 1357, 144, 553, 553, 82, 47, 17, 983, 112, 113, 187, 24, 31, 111, 582, 28, 859, 28, 333, 36, 22, 17, 54, 17371, 10198, 2721, 47, 17, 983, 216, 392, 82, 47, 17, 983, 392, 31, 4737, 202, 335, 23, 4718, 51, 72, 40, 5703, 554, 12343, 22, 25346, 231, 1509, 22, 32594, 231, 8843, 23022, 231, 16972, 231, 65986, 65987, 65988, 231], [28, 187, 862, 85, 152, 8739, 8740, 40, 6432, 10, 8, 26, 656, 54, 193, 187, 382, 7163, 53, 17, 471, 17, 345, 42, 17, 2936, 216, 10, 546, 401, 294, 684, 536, 96, 174, 58, 651, 1777, 47, 449, 108, 193, 727, 85, 3045, 112, 208, 392, 667, 1777, 91, 1057, 130, 17, 2369, 28, 401, 1051, 102, 17, 9, 58, 1393, 1777, 392, 1226, 392, 31, 144, 547, 40, 633, 4259, 858, 392, 294, 51, 22, 8, 2570, 202, 8739, 8740, 40, 6432, 113, 199, 53, 8, 232, 54, 559, 42, 112, 77, 17, 174, 58, 3778, 8, 2719, 22, 8588, 105, 1065, 128, 4866, 112, 1606, 254, 248, 8, 3767, 22, 931, 335, 8758, 8608, 1606, 17, 9, 304, 86, 8759, 637, 85, 96, 2027, 1167, 708, 42, 2424, 1606, 2027, 2609, 4772, 258, 85, 1141, 1571, 267, 98, 478, 708, 4592, 312, 2454, 708, 42, 4769, 42, 2424, 176, 951, 2972, 419, 723, 17, 1087, 29, 148, 4323, 1606, 306, 26, 8760, 4609, 16, 140, 247, 42, 1226, 22, 96, 17, 8761, 58, 2349, 8762, 1839, 17, 419, 176, 17, 951, 105, 17, 2424, 17, 419, 176, 17, 8763, 105, 17, 8764, 17, 419, 105, 296, 1646, 42, 17, 4769, 8765, 176, 140, 247, 260, 359, 1187, 28, 223, 2820, 17, 174, 483, 234, 670, 8766, 202, 17, 174, 1720, 1442, 22, 2434, 58, 40, 6841, 1910, 17, 174, 17, 2228, 248, 17, 584, 58, 99, 88, 17, 368, 17, 2027, 2535, 419, 173, 17, 9, 981, 248, 8, 8767, 10, 4275, 8768, 48, 112, 2911, 85, 86, 8, 5952, 174, 296, 1646, 42, 8769, 48, 8, 1167, 1220, 48, 8, 7819, 480, 478, 723, 8, 174, 252, 38, 85, 38, 150, 3137, 2228, 40, 2123, 85, 86, 2711, 216, 178, 5652, 17, 2228, 40, 8739, 8740, 40, 6432, 113, 414, 209, 304, 522, 152, 144, 17, 559, 239, 78, 896, 181, 64, 113, 185, 108, 582, 64, 113, 258, 105, 863, 202, 17, 174, 58, 31, 8, 131, 2425, 385, 17, 921, 22, 8739, 8740, 40, 6432, 58, 223, 1839, 17, 981, 22, 112, 58, 1109, 42, 8770, 2772, 17, 222, 58, 1791, 192, 7616, 58, 1187, 22, 118, 8771, 176, 118, 1070, 5051, 108, 1226, 17, 232, 42, 1382, 54, 559, 113, 377, 40, 17, 341, 2199, 1187, 22, 118, 5880, 1754, 17, 2836, 981, 22, 17, 174, 787, 254, 8772, 85, 17, 1327, 7967, 13, 112, 57, 551, 42, 2766, 85, 3324, 8773, 147, 22, 8, 57, 570, 2494, 44, 17, 174, 3115, 8, 759, 1836, 22, 4364, 323, 789, 128, 74, 173, 51, 320, 4757, 8774, 33, 17, 981, 42, 8775, 22, 17, 174, 58, 144, 392, 382, 8776, 42, 8777, 8, 5408, 143, 88, 17, 2027, 2609, 7860, 554, 22, 666, 248, 331, 240, 23, 113, 199, 231, 2036, 52, 1087, 22, 8778, 501, 227, 105, 81, 2832, 47, 17, 1347, 7860, 554, 22, 2686, 8779, 8780, 821, 8739, 8740, 40, 6432, 5, 8, 26, 2618, 431, 85, 112, 1339, 85, 17, 1791, 6853, 323, 208, 17, 478, 42, 17, 8781, 1786, 112, 25, 3501, 8782, 202, 403, 8739, 8740, 40, 6432, 58, 47, 150, 220, 8, 1489, 4614, 42, 8783, 174, 1226, 112, 2137, 3758, 8, 875, 22, 4533, 1884, 7, 24, 90, 112, 65, 85, 17, 981, 42, 8775, 26, 27, 123, 304, 4071, 85, 38, 3960, 96, 42, 8784, 8785, 8786, 8787, 56, 253, 346, 2535, 216, 47, 17, 247, 220, 8788, 58, 268, 8789, 49, 1226, 17, 662, 35, 3429, 478, 42, 3490, 904, 332, 22, 23, 25, 129, 22, 8790], [1778, 47, 209, 208, 209, 928, 96, 174, 8, 732, 930, 576, 304, 209, 31, 248, 8, 174, 144, 5, 10930, 35607, 2773, 2774, 3556, 4740, 9654, 9608, 42, 10, 17, 1212, 144, 511, 144, 113, 17, 13711, 23595, 40, 17, 3111, 69, 357, 554, 42, 150, 22, 17, 11398, 36343, 123, 31, 2839, 26, 51, 22, 3399, 388, 1311, 645, 518, 1436, 1774, 10, 17, 9935, 22, 525, 703, 5041, 3556, 6951, 42, 8, 11841, 33579, 14201, 4768, 26, 51, 248, 17, 150, 1077, 40, 17, 687, 16552, 2719, 9259, 2402, 96, 174, 42, 97803, 112, 66, 113, 130, 112, 10, 17, 2205, 4526, 112, 1619, 86, 316, 216, 58, 1998, 547, 316, 145, 148, 562, 5963, 248, 145, 1077, 85, 21188], [28, 655, 22, 120686, 16397, 239, 3368, 88145, 33, 96, 402, 232, 28, 113, 2852, 144, 4224, 30681, 3526, 31390, 120682, 85, 25189, 25208, 268, 29, 8, 95, 22, 120719, 1646, 120720, 58, 31, 22, 120686, 120721, 4908, 337, 16, 15559, 6558, 30, 4548, 47, 96, 113, 31, 26, 2663, 28, 431, 144, 17, 4533, 22, 587, 5673, 6908, 47, 21450, 96, 1364, 56, 38, 382, 31520, 1910, 96, 174, 21450, 58, 587, 1031, 85, 16526, 42, 4865, 28, 864, 34, 4533, 5283, 22, 96, 734, 4069, 56, 562, 96, 243, 120722, 388, 120723, 174, 60970, 6104, 118, 1590, 2686, 21076], [28, 148, 1435, 90, 28, 232, 2220, 33, 96, 9, 216, 28, 861, 112, 33, 1623, 2036, 2046, 42, 112, 179, 1176, 150, 22, 388, 1649, 5678, 28, 820, 5532, 209, 1897, 820, 13443, 96, 9, 208, 209, 1051, 128, 33, 12727, 341, 216, 208, 209, 25, 8, 12727, 657, 323, 8, 6961, 150, 209, 820, 480, 17, 3854, 2024, 42, 1741, 150, 22, 17, 104, 2748, 40, 17, 9, 58, 33, 17, 3095, 599, 8, 1188, 42, 8, 3882, 28, 179, 678, 96, 424, 1293, 42, 300, 1200, 22, 2443, 105, 112, 150, 22, 17, 104, 380, 65, 16, 9720, 4410, 69, 3625, 8950, 27320, 40, 3469, 22, 17, 13739, 112, 58, 5586, 144, 96, 9, 820, 6926, 651, 300, 8, 2369, 2141], [1834, 53, 10924, 3412, 20686, 42, 2494, 53, 14975, 7569, 41774, 58, 8, 9, 144, 820, 31, 86, 49, 8, 15123, 15688, 3335, 2655, 5317, 30209, 65, 85, 5680, 10, 17, 2686, 1348, 5317, 48, 1643, 17, 3665, 40, 17, 1742, 1842, 67, 64, 44419, 3508, 81, 4638, 22, 3322, 40, 13786, 6462, 96, 4333, 9, 58, 26, 4531, 42, 546, 1087, 25, 14731, 85, 157, 96, 9, 5, 75, 231, 2486, 4266, 42, 58, 223, 714, 317, 656, 96, 9, 58, 1488, 42, 209, 820, 651, 300, 4679, 209, 4784, 10, 17, 1742, 1486, 42, 40, 546, 1087, 209, 395, 7, 144, 5317, 1776, 67, 1079, 67, 546, 247, 3322, 1550, 96, 58, 8, 5238, 42, 28, 1782, 144, 209, 152, 96, 209, 820, 31, 86, 865, 231], [96, 1772, 58, 670, 78, 1353, 78, 295, 78, 547, 35, 5680, 25, 209, 3154, 928, 17, 2003, 85, 166, 77, 28, 233, 96, 1772, 550, 105, 231, 2146, 2975, 178, 403, 5778, 145, 9551, 96, 1772, 1460, 209, 23790, 116, 302, 42, 8, 93, 493, 116, 17495, 116, 13112, 22, 19175, 116, 576, 28, 6353, 969, 1311, 23, 57, 1776, 552, 216, 8, 875, 5381, 13, 96, 96, 1772, 58, 8, 1955, 66, 22, 1198, 105, 17, 124, 559, 403, 689, 3407, 216, 116, 96, 1772, 2328, 42, 651, 2830, 112, 349, 651, 667, 667, 667, 17, 82, 536, 28, 278, 928, 112, 8, 231, 930, 58, 1226, 112, 116, 388, 2100, 318, 22, 806, 234, 25, 17, 5559, 22, 335, 108, 449, 77, 144, 28, 928, 8, 150, 17, 82, 536, 28, 113, 179, 2100, 113, 1226, 22, 17, 3059, 5675, 42, 28, 113, 1317, 2034, 85, 17, 1170, 1772, 28, 57, 545, 96, 1772, 113, 552, 2522, 216, 388, 389, 406, 26, 406, 28, 148, 152, 102, 327, 2279, 112, 388, 389, 2, 216, 28, 268, 395, 296, 1218, 9134, 4661, 406, 388, 843, 3907, 17, 448, 30040, 30040, 401, 28, 38, 8, 12896, 42, 112, 58, 31, 16, 130, 969, 1772], [96, 58, 9, 58, 641, 150, 22, 388, 99, 54, 3993, 178, 31, 8, 22296, 22297, 657, 1226, 36, 22, 81, 335, 3039, 216, 80523, 8035, 392, 2986, 54, 1057, 54, 80523, 58, 33, 8, 511, 3335, 26899, 38115, 12140, 69, 2190, 16, 20555, 518, 58, 5741, 105, 8, 68, 42, 67, 518, 80532, 178, 8, 18755, 4551, 22, 17, 12808, 42, 48, 525, 1842, 65, 9977, 637, 67, 17, 5134, 3736, 489, 902, 33, 525, 1219, 12127, 9122, 1819, 508, 8, 5545, 8942, 708, 69, 186, 6354, 14823, 64, 58, 6, 550, 53, 525, 85, 9697, 525, 12127, 42, 85, 300, 2245, 546, 2312, 10, 81, 1141, 550, 17, 94, 55, 395, 7, 26899, 58, 57, 2152, 23339, 8, 3097, 3111, 144, 113, 1544, 10, 312, 2036, 1219, 17, 295, 58, 1210, 226, 96, 478, 680, 166, 42, 1819, 186, 8, 1210, 807, 67, 204, 27191, 85, 12140, 3399, 187, 186, 8, 1210, 147, 807, 17, 1202, 25, 1813, 17, 122, 58, 29650, 105, 5636, 419, 1057, 5636, 419, 294, 4514, 8970, 789, 17, 68, 410, 47, 388, 14858, 176, 17, 733, 157, 7, 22, 17, 3309, 178, 3916, 22, 665, 2110, 1572, 227, 8, 174, 85, 86, 5843, 216, 179, 96, 9, 58, 129, 112, 67, 17, 68, 2568, 85, 17, 174, 2, 96, 9, 58, 57, 547, 28, 651, 4572, 102, 112, 278, 562, 254, 176, 17, 867, 1330, 216, 208, 112, 113, 8, 705, 2689, 40, 17, 9, 178, 1615, 112, 583, 38, 21318, 8, 7531, 5408, 181, 58, 547, 58, 144, 88, 17, 2036, 254, 287, 25, 8296, 96, 9, 42, 1265, 112, 547, 13530, 67, 17, 1120, 22, 96, 174, 47, 96, 9083, 5, 27670, 88, 17, 2036, 28, 2842, 112, 2460, 227, 3350, 67, 96, 58, 150, 1210, 122, 174, 42, 28, 480, 122, 123], [30098, 10256, 199, 8, 875, 22, 1210, 123, 1910, 81, 3085, 42, 17, 94, 144, 142, 22, 358, 3720, 8, 16442, 2899, 22, 1433, 476, 85, 76, 17997, 17, 471, 17, 11652, 22, 1433, 385, 148, 4265, 8, 32516, 113, 199, 259, 10256, 905, 91, 2214, 10492, 14197, 42, 1776, 99, 144, 1893, 392, 1133, 8, 6137, 42, 1094, 665, 870, 42, 10, 388, 2791, 17, 104, 174, 144, 10256, 667, 199, 148, 4265, 8, 32516, 57, 58, 4137, 42, 13149, 523, 8, 875, 22, 17, 3312, 4309, 40, 1509, 22, 734, 3421, 42, 1534, 142, 22, 30107, 52, 123, 1357, 33, 96, 3312, 58, 1210, 17, 295, 1332, 47, 8, 1497, 61717, 3971, 582, 312, 6290, 38, 1515, 117, 227, 17, 6341, 25, 323, 254, 4845, 1226, 17, 1242, 25, 29, 1046, 2588, 8045, 1057, 17, 1366, 20484, 118, 3424, 705, 22, 17, 15330, 8, 6843, 3335, 19653, 87547, 2446, 40, 17, 3159, 42, 4655, 85, 2119, 6815, 17, 6341, 47, 81, 2075, 87547, 1294, 6970, 1746, 888, 1274, 8, 1291, 1046, 5609, 3335, 16907, 8, 9170, 10255, 42, 8, 2149, 2387, 69, 17866, 226, 4573, 87548, 42, 8672, 14116, 489, 4038, 202, 385, 96, 174, 1619, 31, 452, 9491, 22, 1433, 112, 186, 38, 302, 22, 30107, 15545, 21, 85, 562, 227, 10, 112, 17, 15545, 418, 8, 511, 655, 1166, 8473, 53, 8, 3824, 22, 493, 40, 8, 18357, 385, 17, 4187, 22, 8, 705, 288, 16, 8, 10374, 42, 7119, 34, 1143, 22, 3982, 47, 17, 94, 637, 58, 61062, 85, 2206, 546, 13981, 148, 4265, 8, 32516, 1652, 118, 1065, 1210, 484, 322, 5715, 87549, 8, 2091, 10626, 22, 8892, 58, 1040, 1291, 40, 525, 846, 67, 16907, 42, 643, 85, 24530, 525, 147, 11070, 254, 13, 518, 30, 40, 142, 52, 123, 21580, 51302, 58, 1053, 67, 1055, 385, 17, 1990, 22, 17, 322, 58, 91, 6490, 7, 53, 1439, 22, 22639, 54993, 35768, 87550, 42, 4524, 87551, 17, 222, 47, 2385, 58, 1791, 42, 10256, 57, 787, 17, 879, 17, 2393, 144, 64, 515, 8, 875, 22, 32, 42, 2883, 489, 192, 419, 17, 478, 508, 7, 1331, 42, 392, 187, 2293, 67, 10256, 651, 12027, 17, 174, 85, 9473, 516, 51, 16, 17, 9927, 295, 424, 24, 1776, 8, 1210, 167, 22, 1220, 1152, 17, 12127, 22, 17, 5668, 216, 10256, 223, 1153, 85, 116, 37, 1546, 279, 227, 50, 17, 733, 42, 148, 4265, 8, 32516, 186, 1636, 47, 8, 447, 203, 392, 8, 1778, 144, 10256, 278, 562, 254, 123, 248, 96, 148, 4265, 8, 32516, 58, 81, 7, 42, 7, 104, 1141, 42, 28, 15505, 144, 192, 3312, 691, 2782, 112], [17, 477, 9, 705, 16, 21271, 7630, 58, 150, 22, 17, 104, 193, 194, 1385, 5580, 8, 5609, 42, 17, 24857, 4256, 40, 302, 3874, 1485, 118639, 2439, 42, 3652, 3656, 14018, 17, 3530, 1173, 58, 31, 82, 8, 2019, 1924, 85, 18073, 47, 17, 547, 2380, 22, 17, 477, 216, 268, 8, 2332, 17786, 57726, 671, 104, 16957, 67, 11041, 5649, 17, 303, 50492, 586, 17, 5277, 22, 17, 303, 50492, 17, 1046, 556, 65, 349, 16, 8, 231, 686, 9851, 42, 1344, 71, 3455, 47, 6320, 40, 17, 477, 547, 174, 64, 113, 166, 42, 3487, 216, 1658, 6244, 85, 8, 13649, 40, 17, 3530, 193, 2637, 382, 67, 865, 40, 8, 9, 42, 176, 143, 96, 218, 199, 554, 230, 2160, 145, 2801, 2637, 8, 4290, 15303, 973, 26298, 115, 2578, 2158, 864, 144, 99, 209, 38, 85, 115, 105, 8, 746, 5229, 973, 58, 1704, 294, 4595, 40, 1282, 22, 358, 85, 562, 358, 1406, 8, 671, 22, 8, 9], [145, 56, 38, 672, 96, 9, 12613, 8315, 2451, 144, 58, 1338, 5287, 53, 5922, 5567, 21526, 22, 11165, 665, 69, 29, 954, 22, 30434, 17, 2376, 8, 665, 216, 1263, 29, 2300, 17, 1754, 208, 112, 1436, 403, 9057, 4259, 928, 112, 8, 72, 17729, 202, 216, 685, 287, 115, 969, 2110, 8, 5687, 42, 38, 358, 724, 17, 2376, 145, 663, 641, 1048, 666, 318, 22, 2631, 243, 1165, 18823, 53, 181, 55, 99, 1051, 67, 833, 701, 202, 17, 2376, 11165, 665, 1776, 33, 8, 8315, 392, 33, 8, 1333, 69, 755, 85, 86, 26, 1497, 42, 8315, 248, 71, 3132, 85, 81, 4908, 31, 12613, 17, 2376, 58, 33, 81, 1575, 42, 81, 15098, 2285, 16, 2391, 42, 17, 8150, 64, 34210, 47, 24, 58, 8, 4169, 3335, 11214, 69, 70, 71, 1299, 42, 909, 85, 429, 76, 216, 11214, 660, 711, 202, 202, 40, 17, 9, 145, 11299, 99, 22, 144, 227, 28, 864, 17, 82, 415, 144, 145, 924, 16, 17, 2376, 260, 17, 3121, 5673, 42, 17, 1859], [96, 9, 113, 403, 34156, 210, 85, 692, 17, 1745, 7, 22, 69, 667, 199, 96, 12421, 113, 8, 477, 657, 22, 99, 17, 11773, 5377, 90, 28, 194, 96, 28, 29, 1515, 85, 2151, 28, 114, 31, 3215, 12381, 25, 31, 323, 34157, 11773, 40, 34158, 17, 477, 8604, 34159, 58, 403, 34160, 34161, 34162, 549, 47, 8, 34163, 4586, 316, 78, 150, 909, 85, 152, 17, 34164, 862, 85, 152, 181, 17, 9, 58, 34165, 28, 34162, 34166, 859, 28, 279, 108, 181, 689, 7792, 55, 2402, 17, 247, 34167, 55, 38, 85, 641, 1704, 227, 105, 96, 228, 34168, 173, 554, 210, 85, 429, 388, 2075, 2399, 1057, 11604, 18994], [17, 3921, 419, 22, 96, 9, 58, 294, 1039, 193, 194, 8, 1143, 22, 3542, 3543, 335, 105, 1210, 1681, 1651, 216, 388, 26986, 42, 28, 1792, 176, 140, 247, 1057, 17, 3921, 1147, 42, 64, 645, 16018, 32354, 29784, 17, 295, 22, 17, 9, 58, 294, 1305, 216, 17, 1042, 218, 33, 96, 3542, 3543, 9, 58, 144, 112, 1896, 17, 973, 615, 7, 36, 22, 17, 3941, 10, 3066, 318, 22, 966, 54, 85, 8059, 257, 112, 17, 6791, 40, 96, 9, 25, 268, 26, 2293, 209, 148, 300, 8, 57, 547, 981, 176, 358, 50, 33, 302, 15089, 22, 17, 94, 289, 203, 8, 26, 1488, 9], [96, 9, 58, 150, 22, 17, 142, 12252, 12214, 122, 123, 199, 40, 8495, 40, 17, 3385, 584, 46, 584, 346, 22, 1110, 1723, 1651, 571, 1848, 42, 3539, 2033, 12256, 7734, 122, 216, 1534, 36, 123, 22, 96, 4309, 112, 268, 5, 8, 219, 295, 42, 1200, 22, 1210, 1353, 90, 617, 22, 8, 18476, 9467, 25, 2559, 7, 22, 243, 2406, 53, 41719, 6875, 145, 11053, 8, 5545, 8942, 10224, 26855, 85, 2371, 85, 3894, 358, 66, 90, 81, 1924, 2767, 458, 64, 13522, 81, 94, 489, 8, 40607, 12225, 85, 1048, 85, 1086, 10, 166, 216, 318, 22, 226, 76, 8, 12252, 12214, 4666, 17, 5346, 318, 12106, 76, 85, 4975, 8, 80998, 85, 1754, 17, 56398, 22, 99, 231, 9015, 91, 112, 877, 7, 144, 385, 71, 10519, 1605, 48034, 3636, 13075, 42, 9974, 72684, 45018, 144, 71, 164, 17, 7281, 85, 86, 8, 12252, 12214, 3276, 392, 906, 22, 248, 40, 12521, 68, 90, 3, 131806, 6675, 11453, 17, 7555, 22, 12521, 53, 2631, 76, 115, 2004, 9816, 30631, 4573, 47, 4573, 66, 8324, 46076, 127, 1200, 22, 1210, 1353, 16, 919, 85, 733, 42, 6212, 22, 122, 176, 17, 733, 90, 10224, 26855, 1, 2, 2462, 81, 41719, 31444, 96, 54, 392, 31, 29, 8849, 392, 17, 166, 218, 26855, 10688, 21538, 7075, 81, 8175, 208, 209, 248, 1184, 12252, 12214, 123, 209, 148, 210, 85, 3045, 96, 150], [10973, 29298, 58, 10676, 78, 4720, 33, 863, 202, 57, 96, 583, 38, 382, 8, 219, 3542, 60197, 9, 208, 112, 2255, 382, 604, 47, 8, 1184, 874, 42, 1834, 53, 17, 2429, 27173, 28, 924, 6577, 33, 576, 96, 583, 86, 17, 24975, 250, 22, 17, 874, 181, 19127, 113, 8, 4632, 42, 43043, 60198, 202, 17, 874, 58, 8, 1210, 3542, 3543, 478, 216, 181, 8, 875, 22, 287, 3045, 90, 145, 724, 112, 1897, 1226, 145, 724, 112, 90, 306, 26, 1046, 58, 144, 392, 7277, 105, 338, 2968, 17, 60151, 42, 60164, 25, 8, 2967, 22, 17, 448, 60199, 22, 33579, 3374, 42, 17, 203, 1364, 22, 17, 174, 58, 144, 1357, 60200, 42, 12627, 8, 24248, 32992, 176, 33579, 15996, 42, 243, 2739, 144, 243, 8305, 583, 1382, 2070, 127, 78, 480, 478, 78, 737, 105, 8, 2836, 60151, 60201, 17, 874, 17, 60151, 25, 231, 2937, 4152, 25026, 15369, 105, 8, 2945, 20204, 31, 11, 523, 144, 22, 118, 8331, 17, 54, 36406, 186, 29969, 118, 60151, 511, 216, 392, 684, 64, 70, 22, 525, 254, 248, 8, 9399, 42, 1396, 790, 891, 259, 17, 874, 22710, 202, 96, 9, 232, 2911, 85, 928, 37, 8, 560, 406, 11198, 67, 85, 102, 64, 909, 85, 11565, 289, 54, 17, 38494, 737, 42, 17, 9681, 64, 381, 1048, 25, 821, 85, 562, 174, 691, 15030, 202, 17, 8150, 489, 17, 4533, 58, 11411, 53, 8, 4533, 2425, 1374, 31, 843, 216, 112, 583, 38, 239, 254, 4134, 208, 55, 239, 382, 5486, 85, 152, 144, 3069, 29, 963, 12627, 67, 40, 17, 2376, 254, 8, 3257, 22, 17, 143, 28, 1103, 67, 17, 6306, 25305, 250, 239, 8, 1224, 3102, 253, 24019, 202, 17, 5968, 478, 10914, 8, 2240, 30702, 22, 17, 874, 17, 60151, 25, 516, 15970, 42, 36068, 17, 60164, 25, 516, 4248, 17, 60202, 58, 118, 5901, 42, 127, 78, 10905, 64, 29, 77, 227, 40, 54, 85, 86, 891, 14112, 202, 26899, 60172, 186, 1374, 267, 18058, 58, 150, 22, 388, 3993, 216, 64, 994, 773, 414, 42, 40, 2510, 11492, 64, 9316, 8, 60170, 385, 2579, 96, 64, 268, 984, 12622, 42, 2103, 728, 67, 208, 64, 239, 382, 428, 10, 8, 656, 54, 259, 226, 3370, 202, 8, 2882, 2522, 174, 250, 22, 150, 22, 17, 6760, 2878, 3882, 13956, 29298, 551, 60203, 848, 202], [1243, 9394, 8716, 118, 569, 14679, 947, 105, 8, 27, 12746, 3997, 2766, 85, 81, 232, 1586, 15946, 42, 23432, 1807, 483, 33055, 49003, 1291, 383, 4518, 1283, 85, 81, 7731, 10114, 358, 84255, 22, 2312, 85, 314, 17, 7269, 1, 349, 176, 81, 42106, 1729, 64, 643, 358, 49790, 14659, 85, 31207, 358, 105, 8, 4586, 22831, 42, 48, 1158, 4038, 202, 216, 90, 64, 5649, 762, 8494, 22146, 1253, 105802, 42, 512, 10, 525, 13933, 29060, 64, 4655, 85, 928, 227, 81, 2187, 4589, 42, 300, 5741, 243, 27134, 45480, 58, 931, 1830, 1173, 2766, 85, 43812, 25841, 2945, 1008, 23, 1643, 11000, 5533, 90, 81, 312, 897, 57923, 1771, 85, 860, 866, 81, 500, 42, 8, 25176, 22, 6503, 6341, 898, 6057, 17, 7731, 105814, 202, 403, 1896, 13301, 8, 23425, 584, 14616, 595, 105, 9491, 22, 11750, 1283, 40, 1746, 399, 22, 14154, 2196, 5613, 39181, 42, 2275, 20933, 8, 6075, 1485, 2601, 105, 8, 11104, 10, 4085, 312, 5111, 16134, 105, 5130, 105815, 2398, 11054, 6341, 1274, 8, 1210, 774, 582, 150, 2191, 5, 525, 4137, 14763, 40, 105, 8, 2146, 42, 525, 45244, 3969, 53, 60464, 5062, 8, 43574, 248, 144, 583, 2015, 554, 8, 547, 105816, 102, 30, 28, 395, 17, 212, 57923, 337, 7, 22, 525, 3032, 403, 3511, 91, 10, 3968, 17, 295, 58, 94, 516, 7042, 24, 25, 383, 17551, 1571, 295, 7485, 42, 888, 7969, 42, 112, 99, 1643, 8, 774, 516, 51, 53, 17, 2332, 105817, 23, 55, 8408, 144, 99, 550, 2398, 287, 38, 382, 8626, 85, 300, 243, 3135, 40685, 47, 43812, 10325, 42, 144, 587, 383, 4137, 642, 17298, 807, 58, 641, 603, 85, 86, 17, 556, 22, 17, 105818, 4137, 113, 14817, 516, 51, 85, 32, 4546, 11177, 105819, 904, 58, 294, 35933, 5236, 2244, 216, 67, 648, 67, 56957, 176, 11783, 202, 42, 48, 127, 17, 3832, 144, 25, 29, 516, 1102, 3556, 2065, 323, 10, 8, 3312, 17, 1807, 53, 43545, 3699, 12265, 4639, 150, 22, 17, 36, 1800, 7617, 22, 2978, 667, 43812, 801, 3388, 118, 687, 18381, 5833, 69, 58, 3625, 53, 8, 294, 1046, 511, 17, 4698, 22, 8, 3824, 22, 16257, 19395, 4518, 15036, 67, 39112, 17, 662, 1924, 176, 1604, 17, 973, 144, 17, 174, 58, 412, 40, 3374, 2814, 3979, 42, 4698, 8, 316, 1366, 24146, 10, 150, 22, 17, 2511, 58, 31, 821, 42, 48, 22, 631, 24, 58, 17, 61903, 22, 1753, 8, 1809, 22, 105820, 8478, 5454, 1170, 85, 8, 11531, 6846, 202, 17, 212, 57923, 337, 7, 22, 525, 3032, 1776, 8, 2240, 132, 22, 54, 576, 114, 112, 86, 105, 403, 51, 1096, 832, 47, 1772, 216, 24, 25, 51, 72, 84889, 7, 24, 157, 96, 150, 208, 697, 8, 657, 22, 17, 4309, 42, 676, 261, 194, 17, 105821, 148, 1093, 516, 51], [28, 357, 17, 477, 1812, 9, 178, 8, 421, 657, 22, 3344, 112, 58, 388, 1649, 1751, 22, 321, 112, 58, 2068, 16028, 67, 17, 36, 4248, 1751, 22, 321, 17, 28533, 2588, 918, 85, 3056, 144, 2731, 3406, 40, 17, 477, 174, 48, 3177, 1699, 112, 90, 226, 17, 3530, 28, 864, 17, 28533, 25, 8, 1381, 22, 2531, 26248, 5918, 323, 26248, 562, 106011, 202, 17, 9, 850, 105, 1608, 28, 328, 17, 2604, 3344, 2837, 17, 549, 47, 7, 21464, 1895, 401, 689, 28533, 1494, 524, 216, 247, 13, 144, 28, 304, 82, 864, 22, 302, 247, 143, 28, 2497, 231, 90, 13063, 13086, 58, 29726, 40, 17, 1597, 22, 17, 212, 53, 8, 2724, 48, 1643, 106012, 42, 1771, 2145, 33, 1389, 105, 76, 3107, 71, 1879, 112, 113, 29, 8, 16568, 2802, 144, 113, 4661, 552, 231, 17, 2790, 17, 1382, 766, 3344, 582, 17, 27610, 44, 7997, 4727, 227, 8, 704, 385, 34582, 525, 153, 765, 216, 323, 17, 931, 1830, 1799, 25, 78, 5300, 10, 17, 2142, 7924, 2443, 22, 17, 232, 1812, 4416, 202, 17, 1990, 22, 17, 9, 58, 4823, 206, 281, 105, 1110, 8718, 7, 8034, 2024, 16, 17, 232, 9, 23, 260, 6988, 108, 9025, 25, 45332, 42, 9383, 10, 120, 40, 1812, 9, 28, 2398, 28592, 25, 199, 85, 8888, 144, 17, 44, 9194, 58, 5783, 96, 113, 4896, 216, 40, 1812, 9, 3799, 17, 923, 25628, 10982, 419, 105, 9194, 2392, 17, 1347, 113, 1165, 4630, 42, 1040, 5666, 96, 58, 17, 11051, 22, 17, 923, 174, 2242, 321, 172, 252, 253, 8, 9, 26, 11, 96, 113, 8, 8853, 40, 231, 42, 231, 451, 202, 202, 67, 51, 67, 112, 15229, 554, 85, 205, 8, 28533, 9, 403, 732, 28, 38, 85, 928, 96, 150, 8, 231, 7, 22, 231], [96, 58, 150, 22, 17, 1423, 415, 85, 667, 549, 7, 22, 3374, 403, 144, 2241, 8, 875, 279, 24, 17, 1443, 90, 55, 38, 85, 395, 7, 2259, 108, 31, 126619, 58, 9074, 58, 3485, 789, 17, 11915, 58, 2792, 17, 1042, 1581, 33770, 40, 525, 2523, 11367, 2366, 13574, 10, 15094, 1057, 655, 3130, 53, 2444, 13910, 965, 96, 9, 5, 2398, 6604, 22, 2628, 516, 329, 332, 22, 358, 25, 547, 24, 58, 268, 8, 95, 40, 23, 24, 58, 223, 8, 1549, 2634, 23, 643, 969, 1722, 205, 349, 85, 29, 4047, 1469, 24, 58, 268, 8, 157, 144, 643, 126620, 315, 42, 17, 534, 22, 17, 511, 31, 1632, 525, 157, 349, 58, 17705, 85, 17, 595, 22, 17, 8985, 320, 82, 8, 875, 254, 3511, 42, 871, 2239, 47, 8, 6528, 240, 1086, 599, 17, 871, 1366, 42, 17, 2444, 13910, 23, 5812, 40, 128, 1831, 17, 61880, 22, 8, 875, 22, 287, 1831, 8, 4169, 42, 209, 38, 396, 7060, 8, 871, 9, 17, 5073, 250, 58, 294, 547, 329, 31, 150, 22, 24, 76652]]\n",
            "[1, 0, 0, 1, 1, 0, 1, 1, 1, 1, 1, 1, 1, 0, 0, 0, 1, 0, 1, 1, 0, 1, 1, 0, 0, 0, 1, 1, 0, 0, 0, 0]\n"
          ]
        }
      ],
      "source": [
        "from torch.utils.data import DataLoader\n",
        "\n",
        "# Create the DataLoader\n",
        "dataloader = DataLoader(\n",
        "    dataset=imdb_dataset,  # Your dataset instance\n",
        "    batch_size=32,  # Define the batch size\n",
        "    collate_fn=collate_fn,  # Use the custom collate function\n",
        "    shuffle=True  # Shuffle the data for training\n",
        ")\n",
        "\n",
        "# Test the DataLoader\n",
        "for batch in dataloader:\n",
        "    print(batch[\"token_ids\"])\n",
        "    print(batch[\"labels\"])\n",
        "    break\n"
      ]
    },
    {
      "cell_type": "markdown",
      "metadata": {
        "id": "B0aAd6B2q4KC"
      },
      "source": [
        "🔴 **TEST**"
      ]
    },
    {
      "cell_type": "code",
      "execution_count": 91,
      "metadata": {
        "id": "YMkufgR1Sf8J"
      },
      "outputs": [],
      "source": [
        "for batch_size in range(1, 10):\n",
        "    dataloader = DataLoader(\n",
        "        dataset=imdb_dataset, batch_size=batch_size, collate_fn=collate_fn\n",
        "    )\n",
        "    for batch in dataloader:\n",
        "        token_ids = batch[\"token_ids\"]\n",
        "        labels = batch[\"labels\"]\n",
        "        assert len(token_ids) == batch_size\n",
        "        assert len(labels) == batch_size\n",
        "        assert isinstance(token_ids[0][0], int)\n",
        "        assert (isinstance(labels[0], int)) or isinstance(labels[0], np.int64)\n",
        "        break"
      ]
    },
    {
      "cell_type": "markdown",
      "metadata": {
        "id": "JacMmD5Kq6j8"
      },
      "source": [
        "🚧 **Question** 🚧\n",
        "\n",
        "Write a concise summary on what you learned with this lab."
      ]
    },
    {
      "cell_type": "markdown",
      "source": [
        "### ✅ **Answer** ✅\n",
        "#### **Summary of Learnings from the Lab**\n",
        "\n",
        "In this lab, I gained a practical understanding of text preprocessing and tokenization for Natural Language Processing (NLP) with hands on practice and trial and error.\n",
        "Referring back to the lecture notes and external resources I took away numerous concepts such as:\n",
        "1. **Text Preprocessing**:\n",
        "   - Implemented text cleaning techniques such as lowercasing, normalization, and removal of non-alphanumeric characters.\n",
        "   - Understood the importance of preprocessing for creating clean and consistent text data for machine learning models.\n",
        "\n",
        "2. **Custom Tokenizer**:\n",
        "   - Built a custom tokenizer that tokenizes text into tokens, encodes them into numerical IDs, and handles unknown tokens with a special `<UNK>` token.\n",
        "   - Learned the importance of subword tokenization for handling out-of-vocabulary words.\n",
        "\n",
        "3. **Dataset Integration with PyTorch**:\n",
        "   - Created a custom PyTorch `Dataset` class to handle raw text and labels.\n",
        "   - Used `torch.utils.data.DataLoader` with a `collate_fn` to process and batch data dynamically during training.\n",
        "\n",
        "4. **Data Representation**:\n",
        "   - Explored efficient ways to represent textual data numerically for deep learning.\n",
        "   - Applied a pipeline combining preprocessing, tokenization, and batching.\n",
        "\n",
        "This lab provided a solid foundation for handling text data in NLP tasks and integrating it with PyTorch for further model training.\n"
      ],
      "metadata": {
        "id": "OmGkIDvmZoit"
      }
    }
  ],
  "metadata": {
    "colab": {
      "provenance": [],
      "include_colab_link": true
    },
    "kernelspec": {
      "display_name": "Python 3 (ipykernel)",
      "language": "python",
      "name": "python3"
    },
    "language_info": {
      "codemirror_mode": {
        "name": "ipython",
        "version": 3
      },
      "file_extension": ".py",
      "mimetype": "text/x-python",
      "name": "python",
      "nbconvert_exporter": "python",
      "pygments_lexer": "ipython3",
      "version": "3.9.19"
    },
    "toc": {
      "base_numbering": 1,
      "nav_menu": {},
      "number_sections": true,
      "sideBar": true,
      "skip_h1_title": false,
      "title_cell": "Table of Contents",
      "title_sidebar": "Contents",
      "toc_cell": false,
      "toc_position": {},
      "toc_section_display": true,
      "toc_window_display": false
    },
    "widgets": {
      "application/vnd.jupyter.widget-state+json": {
        "c3490a1f3c7748bc8795e79d3ef1a97f": {
          "model_module": "@jupyter-widgets/controls",
          "model_name": "HBoxModel",
          "model_module_version": "1.5.0",
          "state": {
            "_dom_classes": [],
            "_model_module": "@jupyter-widgets/controls",
            "_model_module_version": "1.5.0",
            "_model_name": "HBoxModel",
            "_view_count": null,
            "_view_module": "@jupyter-widgets/controls",
            "_view_module_version": "1.5.0",
            "_view_name": "HBoxView",
            "box_style": "",
            "children": [
              "IPY_MODEL_5546207b0dc44da887f3d28dcdc93e35",
              "IPY_MODEL_873af388fc3f492aab45154129489f9a",
              "IPY_MODEL_b972ec7087e741b4adac46ce5ecd0915"
            ],
            "layout": "IPY_MODEL_07a67d05f5ff4748bfac8b777f57ae66"
          }
        },
        "5546207b0dc44da887f3d28dcdc93e35": {
          "model_module": "@jupyter-widgets/controls",
          "model_name": "HTMLModel",
          "model_module_version": "1.5.0",
          "state": {
            "_dom_classes": [],
            "_model_module": "@jupyter-widgets/controls",
            "_model_module_version": "1.5.0",
            "_model_name": "HTMLModel",
            "_view_count": null,
            "_view_module": "@jupyter-widgets/controls",
            "_view_module_version": "1.5.0",
            "_view_name": "HTMLView",
            "description": "",
            "description_tooltip": null,
            "layout": "IPY_MODEL_f81dffbeaa524de18e7f2c071fcdb1e2",
            "placeholder": "​",
            "style": "IPY_MODEL_2bd9cd60669f450da6bea5dabd5e80e7",
            "value": "100%"
          }
        },
        "873af388fc3f492aab45154129489f9a": {
          "model_module": "@jupyter-widgets/controls",
          "model_name": "FloatProgressModel",
          "model_module_version": "1.5.0",
          "state": {
            "_dom_classes": [],
            "_model_module": "@jupyter-widgets/controls",
            "_model_module_version": "1.5.0",
            "_model_name": "FloatProgressModel",
            "_view_count": null,
            "_view_module": "@jupyter-widgets/controls",
            "_view_module_version": "1.5.0",
            "_view_name": "ProgressView",
            "bar_style": "success",
            "description": "",
            "description_tooltip": null,
            "layout": "IPY_MODEL_28ca48f416844e1bb0188baba717dbfa",
            "max": 2,
            "min": 0,
            "orientation": "horizontal",
            "style": "IPY_MODEL_5e67b750f3ab42d0bd8794540737f20d",
            "value": 2
          }
        },
        "b972ec7087e741b4adac46ce5ecd0915": {
          "model_module": "@jupyter-widgets/controls",
          "model_name": "HTMLModel",
          "model_module_version": "1.5.0",
          "state": {
            "_dom_classes": [],
            "_model_module": "@jupyter-widgets/controls",
            "_model_module_version": "1.5.0",
            "_model_name": "HTMLModel",
            "_view_count": null,
            "_view_module": "@jupyter-widgets/controls",
            "_view_module_version": "1.5.0",
            "_view_name": "HTMLView",
            "description": "",
            "description_tooltip": null,
            "layout": "IPY_MODEL_8d92831b0603402aa64a04c569b7366b",
            "placeholder": "​",
            "style": "IPY_MODEL_ffd834a531144a7fb7592fa7136b5995",
            "value": " 2/2 [00:00&lt;00:00, 73.75it/s]"
          }
        },
        "07a67d05f5ff4748bfac8b777f57ae66": {
          "model_module": "@jupyter-widgets/base",
          "model_name": "LayoutModel",
          "model_module_version": "1.2.0",
          "state": {
            "_model_module": "@jupyter-widgets/base",
            "_model_module_version": "1.2.0",
            "_model_name": "LayoutModel",
            "_view_count": null,
            "_view_module": "@jupyter-widgets/base",
            "_view_module_version": "1.2.0",
            "_view_name": "LayoutView",
            "align_content": null,
            "align_items": null,
            "align_self": null,
            "border": null,
            "bottom": null,
            "display": null,
            "flex": null,
            "flex_flow": null,
            "grid_area": null,
            "grid_auto_columns": null,
            "grid_auto_flow": null,
            "grid_auto_rows": null,
            "grid_column": null,
            "grid_gap": null,
            "grid_row": null,
            "grid_template_areas": null,
            "grid_template_columns": null,
            "grid_template_rows": null,
            "height": null,
            "justify_content": null,
            "justify_items": null,
            "left": null,
            "margin": null,
            "max_height": null,
            "max_width": null,
            "min_height": null,
            "min_width": null,
            "object_fit": null,
            "object_position": null,
            "order": null,
            "overflow": null,
            "overflow_x": null,
            "overflow_y": null,
            "padding": null,
            "right": null,
            "top": null,
            "visibility": null,
            "width": null
          }
        },
        "f81dffbeaa524de18e7f2c071fcdb1e2": {
          "model_module": "@jupyter-widgets/base",
          "model_name": "LayoutModel",
          "model_module_version": "1.2.0",
          "state": {
            "_model_module": "@jupyter-widgets/base",
            "_model_module_version": "1.2.0",
            "_model_name": "LayoutModel",
            "_view_count": null,
            "_view_module": "@jupyter-widgets/base",
            "_view_module_version": "1.2.0",
            "_view_name": "LayoutView",
            "align_content": null,
            "align_items": null,
            "align_self": null,
            "border": null,
            "bottom": null,
            "display": null,
            "flex": null,
            "flex_flow": null,
            "grid_area": null,
            "grid_auto_columns": null,
            "grid_auto_flow": null,
            "grid_auto_rows": null,
            "grid_column": null,
            "grid_gap": null,
            "grid_row": null,
            "grid_template_areas": null,
            "grid_template_columns": null,
            "grid_template_rows": null,
            "height": null,
            "justify_content": null,
            "justify_items": null,
            "left": null,
            "margin": null,
            "max_height": null,
            "max_width": null,
            "min_height": null,
            "min_width": null,
            "object_fit": null,
            "object_position": null,
            "order": null,
            "overflow": null,
            "overflow_x": null,
            "overflow_y": null,
            "padding": null,
            "right": null,
            "top": null,
            "visibility": null,
            "width": null
          }
        },
        "2bd9cd60669f450da6bea5dabd5e80e7": {
          "model_module": "@jupyter-widgets/controls",
          "model_name": "DescriptionStyleModel",
          "model_module_version": "1.5.0",
          "state": {
            "_model_module": "@jupyter-widgets/controls",
            "_model_module_version": "1.5.0",
            "_model_name": "DescriptionStyleModel",
            "_view_count": null,
            "_view_module": "@jupyter-widgets/base",
            "_view_module_version": "1.2.0",
            "_view_name": "StyleView",
            "description_width": ""
          }
        },
        "28ca48f416844e1bb0188baba717dbfa": {
          "model_module": "@jupyter-widgets/base",
          "model_name": "LayoutModel",
          "model_module_version": "1.2.0",
          "state": {
            "_model_module": "@jupyter-widgets/base",
            "_model_module_version": "1.2.0",
            "_model_name": "LayoutModel",
            "_view_count": null,
            "_view_module": "@jupyter-widgets/base",
            "_view_module_version": "1.2.0",
            "_view_name": "LayoutView",
            "align_content": null,
            "align_items": null,
            "align_self": null,
            "border": null,
            "bottom": null,
            "display": null,
            "flex": null,
            "flex_flow": null,
            "grid_area": null,
            "grid_auto_columns": null,
            "grid_auto_flow": null,
            "grid_auto_rows": null,
            "grid_column": null,
            "grid_gap": null,
            "grid_row": null,
            "grid_template_areas": null,
            "grid_template_columns": null,
            "grid_template_rows": null,
            "height": null,
            "justify_content": null,
            "justify_items": null,
            "left": null,
            "margin": null,
            "max_height": null,
            "max_width": null,
            "min_height": null,
            "min_width": null,
            "object_fit": null,
            "object_position": null,
            "order": null,
            "overflow": null,
            "overflow_x": null,
            "overflow_y": null,
            "padding": null,
            "right": null,
            "top": null,
            "visibility": null,
            "width": null
          }
        },
        "5e67b750f3ab42d0bd8794540737f20d": {
          "model_module": "@jupyter-widgets/controls",
          "model_name": "ProgressStyleModel",
          "model_module_version": "1.5.0",
          "state": {
            "_model_module": "@jupyter-widgets/controls",
            "_model_module_version": "1.5.0",
            "_model_name": "ProgressStyleModel",
            "_view_count": null,
            "_view_module": "@jupyter-widgets/base",
            "_view_module_version": "1.2.0",
            "_view_name": "StyleView",
            "bar_color": null,
            "description_width": ""
          }
        },
        "8d92831b0603402aa64a04c569b7366b": {
          "model_module": "@jupyter-widgets/base",
          "model_name": "LayoutModel",
          "model_module_version": "1.2.0",
          "state": {
            "_model_module": "@jupyter-widgets/base",
            "_model_module_version": "1.2.0",
            "_model_name": "LayoutModel",
            "_view_count": null,
            "_view_module": "@jupyter-widgets/base",
            "_view_module_version": "1.2.0",
            "_view_name": "LayoutView",
            "align_content": null,
            "align_items": null,
            "align_self": null,
            "border": null,
            "bottom": null,
            "display": null,
            "flex": null,
            "flex_flow": null,
            "grid_area": null,
            "grid_auto_columns": null,
            "grid_auto_flow": null,
            "grid_auto_rows": null,
            "grid_column": null,
            "grid_gap": null,
            "grid_row": null,
            "grid_template_areas": null,
            "grid_template_columns": null,
            "grid_template_rows": null,
            "height": null,
            "justify_content": null,
            "justify_items": null,
            "left": null,
            "margin": null,
            "max_height": null,
            "max_width": null,
            "min_height": null,
            "min_width": null,
            "object_fit": null,
            "object_position": null,
            "order": null,
            "overflow": null,
            "overflow_x": null,
            "overflow_y": null,
            "padding": null,
            "right": null,
            "top": null,
            "visibility": null,
            "width": null
          }
        },
        "ffd834a531144a7fb7592fa7136b5995": {
          "model_module": "@jupyter-widgets/controls",
          "model_name": "DescriptionStyleModel",
          "model_module_version": "1.5.0",
          "state": {
            "_model_module": "@jupyter-widgets/controls",
            "_model_module_version": "1.5.0",
            "_model_name": "DescriptionStyleModel",
            "_view_count": null,
            "_view_module": "@jupyter-widgets/base",
            "_view_module_version": "1.2.0",
            "_view_name": "StyleView",
            "description_width": ""
          }
        },
        "307bc02373af47e8bcddb3742a0eaac4": {
          "model_module": "@jupyter-widgets/controls",
          "model_name": "HBoxModel",
          "model_module_version": "1.5.0",
          "state": {
            "_dom_classes": [],
            "_model_module": "@jupyter-widgets/controls",
            "_model_module_version": "1.5.0",
            "_model_name": "HBoxModel",
            "_view_count": null,
            "_view_module": "@jupyter-widgets/controls",
            "_view_module_version": "1.5.0",
            "_view_name": "HBoxView",
            "box_style": "",
            "children": [
              "IPY_MODEL_d36b6e7b210941eba73a675987153933",
              "IPY_MODEL_e2d9223f56a44c2dadff234944d70e35",
              "IPY_MODEL_c17c320a376f47dc99ab211fa4b3471b"
            ],
            "layout": "IPY_MODEL_1996012c71b343a2b1070b203797d057"
          }
        },
        "d36b6e7b210941eba73a675987153933": {
          "model_module": "@jupyter-widgets/controls",
          "model_name": "HTMLModel",
          "model_module_version": "1.5.0",
          "state": {
            "_dom_classes": [],
            "_model_module": "@jupyter-widgets/controls",
            "_model_module_version": "1.5.0",
            "_model_name": "HTMLModel",
            "_view_count": null,
            "_view_module": "@jupyter-widgets/controls",
            "_view_module_version": "1.5.0",
            "_view_name": "HTMLView",
            "description": "",
            "description_tooltip": null,
            "layout": "IPY_MODEL_5a64b453530c4d05b93fde073b2642a0",
            "placeholder": "​",
            "style": "IPY_MODEL_a1edb11874f143bfaf8278535d2939b7",
            "value": "100%"
          }
        },
        "e2d9223f56a44c2dadff234944d70e35": {
          "model_module": "@jupyter-widgets/controls",
          "model_name": "FloatProgressModel",
          "model_module_version": "1.5.0",
          "state": {
            "_dom_classes": [],
            "_model_module": "@jupyter-widgets/controls",
            "_model_module_version": "1.5.0",
            "_model_name": "FloatProgressModel",
            "_view_count": null,
            "_view_module": "@jupyter-widgets/controls",
            "_view_module_version": "1.5.0",
            "_view_name": "ProgressView",
            "bar_style": "success",
            "description": "",
            "description_tooltip": null,
            "layout": "IPY_MODEL_07b7a528f7f747fea5c57cfb3cf3fd98",
            "max": 62155,
            "min": 0,
            "orientation": "horizontal",
            "style": "IPY_MODEL_a47d52c02e05454a862ceb209f2fce3f",
            "value": 62155
          }
        },
        "c17c320a376f47dc99ab211fa4b3471b": {
          "model_module": "@jupyter-widgets/controls",
          "model_name": "HTMLModel",
          "model_module_version": "1.5.0",
          "state": {
            "_dom_classes": [],
            "_model_module": "@jupyter-widgets/controls",
            "_model_module_version": "1.5.0",
            "_model_name": "HTMLModel",
            "_view_count": null,
            "_view_module": "@jupyter-widgets/controls",
            "_view_module_version": "1.5.0",
            "_view_name": "HTMLView",
            "description": "",
            "description_tooltip": null,
            "layout": "IPY_MODEL_ebe52253af904383ab210579cee9d5a0",
            "placeholder": "​",
            "style": "IPY_MODEL_cf2fb9195dee4f6eae6fe8546e15b804",
            "value": " 62155/62155 [00:09&lt;00:00, 6811.44it/s]"
          }
        },
        "1996012c71b343a2b1070b203797d057": {
          "model_module": "@jupyter-widgets/base",
          "model_name": "LayoutModel",
          "model_module_version": "1.2.0",
          "state": {
            "_model_module": "@jupyter-widgets/base",
            "_model_module_version": "1.2.0",
            "_model_name": "LayoutModel",
            "_view_count": null,
            "_view_module": "@jupyter-widgets/base",
            "_view_module_version": "1.2.0",
            "_view_name": "LayoutView",
            "align_content": null,
            "align_items": null,
            "align_self": null,
            "border": null,
            "bottom": null,
            "display": null,
            "flex": null,
            "flex_flow": null,
            "grid_area": null,
            "grid_auto_columns": null,
            "grid_auto_flow": null,
            "grid_auto_rows": null,
            "grid_column": null,
            "grid_gap": null,
            "grid_row": null,
            "grid_template_areas": null,
            "grid_template_columns": null,
            "grid_template_rows": null,
            "height": null,
            "justify_content": null,
            "justify_items": null,
            "left": null,
            "margin": null,
            "max_height": null,
            "max_width": null,
            "min_height": null,
            "min_width": null,
            "object_fit": null,
            "object_position": null,
            "order": null,
            "overflow": null,
            "overflow_x": null,
            "overflow_y": null,
            "padding": null,
            "right": null,
            "top": null,
            "visibility": null,
            "width": null
          }
        },
        "5a64b453530c4d05b93fde073b2642a0": {
          "model_module": "@jupyter-widgets/base",
          "model_name": "LayoutModel",
          "model_module_version": "1.2.0",
          "state": {
            "_model_module": "@jupyter-widgets/base",
            "_model_module_version": "1.2.0",
            "_model_name": "LayoutModel",
            "_view_count": null,
            "_view_module": "@jupyter-widgets/base",
            "_view_module_version": "1.2.0",
            "_view_name": "LayoutView",
            "align_content": null,
            "align_items": null,
            "align_self": null,
            "border": null,
            "bottom": null,
            "display": null,
            "flex": null,
            "flex_flow": null,
            "grid_area": null,
            "grid_auto_columns": null,
            "grid_auto_flow": null,
            "grid_auto_rows": null,
            "grid_column": null,
            "grid_gap": null,
            "grid_row": null,
            "grid_template_areas": null,
            "grid_template_columns": null,
            "grid_template_rows": null,
            "height": null,
            "justify_content": null,
            "justify_items": null,
            "left": null,
            "margin": null,
            "max_height": null,
            "max_width": null,
            "min_height": null,
            "min_width": null,
            "object_fit": null,
            "object_position": null,
            "order": null,
            "overflow": null,
            "overflow_x": null,
            "overflow_y": null,
            "padding": null,
            "right": null,
            "top": null,
            "visibility": null,
            "width": null
          }
        },
        "a1edb11874f143bfaf8278535d2939b7": {
          "model_module": "@jupyter-widgets/controls",
          "model_name": "DescriptionStyleModel",
          "model_module_version": "1.5.0",
          "state": {
            "_model_module": "@jupyter-widgets/controls",
            "_model_module_version": "1.5.0",
            "_model_name": "DescriptionStyleModel",
            "_view_count": null,
            "_view_module": "@jupyter-widgets/base",
            "_view_module_version": "1.2.0",
            "_view_name": "StyleView",
            "description_width": ""
          }
        },
        "07b7a528f7f747fea5c57cfb3cf3fd98": {
          "model_module": "@jupyter-widgets/base",
          "model_name": "LayoutModel",
          "model_module_version": "1.2.0",
          "state": {
            "_model_module": "@jupyter-widgets/base",
            "_model_module_version": "1.2.0",
            "_model_name": "LayoutModel",
            "_view_count": null,
            "_view_module": "@jupyter-widgets/base",
            "_view_module_version": "1.2.0",
            "_view_name": "LayoutView",
            "align_content": null,
            "align_items": null,
            "align_self": null,
            "border": null,
            "bottom": null,
            "display": null,
            "flex": null,
            "flex_flow": null,
            "grid_area": null,
            "grid_auto_columns": null,
            "grid_auto_flow": null,
            "grid_auto_rows": null,
            "grid_column": null,
            "grid_gap": null,
            "grid_row": null,
            "grid_template_areas": null,
            "grid_template_columns": null,
            "grid_template_rows": null,
            "height": null,
            "justify_content": null,
            "justify_items": null,
            "left": null,
            "margin": null,
            "max_height": null,
            "max_width": null,
            "min_height": null,
            "min_width": null,
            "object_fit": null,
            "object_position": null,
            "order": null,
            "overflow": null,
            "overflow_x": null,
            "overflow_y": null,
            "padding": null,
            "right": null,
            "top": null,
            "visibility": null,
            "width": null
          }
        },
        "a47d52c02e05454a862ceb209f2fce3f": {
          "model_module": "@jupyter-widgets/controls",
          "model_name": "ProgressStyleModel",
          "model_module_version": "1.5.0",
          "state": {
            "_model_module": "@jupyter-widgets/controls",
            "_model_module_version": "1.5.0",
            "_model_name": "ProgressStyleModel",
            "_view_count": null,
            "_view_module": "@jupyter-widgets/base",
            "_view_module_version": "1.2.0",
            "_view_name": "StyleView",
            "bar_color": null,
            "description_width": ""
          }
        },
        "ebe52253af904383ab210579cee9d5a0": {
          "model_module": "@jupyter-widgets/base",
          "model_name": "LayoutModel",
          "model_module_version": "1.2.0",
          "state": {
            "_model_module": "@jupyter-widgets/base",
            "_model_module_version": "1.2.0",
            "_model_name": "LayoutModel",
            "_view_count": null,
            "_view_module": "@jupyter-widgets/base",
            "_view_module_version": "1.2.0",
            "_view_name": "LayoutView",
            "align_content": null,
            "align_items": null,
            "align_self": null,
            "border": null,
            "bottom": null,
            "display": null,
            "flex": null,
            "flex_flow": null,
            "grid_area": null,
            "grid_auto_columns": null,
            "grid_auto_flow": null,
            "grid_auto_rows": null,
            "grid_column": null,
            "grid_gap": null,
            "grid_row": null,
            "grid_template_areas": null,
            "grid_template_columns": null,
            "grid_template_rows": null,
            "height": null,
            "justify_content": null,
            "justify_items": null,
            "left": null,
            "margin": null,
            "max_height": null,
            "max_width": null,
            "min_height": null,
            "min_width": null,
            "object_fit": null,
            "object_position": null,
            "order": null,
            "overflow": null,
            "overflow_x": null,
            "overflow_y": null,
            "padding": null,
            "right": null,
            "top": null,
            "visibility": null,
            "width": null
          }
        },
        "cf2fb9195dee4f6eae6fe8546e15b804": {
          "model_module": "@jupyter-widgets/controls",
          "model_name": "DescriptionStyleModel",
          "model_module_version": "1.5.0",
          "state": {
            "_model_module": "@jupyter-widgets/controls",
            "_model_module_version": "1.5.0",
            "_model_name": "DescriptionStyleModel",
            "_view_count": null,
            "_view_module": "@jupyter-widgets/base",
            "_view_module_version": "1.2.0",
            "_view_name": "StyleView",
            "description_width": ""
          }
        },
        "10c3dc9eb4d0418c94430585533b4b94": {
          "model_module": "@jupyter-widgets/controls",
          "model_name": "HBoxModel",
          "model_module_version": "1.5.0",
          "state": {
            "_dom_classes": [],
            "_model_module": "@jupyter-widgets/controls",
            "_model_module_version": "1.5.0",
            "_model_name": "HBoxModel",
            "_view_count": null,
            "_view_module": "@jupyter-widgets/controls",
            "_view_module_version": "1.5.0",
            "_view_name": "HBoxView",
            "box_style": "",
            "children": [
              "IPY_MODEL_9b657c8bf1d44885af6960ec487b2fde",
              "IPY_MODEL_be3ecc49745949b4b1b3adc3378227aa",
              "IPY_MODEL_8bf7d3166ea64d73aada89c3faf23e52"
            ],
            "layout": "IPY_MODEL_278ef7f523d3409aa3bb0095eb1ebb73"
          }
        },
        "9b657c8bf1d44885af6960ec487b2fde": {
          "model_module": "@jupyter-widgets/controls",
          "model_name": "HTMLModel",
          "model_module_version": "1.5.0",
          "state": {
            "_dom_classes": [],
            "_model_module": "@jupyter-widgets/controls",
            "_model_module_version": "1.5.0",
            "_model_name": "HTMLModel",
            "_view_count": null,
            "_view_module": "@jupyter-widgets/controls",
            "_view_module_version": "1.5.0",
            "_view_name": "HTMLView",
            "description": "",
            "description_tooltip": null,
            "layout": "IPY_MODEL_6ae4ac12ebeb4c54b9dd67095b55cfdc",
            "placeholder": "​",
            "style": "IPY_MODEL_b981cc33dd854feab921b7f8a50ef499",
            "value": "100%"
          }
        },
        "be3ecc49745949b4b1b3adc3378227aa": {
          "model_module": "@jupyter-widgets/controls",
          "model_name": "FloatProgressModel",
          "model_module_version": "1.5.0",
          "state": {
            "_dom_classes": [],
            "_model_module": "@jupyter-widgets/controls",
            "_model_module_version": "1.5.0",
            "_model_name": "FloatProgressModel",
            "_view_count": null,
            "_view_module": "@jupyter-widgets/controls",
            "_view_module_version": "1.5.0",
            "_view_name": "ProgressView",
            "bar_style": "success",
            "description": "",
            "description_tooltip": null,
            "layout": "IPY_MODEL_0bc759ee6e08402188bc4349574d6d07",
            "max": 62155,
            "min": 0,
            "orientation": "horizontal",
            "style": "IPY_MODEL_69bad9f0840a4570a923760dd03c6966",
            "value": 62155
          }
        },
        "8bf7d3166ea64d73aada89c3faf23e52": {
          "model_module": "@jupyter-widgets/controls",
          "model_name": "HTMLModel",
          "model_module_version": "1.5.0",
          "state": {
            "_dom_classes": [],
            "_model_module": "@jupyter-widgets/controls",
            "_model_module_version": "1.5.0",
            "_model_name": "HTMLModel",
            "_view_count": null,
            "_view_module": "@jupyter-widgets/controls",
            "_view_module_version": "1.5.0",
            "_view_name": "HTMLView",
            "description": "",
            "description_tooltip": null,
            "layout": "IPY_MODEL_e875542abdf648a8b6a30ba02973d46e",
            "placeholder": "​",
            "style": "IPY_MODEL_4cbf9647d8624035958efa3b81acabe6",
            "value": " 62155/62155 [00:07&lt;00:00, 4636.61it/s]"
          }
        },
        "278ef7f523d3409aa3bb0095eb1ebb73": {
          "model_module": "@jupyter-widgets/base",
          "model_name": "LayoutModel",
          "model_module_version": "1.2.0",
          "state": {
            "_model_module": "@jupyter-widgets/base",
            "_model_module_version": "1.2.0",
            "_model_name": "LayoutModel",
            "_view_count": null,
            "_view_module": "@jupyter-widgets/base",
            "_view_module_version": "1.2.0",
            "_view_name": "LayoutView",
            "align_content": null,
            "align_items": null,
            "align_self": null,
            "border": null,
            "bottom": null,
            "display": null,
            "flex": null,
            "flex_flow": null,
            "grid_area": null,
            "grid_auto_columns": null,
            "grid_auto_flow": null,
            "grid_auto_rows": null,
            "grid_column": null,
            "grid_gap": null,
            "grid_row": null,
            "grid_template_areas": null,
            "grid_template_columns": null,
            "grid_template_rows": null,
            "height": null,
            "justify_content": null,
            "justify_items": null,
            "left": null,
            "margin": null,
            "max_height": null,
            "max_width": null,
            "min_height": null,
            "min_width": null,
            "object_fit": null,
            "object_position": null,
            "order": null,
            "overflow": null,
            "overflow_x": null,
            "overflow_y": null,
            "padding": null,
            "right": null,
            "top": null,
            "visibility": null,
            "width": null
          }
        },
        "6ae4ac12ebeb4c54b9dd67095b55cfdc": {
          "model_module": "@jupyter-widgets/base",
          "model_name": "LayoutModel",
          "model_module_version": "1.2.0",
          "state": {
            "_model_module": "@jupyter-widgets/base",
            "_model_module_version": "1.2.0",
            "_model_name": "LayoutModel",
            "_view_count": null,
            "_view_module": "@jupyter-widgets/base",
            "_view_module_version": "1.2.0",
            "_view_name": "LayoutView",
            "align_content": null,
            "align_items": null,
            "align_self": null,
            "border": null,
            "bottom": null,
            "display": null,
            "flex": null,
            "flex_flow": null,
            "grid_area": null,
            "grid_auto_columns": null,
            "grid_auto_flow": null,
            "grid_auto_rows": null,
            "grid_column": null,
            "grid_gap": null,
            "grid_row": null,
            "grid_template_areas": null,
            "grid_template_columns": null,
            "grid_template_rows": null,
            "height": null,
            "justify_content": null,
            "justify_items": null,
            "left": null,
            "margin": null,
            "max_height": null,
            "max_width": null,
            "min_height": null,
            "min_width": null,
            "object_fit": null,
            "object_position": null,
            "order": null,
            "overflow": null,
            "overflow_x": null,
            "overflow_y": null,
            "padding": null,
            "right": null,
            "top": null,
            "visibility": null,
            "width": null
          }
        },
        "b981cc33dd854feab921b7f8a50ef499": {
          "model_module": "@jupyter-widgets/controls",
          "model_name": "DescriptionStyleModel",
          "model_module_version": "1.5.0",
          "state": {
            "_model_module": "@jupyter-widgets/controls",
            "_model_module_version": "1.5.0",
            "_model_name": "DescriptionStyleModel",
            "_view_count": null,
            "_view_module": "@jupyter-widgets/base",
            "_view_module_version": "1.2.0",
            "_view_name": "StyleView",
            "description_width": ""
          }
        },
        "0bc759ee6e08402188bc4349574d6d07": {
          "model_module": "@jupyter-widgets/base",
          "model_name": "LayoutModel",
          "model_module_version": "1.2.0",
          "state": {
            "_model_module": "@jupyter-widgets/base",
            "_model_module_version": "1.2.0",
            "_model_name": "LayoutModel",
            "_view_count": null,
            "_view_module": "@jupyter-widgets/base",
            "_view_module_version": "1.2.0",
            "_view_name": "LayoutView",
            "align_content": null,
            "align_items": null,
            "align_self": null,
            "border": null,
            "bottom": null,
            "display": null,
            "flex": null,
            "flex_flow": null,
            "grid_area": null,
            "grid_auto_columns": null,
            "grid_auto_flow": null,
            "grid_auto_rows": null,
            "grid_column": null,
            "grid_gap": null,
            "grid_row": null,
            "grid_template_areas": null,
            "grid_template_columns": null,
            "grid_template_rows": null,
            "height": null,
            "justify_content": null,
            "justify_items": null,
            "left": null,
            "margin": null,
            "max_height": null,
            "max_width": null,
            "min_height": null,
            "min_width": null,
            "object_fit": null,
            "object_position": null,
            "order": null,
            "overflow": null,
            "overflow_x": null,
            "overflow_y": null,
            "padding": null,
            "right": null,
            "top": null,
            "visibility": null,
            "width": null
          }
        },
        "69bad9f0840a4570a923760dd03c6966": {
          "model_module": "@jupyter-widgets/controls",
          "model_name": "ProgressStyleModel",
          "model_module_version": "1.5.0",
          "state": {
            "_model_module": "@jupyter-widgets/controls",
            "_model_module_version": "1.5.0",
            "_model_name": "ProgressStyleModel",
            "_view_count": null,
            "_view_module": "@jupyter-widgets/base",
            "_view_module_version": "1.2.0",
            "_view_name": "StyleView",
            "bar_color": null,
            "description_width": ""
          }
        },
        "e875542abdf648a8b6a30ba02973d46e": {
          "model_module": "@jupyter-widgets/base",
          "model_name": "LayoutModel",
          "model_module_version": "1.2.0",
          "state": {
            "_model_module": "@jupyter-widgets/base",
            "_model_module_version": "1.2.0",
            "_model_name": "LayoutModel",
            "_view_count": null,
            "_view_module": "@jupyter-widgets/base",
            "_view_module_version": "1.2.0",
            "_view_name": "LayoutView",
            "align_content": null,
            "align_items": null,
            "align_self": null,
            "border": null,
            "bottom": null,
            "display": null,
            "flex": null,
            "flex_flow": null,
            "grid_area": null,
            "grid_auto_columns": null,
            "grid_auto_flow": null,
            "grid_auto_rows": null,
            "grid_column": null,
            "grid_gap": null,
            "grid_row": null,
            "grid_template_areas": null,
            "grid_template_columns": null,
            "grid_template_rows": null,
            "height": null,
            "justify_content": null,
            "justify_items": null,
            "left": null,
            "margin": null,
            "max_height": null,
            "max_width": null,
            "min_height": null,
            "min_width": null,
            "object_fit": null,
            "object_position": null,
            "order": null,
            "overflow": null,
            "overflow_x": null,
            "overflow_y": null,
            "padding": null,
            "right": null,
            "top": null,
            "visibility": null,
            "width": null
          }
        },
        "4cbf9647d8624035958efa3b81acabe6": {
          "model_module": "@jupyter-widgets/controls",
          "model_name": "DescriptionStyleModel",
          "model_module_version": "1.5.0",
          "state": {
            "_model_module": "@jupyter-widgets/controls",
            "_model_module_version": "1.5.0",
            "_model_name": "DescriptionStyleModel",
            "_view_count": null,
            "_view_module": "@jupyter-widgets/base",
            "_view_module_version": "1.2.0",
            "_view_name": "StyleView",
            "description_width": ""
          }
        },
        "ab43ff09e0ed4858b20afc37264b1f3d": {
          "model_module": "@jupyter-widgets/controls",
          "model_name": "HBoxModel",
          "model_module_version": "1.5.0",
          "state": {
            "_dom_classes": [],
            "_model_module": "@jupyter-widgets/controls",
            "_model_module_version": "1.5.0",
            "_model_name": "HBoxModel",
            "_view_count": null,
            "_view_module": "@jupyter-widgets/controls",
            "_view_module_version": "1.5.0",
            "_view_name": "HBoxView",
            "box_style": "",
            "children": [
              "IPY_MODEL_a7489b165f084be78d2d96fd1ad92baa",
              "IPY_MODEL_352236712ba44ffab1d08e927ab0f91f",
              "IPY_MODEL_9351c518b94749ba989510eb5111c0f2"
            ],
            "layout": "IPY_MODEL_1012021d6b87496997a168d18d4c9c4f"
          }
        },
        "a7489b165f084be78d2d96fd1ad92baa": {
          "model_module": "@jupyter-widgets/controls",
          "model_name": "HTMLModel",
          "model_module_version": "1.5.0",
          "state": {
            "_dom_classes": [],
            "_model_module": "@jupyter-widgets/controls",
            "_model_module_version": "1.5.0",
            "_model_name": "HTMLModel",
            "_view_count": null,
            "_view_module": "@jupyter-widgets/controls",
            "_view_module_version": "1.5.0",
            "_view_name": "HTMLView",
            "description": "",
            "description_tooltip": null,
            "layout": "IPY_MODEL_933c038cc49f4cdfbdec0cc76f4fd967",
            "placeholder": "​",
            "style": "IPY_MODEL_3fa88e80541040bd8b8145ebc4da8a6c",
            "value": "100%"
          }
        },
        "352236712ba44ffab1d08e927ab0f91f": {
          "model_module": "@jupyter-widgets/controls",
          "model_name": "FloatProgressModel",
          "model_module_version": "1.5.0",
          "state": {
            "_dom_classes": [],
            "_model_module": "@jupyter-widgets/controls",
            "_model_module_version": "1.5.0",
            "_model_name": "FloatProgressModel",
            "_view_count": null,
            "_view_module": "@jupyter-widgets/controls",
            "_view_module_version": "1.5.0",
            "_view_name": "ProgressView",
            "bar_style": "success",
            "description": "",
            "description_tooltip": null,
            "layout": "IPY_MODEL_ac1224c97789449d8ed536fd8bb24eaa",
            "max": 2,
            "min": 0,
            "orientation": "horizontal",
            "style": "IPY_MODEL_5d2d1fc175bf4d53a481926ee17e5c5e",
            "value": 2
          }
        },
        "9351c518b94749ba989510eb5111c0f2": {
          "model_module": "@jupyter-widgets/controls",
          "model_name": "HTMLModel",
          "model_module_version": "1.5.0",
          "state": {
            "_dom_classes": [],
            "_model_module": "@jupyter-widgets/controls",
            "_model_module_version": "1.5.0",
            "_model_name": "HTMLModel",
            "_view_count": null,
            "_view_module": "@jupyter-widgets/controls",
            "_view_module_version": "1.5.0",
            "_view_name": "HTMLView",
            "description": "",
            "description_tooltip": null,
            "layout": "IPY_MODEL_856eeff83b1e4d2680777e60a19995db",
            "placeholder": "​",
            "style": "IPY_MODEL_3adbdad27428414f887c9da3687da6e1",
            "value": " 2/2 [00:00&lt;00:00, 96.02it/s]"
          }
        },
        "1012021d6b87496997a168d18d4c9c4f": {
          "model_module": "@jupyter-widgets/base",
          "model_name": "LayoutModel",
          "model_module_version": "1.2.0",
          "state": {
            "_model_module": "@jupyter-widgets/base",
            "_model_module_version": "1.2.0",
            "_model_name": "LayoutModel",
            "_view_count": null,
            "_view_module": "@jupyter-widgets/base",
            "_view_module_version": "1.2.0",
            "_view_name": "LayoutView",
            "align_content": null,
            "align_items": null,
            "align_self": null,
            "border": null,
            "bottom": null,
            "display": null,
            "flex": null,
            "flex_flow": null,
            "grid_area": null,
            "grid_auto_columns": null,
            "grid_auto_flow": null,
            "grid_auto_rows": null,
            "grid_column": null,
            "grid_gap": null,
            "grid_row": null,
            "grid_template_areas": null,
            "grid_template_columns": null,
            "grid_template_rows": null,
            "height": null,
            "justify_content": null,
            "justify_items": null,
            "left": null,
            "margin": null,
            "max_height": null,
            "max_width": null,
            "min_height": null,
            "min_width": null,
            "object_fit": null,
            "object_position": null,
            "order": null,
            "overflow": null,
            "overflow_x": null,
            "overflow_y": null,
            "padding": null,
            "right": null,
            "top": null,
            "visibility": null,
            "width": null
          }
        },
        "933c038cc49f4cdfbdec0cc76f4fd967": {
          "model_module": "@jupyter-widgets/base",
          "model_name": "LayoutModel",
          "model_module_version": "1.2.0",
          "state": {
            "_model_module": "@jupyter-widgets/base",
            "_model_module_version": "1.2.0",
            "_model_name": "LayoutModel",
            "_view_count": null,
            "_view_module": "@jupyter-widgets/base",
            "_view_module_version": "1.2.0",
            "_view_name": "LayoutView",
            "align_content": null,
            "align_items": null,
            "align_self": null,
            "border": null,
            "bottom": null,
            "display": null,
            "flex": null,
            "flex_flow": null,
            "grid_area": null,
            "grid_auto_columns": null,
            "grid_auto_flow": null,
            "grid_auto_rows": null,
            "grid_column": null,
            "grid_gap": null,
            "grid_row": null,
            "grid_template_areas": null,
            "grid_template_columns": null,
            "grid_template_rows": null,
            "height": null,
            "justify_content": null,
            "justify_items": null,
            "left": null,
            "margin": null,
            "max_height": null,
            "max_width": null,
            "min_height": null,
            "min_width": null,
            "object_fit": null,
            "object_position": null,
            "order": null,
            "overflow": null,
            "overflow_x": null,
            "overflow_y": null,
            "padding": null,
            "right": null,
            "top": null,
            "visibility": null,
            "width": null
          }
        },
        "3fa88e80541040bd8b8145ebc4da8a6c": {
          "model_module": "@jupyter-widgets/controls",
          "model_name": "DescriptionStyleModel",
          "model_module_version": "1.5.0",
          "state": {
            "_model_module": "@jupyter-widgets/controls",
            "_model_module_version": "1.5.0",
            "_model_name": "DescriptionStyleModel",
            "_view_count": null,
            "_view_module": "@jupyter-widgets/base",
            "_view_module_version": "1.2.0",
            "_view_name": "StyleView",
            "description_width": ""
          }
        },
        "ac1224c97789449d8ed536fd8bb24eaa": {
          "model_module": "@jupyter-widgets/base",
          "model_name": "LayoutModel",
          "model_module_version": "1.2.0",
          "state": {
            "_model_module": "@jupyter-widgets/base",
            "_model_module_version": "1.2.0",
            "_model_name": "LayoutModel",
            "_view_count": null,
            "_view_module": "@jupyter-widgets/base",
            "_view_module_version": "1.2.0",
            "_view_name": "LayoutView",
            "align_content": null,
            "align_items": null,
            "align_self": null,
            "border": null,
            "bottom": null,
            "display": null,
            "flex": null,
            "flex_flow": null,
            "grid_area": null,
            "grid_auto_columns": null,
            "grid_auto_flow": null,
            "grid_auto_rows": null,
            "grid_column": null,
            "grid_gap": null,
            "grid_row": null,
            "grid_template_areas": null,
            "grid_template_columns": null,
            "grid_template_rows": null,
            "height": null,
            "justify_content": null,
            "justify_items": null,
            "left": null,
            "margin": null,
            "max_height": null,
            "max_width": null,
            "min_height": null,
            "min_width": null,
            "object_fit": null,
            "object_position": null,
            "order": null,
            "overflow": null,
            "overflow_x": null,
            "overflow_y": null,
            "padding": null,
            "right": null,
            "top": null,
            "visibility": null,
            "width": null
          }
        },
        "5d2d1fc175bf4d53a481926ee17e5c5e": {
          "model_module": "@jupyter-widgets/controls",
          "model_name": "ProgressStyleModel",
          "model_module_version": "1.5.0",
          "state": {
            "_model_module": "@jupyter-widgets/controls",
            "_model_module_version": "1.5.0",
            "_model_name": "ProgressStyleModel",
            "_view_count": null,
            "_view_module": "@jupyter-widgets/base",
            "_view_module_version": "1.2.0",
            "_view_name": "StyleView",
            "bar_color": null,
            "description_width": ""
          }
        },
        "856eeff83b1e4d2680777e60a19995db": {
          "model_module": "@jupyter-widgets/base",
          "model_name": "LayoutModel",
          "model_module_version": "1.2.0",
          "state": {
            "_model_module": "@jupyter-widgets/base",
            "_model_module_version": "1.2.0",
            "_model_name": "LayoutModel",
            "_view_count": null,
            "_view_module": "@jupyter-widgets/base",
            "_view_module_version": "1.2.0",
            "_view_name": "LayoutView",
            "align_content": null,
            "align_items": null,
            "align_self": null,
            "border": null,
            "bottom": null,
            "display": null,
            "flex": null,
            "flex_flow": null,
            "grid_area": null,
            "grid_auto_columns": null,
            "grid_auto_flow": null,
            "grid_auto_rows": null,
            "grid_column": null,
            "grid_gap": null,
            "grid_row": null,
            "grid_template_areas": null,
            "grid_template_columns": null,
            "grid_template_rows": null,
            "height": null,
            "justify_content": null,
            "justify_items": null,
            "left": null,
            "margin": null,
            "max_height": null,
            "max_width": null,
            "min_height": null,
            "min_width": null,
            "object_fit": null,
            "object_position": null,
            "order": null,
            "overflow": null,
            "overflow_x": null,
            "overflow_y": null,
            "padding": null,
            "right": null,
            "top": null,
            "visibility": null,
            "width": null
          }
        },
        "3adbdad27428414f887c9da3687da6e1": {
          "model_module": "@jupyter-widgets/controls",
          "model_name": "DescriptionStyleModel",
          "model_module_version": "1.5.0",
          "state": {
            "_model_module": "@jupyter-widgets/controls",
            "_model_module_version": "1.5.0",
            "_model_name": "DescriptionStyleModel",
            "_view_count": null,
            "_view_module": "@jupyter-widgets/base",
            "_view_module_version": "1.2.0",
            "_view_name": "StyleView",
            "description_width": ""
          }
        },
        "d688c4b19dfe4b509e6dac6327d66af6": {
          "model_module": "@jupyter-widgets/controls",
          "model_name": "HBoxModel",
          "model_module_version": "1.5.0",
          "state": {
            "_dom_classes": [],
            "_model_module": "@jupyter-widgets/controls",
            "_model_module_version": "1.5.0",
            "_model_name": "HBoxModel",
            "_view_count": null,
            "_view_module": "@jupyter-widgets/controls",
            "_view_module_version": "1.5.0",
            "_view_name": "HBoxView",
            "box_style": "",
            "children": [
              "IPY_MODEL_b25395d7cc9d48c7965efa9c80b66df3",
              "IPY_MODEL_8c8e78b772304c68a3051e9437e4836a",
              "IPY_MODEL_db4fc71cd05e4db99703db3dd6e69919"
            ],
            "layout": "IPY_MODEL_8f6c7175d99d4085bc23413ccf842267"
          }
        },
        "b25395d7cc9d48c7965efa9c80b66df3": {
          "model_module": "@jupyter-widgets/controls",
          "model_name": "HTMLModel",
          "model_module_version": "1.5.0",
          "state": {
            "_dom_classes": [],
            "_model_module": "@jupyter-widgets/controls",
            "_model_module_version": "1.5.0",
            "_model_name": "HTMLModel",
            "_view_count": null,
            "_view_module": "@jupyter-widgets/controls",
            "_view_module_version": "1.5.0",
            "_view_name": "HTMLView",
            "description": "",
            "description_tooltip": null,
            "layout": "IPY_MODEL_621b786208c64c79b329bd70d9c24df0",
            "placeholder": "​",
            "style": "IPY_MODEL_ba558b1bf0854594b30e1a0b48175d8a",
            "value": "100%"
          }
        },
        "8c8e78b772304c68a3051e9437e4836a": {
          "model_module": "@jupyter-widgets/controls",
          "model_name": "FloatProgressModel",
          "model_module_version": "1.5.0",
          "state": {
            "_dom_classes": [],
            "_model_module": "@jupyter-widgets/controls",
            "_model_module_version": "1.5.0",
            "_model_name": "FloatProgressModel",
            "_view_count": null,
            "_view_module": "@jupyter-widgets/controls",
            "_view_module_version": "1.5.0",
            "_view_name": "ProgressView",
            "bar_style": "success",
            "description": "",
            "description_tooltip": null,
            "layout": "IPY_MODEL_6bf3b292d29b4371b40caaf9ff810c62",
            "max": 62155,
            "min": 0,
            "orientation": "horizontal",
            "style": "IPY_MODEL_4ccefd1c482945998af8cef03930f1e4",
            "value": 62155
          }
        },
        "db4fc71cd05e4db99703db3dd6e69919": {
          "model_module": "@jupyter-widgets/controls",
          "model_name": "HTMLModel",
          "model_module_version": "1.5.0",
          "state": {
            "_dom_classes": [],
            "_model_module": "@jupyter-widgets/controls",
            "_model_module_version": "1.5.0",
            "_model_name": "HTMLModel",
            "_view_count": null,
            "_view_module": "@jupyter-widgets/controls",
            "_view_module_version": "1.5.0",
            "_view_name": "HTMLView",
            "description": "",
            "description_tooltip": null,
            "layout": "IPY_MODEL_3000347e551246f1ab814f96eacac496",
            "placeholder": "​",
            "style": "IPY_MODEL_e83dcd0788934c098ba8b7f199faf6a7",
            "value": " 62155/62155 [00:07&lt;00:00, 8003.85it/s]"
          }
        },
        "8f6c7175d99d4085bc23413ccf842267": {
          "model_module": "@jupyter-widgets/base",
          "model_name": "LayoutModel",
          "model_module_version": "1.2.0",
          "state": {
            "_model_module": "@jupyter-widgets/base",
            "_model_module_version": "1.2.0",
            "_model_name": "LayoutModel",
            "_view_count": null,
            "_view_module": "@jupyter-widgets/base",
            "_view_module_version": "1.2.0",
            "_view_name": "LayoutView",
            "align_content": null,
            "align_items": null,
            "align_self": null,
            "border": null,
            "bottom": null,
            "display": null,
            "flex": null,
            "flex_flow": null,
            "grid_area": null,
            "grid_auto_columns": null,
            "grid_auto_flow": null,
            "grid_auto_rows": null,
            "grid_column": null,
            "grid_gap": null,
            "grid_row": null,
            "grid_template_areas": null,
            "grid_template_columns": null,
            "grid_template_rows": null,
            "height": null,
            "justify_content": null,
            "justify_items": null,
            "left": null,
            "margin": null,
            "max_height": null,
            "max_width": null,
            "min_height": null,
            "min_width": null,
            "object_fit": null,
            "object_position": null,
            "order": null,
            "overflow": null,
            "overflow_x": null,
            "overflow_y": null,
            "padding": null,
            "right": null,
            "top": null,
            "visibility": null,
            "width": null
          }
        },
        "621b786208c64c79b329bd70d9c24df0": {
          "model_module": "@jupyter-widgets/base",
          "model_name": "LayoutModel",
          "model_module_version": "1.2.0",
          "state": {
            "_model_module": "@jupyter-widgets/base",
            "_model_module_version": "1.2.0",
            "_model_name": "LayoutModel",
            "_view_count": null,
            "_view_module": "@jupyter-widgets/base",
            "_view_module_version": "1.2.0",
            "_view_name": "LayoutView",
            "align_content": null,
            "align_items": null,
            "align_self": null,
            "border": null,
            "bottom": null,
            "display": null,
            "flex": null,
            "flex_flow": null,
            "grid_area": null,
            "grid_auto_columns": null,
            "grid_auto_flow": null,
            "grid_auto_rows": null,
            "grid_column": null,
            "grid_gap": null,
            "grid_row": null,
            "grid_template_areas": null,
            "grid_template_columns": null,
            "grid_template_rows": null,
            "height": null,
            "justify_content": null,
            "justify_items": null,
            "left": null,
            "margin": null,
            "max_height": null,
            "max_width": null,
            "min_height": null,
            "min_width": null,
            "object_fit": null,
            "object_position": null,
            "order": null,
            "overflow": null,
            "overflow_x": null,
            "overflow_y": null,
            "padding": null,
            "right": null,
            "top": null,
            "visibility": null,
            "width": null
          }
        },
        "ba558b1bf0854594b30e1a0b48175d8a": {
          "model_module": "@jupyter-widgets/controls",
          "model_name": "DescriptionStyleModel",
          "model_module_version": "1.5.0",
          "state": {
            "_model_module": "@jupyter-widgets/controls",
            "_model_module_version": "1.5.0",
            "_model_name": "DescriptionStyleModel",
            "_view_count": null,
            "_view_module": "@jupyter-widgets/base",
            "_view_module_version": "1.2.0",
            "_view_name": "StyleView",
            "description_width": ""
          }
        },
        "6bf3b292d29b4371b40caaf9ff810c62": {
          "model_module": "@jupyter-widgets/base",
          "model_name": "LayoutModel",
          "model_module_version": "1.2.0",
          "state": {
            "_model_module": "@jupyter-widgets/base",
            "_model_module_version": "1.2.0",
            "_model_name": "LayoutModel",
            "_view_count": null,
            "_view_module": "@jupyter-widgets/base",
            "_view_module_version": "1.2.0",
            "_view_name": "LayoutView",
            "align_content": null,
            "align_items": null,
            "align_self": null,
            "border": null,
            "bottom": null,
            "display": null,
            "flex": null,
            "flex_flow": null,
            "grid_area": null,
            "grid_auto_columns": null,
            "grid_auto_flow": null,
            "grid_auto_rows": null,
            "grid_column": null,
            "grid_gap": null,
            "grid_row": null,
            "grid_template_areas": null,
            "grid_template_columns": null,
            "grid_template_rows": null,
            "height": null,
            "justify_content": null,
            "justify_items": null,
            "left": null,
            "margin": null,
            "max_height": null,
            "max_width": null,
            "min_height": null,
            "min_width": null,
            "object_fit": null,
            "object_position": null,
            "order": null,
            "overflow": null,
            "overflow_x": null,
            "overflow_y": null,
            "padding": null,
            "right": null,
            "top": null,
            "visibility": null,
            "width": null
          }
        },
        "4ccefd1c482945998af8cef03930f1e4": {
          "model_module": "@jupyter-widgets/controls",
          "model_name": "ProgressStyleModel",
          "model_module_version": "1.5.0",
          "state": {
            "_model_module": "@jupyter-widgets/controls",
            "_model_module_version": "1.5.0",
            "_model_name": "ProgressStyleModel",
            "_view_count": null,
            "_view_module": "@jupyter-widgets/base",
            "_view_module_version": "1.2.0",
            "_view_name": "StyleView",
            "bar_color": null,
            "description_width": ""
          }
        },
        "3000347e551246f1ab814f96eacac496": {
          "model_module": "@jupyter-widgets/base",
          "model_name": "LayoutModel",
          "model_module_version": "1.2.0",
          "state": {
            "_model_module": "@jupyter-widgets/base",
            "_model_module_version": "1.2.0",
            "_model_name": "LayoutModel",
            "_view_count": null,
            "_view_module": "@jupyter-widgets/base",
            "_view_module_version": "1.2.0",
            "_view_name": "LayoutView",
            "align_content": null,
            "align_items": null,
            "align_self": null,
            "border": null,
            "bottom": null,
            "display": null,
            "flex": null,
            "flex_flow": null,
            "grid_area": null,
            "grid_auto_columns": null,
            "grid_auto_flow": null,
            "grid_auto_rows": null,
            "grid_column": null,
            "grid_gap": null,
            "grid_row": null,
            "grid_template_areas": null,
            "grid_template_columns": null,
            "grid_template_rows": null,
            "height": null,
            "justify_content": null,
            "justify_items": null,
            "left": null,
            "margin": null,
            "max_height": null,
            "max_width": null,
            "min_height": null,
            "min_width": null,
            "object_fit": null,
            "object_position": null,
            "order": null,
            "overflow": null,
            "overflow_x": null,
            "overflow_y": null,
            "padding": null,
            "right": null,
            "top": null,
            "visibility": null,
            "width": null
          }
        },
        "e83dcd0788934c098ba8b7f199faf6a7": {
          "model_module": "@jupyter-widgets/controls",
          "model_name": "DescriptionStyleModel",
          "model_module_version": "1.5.0",
          "state": {
            "_model_module": "@jupyter-widgets/controls",
            "_model_module_version": "1.5.0",
            "_model_name": "DescriptionStyleModel",
            "_view_count": null,
            "_view_module": "@jupyter-widgets/base",
            "_view_module_version": "1.2.0",
            "_view_name": "StyleView",
            "description_width": ""
          }
        },
        "93a78b4b6a0e4a3bb74c0b47c5c4c65f": {
          "model_module": "@jupyter-widgets/controls",
          "model_name": "HBoxModel",
          "model_module_version": "1.5.0",
          "state": {
            "_dom_classes": [],
            "_model_module": "@jupyter-widgets/controls",
            "_model_module_version": "1.5.0",
            "_model_name": "HBoxModel",
            "_view_count": null,
            "_view_module": "@jupyter-widgets/controls",
            "_view_module_version": "1.5.0",
            "_view_name": "HBoxView",
            "box_style": "",
            "children": [
              "IPY_MODEL_53185e9a1d2b422d82ba29ecc3ca6534",
              "IPY_MODEL_1fa403a462e140cdb6c76cdbeebfca97",
              "IPY_MODEL_558284fad0824a74a76984f80a64b06c"
            ],
            "layout": "IPY_MODEL_04a9e3e3a8a64a479d74a4d160472c22"
          }
        },
        "53185e9a1d2b422d82ba29ecc3ca6534": {
          "model_module": "@jupyter-widgets/controls",
          "model_name": "HTMLModel",
          "model_module_version": "1.5.0",
          "state": {
            "_dom_classes": [],
            "_model_module": "@jupyter-widgets/controls",
            "_model_module_version": "1.5.0",
            "_model_name": "HTMLModel",
            "_view_count": null,
            "_view_module": "@jupyter-widgets/controls",
            "_view_module_version": "1.5.0",
            "_view_name": "HTMLView",
            "description": "",
            "description_tooltip": null,
            "layout": "IPY_MODEL_953bc5fdb7d84b9ba2e206e6de084385",
            "placeholder": "​",
            "style": "IPY_MODEL_d27cb28b177a45108adb844936d86cf5",
            "value": "100%"
          }
        },
        "1fa403a462e140cdb6c76cdbeebfca97": {
          "model_module": "@jupyter-widgets/controls",
          "model_name": "FloatProgressModel",
          "model_module_version": "1.5.0",
          "state": {
            "_dom_classes": [],
            "_model_module": "@jupyter-widgets/controls",
            "_model_module_version": "1.5.0",
            "_model_name": "FloatProgressModel",
            "_view_count": null,
            "_view_module": "@jupyter-widgets/controls",
            "_view_module_version": "1.5.0",
            "_view_name": "ProgressView",
            "bar_style": "success",
            "description": "",
            "description_tooltip": null,
            "layout": "IPY_MODEL_3f720b4ed6184fc0bd5da997746999bb",
            "max": 62155,
            "min": 0,
            "orientation": "horizontal",
            "style": "IPY_MODEL_f1a7f510bc6b4b01852fd75da9ccb855",
            "value": 62155
          }
        },
        "558284fad0824a74a76984f80a64b06c": {
          "model_module": "@jupyter-widgets/controls",
          "model_name": "HTMLModel",
          "model_module_version": "1.5.0",
          "state": {
            "_dom_classes": [],
            "_model_module": "@jupyter-widgets/controls",
            "_model_module_version": "1.5.0",
            "_model_name": "HTMLModel",
            "_view_count": null,
            "_view_module": "@jupyter-widgets/controls",
            "_view_module_version": "1.5.0",
            "_view_name": "HTMLView",
            "description": "",
            "description_tooltip": null,
            "layout": "IPY_MODEL_060a1f3d664e467cb3e0e726e42c0576",
            "placeholder": "​",
            "style": "IPY_MODEL_58ee227a28244b9ba27656ae0a862c87",
            "value": " 62155/62155 [00:06&lt;00:00, 5296.42it/s]"
          }
        },
        "04a9e3e3a8a64a479d74a4d160472c22": {
          "model_module": "@jupyter-widgets/base",
          "model_name": "LayoutModel",
          "model_module_version": "1.2.0",
          "state": {
            "_model_module": "@jupyter-widgets/base",
            "_model_module_version": "1.2.0",
            "_model_name": "LayoutModel",
            "_view_count": null,
            "_view_module": "@jupyter-widgets/base",
            "_view_module_version": "1.2.0",
            "_view_name": "LayoutView",
            "align_content": null,
            "align_items": null,
            "align_self": null,
            "border": null,
            "bottom": null,
            "display": null,
            "flex": null,
            "flex_flow": null,
            "grid_area": null,
            "grid_auto_columns": null,
            "grid_auto_flow": null,
            "grid_auto_rows": null,
            "grid_column": null,
            "grid_gap": null,
            "grid_row": null,
            "grid_template_areas": null,
            "grid_template_columns": null,
            "grid_template_rows": null,
            "height": null,
            "justify_content": null,
            "justify_items": null,
            "left": null,
            "margin": null,
            "max_height": null,
            "max_width": null,
            "min_height": null,
            "min_width": null,
            "object_fit": null,
            "object_position": null,
            "order": null,
            "overflow": null,
            "overflow_x": null,
            "overflow_y": null,
            "padding": null,
            "right": null,
            "top": null,
            "visibility": null,
            "width": null
          }
        },
        "953bc5fdb7d84b9ba2e206e6de084385": {
          "model_module": "@jupyter-widgets/base",
          "model_name": "LayoutModel",
          "model_module_version": "1.2.0",
          "state": {
            "_model_module": "@jupyter-widgets/base",
            "_model_module_version": "1.2.0",
            "_model_name": "LayoutModel",
            "_view_count": null,
            "_view_module": "@jupyter-widgets/base",
            "_view_module_version": "1.2.0",
            "_view_name": "LayoutView",
            "align_content": null,
            "align_items": null,
            "align_self": null,
            "border": null,
            "bottom": null,
            "display": null,
            "flex": null,
            "flex_flow": null,
            "grid_area": null,
            "grid_auto_columns": null,
            "grid_auto_flow": null,
            "grid_auto_rows": null,
            "grid_column": null,
            "grid_gap": null,
            "grid_row": null,
            "grid_template_areas": null,
            "grid_template_columns": null,
            "grid_template_rows": null,
            "height": null,
            "justify_content": null,
            "justify_items": null,
            "left": null,
            "margin": null,
            "max_height": null,
            "max_width": null,
            "min_height": null,
            "min_width": null,
            "object_fit": null,
            "object_position": null,
            "order": null,
            "overflow": null,
            "overflow_x": null,
            "overflow_y": null,
            "padding": null,
            "right": null,
            "top": null,
            "visibility": null,
            "width": null
          }
        },
        "d27cb28b177a45108adb844936d86cf5": {
          "model_module": "@jupyter-widgets/controls",
          "model_name": "DescriptionStyleModel",
          "model_module_version": "1.5.0",
          "state": {
            "_model_module": "@jupyter-widgets/controls",
            "_model_module_version": "1.5.0",
            "_model_name": "DescriptionStyleModel",
            "_view_count": null,
            "_view_module": "@jupyter-widgets/base",
            "_view_module_version": "1.2.0",
            "_view_name": "StyleView",
            "description_width": ""
          }
        },
        "3f720b4ed6184fc0bd5da997746999bb": {
          "model_module": "@jupyter-widgets/base",
          "model_name": "LayoutModel",
          "model_module_version": "1.2.0",
          "state": {
            "_model_module": "@jupyter-widgets/base",
            "_model_module_version": "1.2.0",
            "_model_name": "LayoutModel",
            "_view_count": null,
            "_view_module": "@jupyter-widgets/base",
            "_view_module_version": "1.2.0",
            "_view_name": "LayoutView",
            "align_content": null,
            "align_items": null,
            "align_self": null,
            "border": null,
            "bottom": null,
            "display": null,
            "flex": null,
            "flex_flow": null,
            "grid_area": null,
            "grid_auto_columns": null,
            "grid_auto_flow": null,
            "grid_auto_rows": null,
            "grid_column": null,
            "grid_gap": null,
            "grid_row": null,
            "grid_template_areas": null,
            "grid_template_columns": null,
            "grid_template_rows": null,
            "height": null,
            "justify_content": null,
            "justify_items": null,
            "left": null,
            "margin": null,
            "max_height": null,
            "max_width": null,
            "min_height": null,
            "min_width": null,
            "object_fit": null,
            "object_position": null,
            "order": null,
            "overflow": null,
            "overflow_x": null,
            "overflow_y": null,
            "padding": null,
            "right": null,
            "top": null,
            "visibility": null,
            "width": null
          }
        },
        "f1a7f510bc6b4b01852fd75da9ccb855": {
          "model_module": "@jupyter-widgets/controls",
          "model_name": "ProgressStyleModel",
          "model_module_version": "1.5.0",
          "state": {
            "_model_module": "@jupyter-widgets/controls",
            "_model_module_version": "1.5.0",
            "_model_name": "ProgressStyleModel",
            "_view_count": null,
            "_view_module": "@jupyter-widgets/base",
            "_view_module_version": "1.2.0",
            "_view_name": "StyleView",
            "bar_color": null,
            "description_width": ""
          }
        },
        "060a1f3d664e467cb3e0e726e42c0576": {
          "model_module": "@jupyter-widgets/base",
          "model_name": "LayoutModel",
          "model_module_version": "1.2.0",
          "state": {
            "_model_module": "@jupyter-widgets/base",
            "_model_module_version": "1.2.0",
            "_model_name": "LayoutModel",
            "_view_count": null,
            "_view_module": "@jupyter-widgets/base",
            "_view_module_version": "1.2.0",
            "_view_name": "LayoutView",
            "align_content": null,
            "align_items": null,
            "align_self": null,
            "border": null,
            "bottom": null,
            "display": null,
            "flex": null,
            "flex_flow": null,
            "grid_area": null,
            "grid_auto_columns": null,
            "grid_auto_flow": null,
            "grid_auto_rows": null,
            "grid_column": null,
            "grid_gap": null,
            "grid_row": null,
            "grid_template_areas": null,
            "grid_template_columns": null,
            "grid_template_rows": null,
            "height": null,
            "justify_content": null,
            "justify_items": null,
            "left": null,
            "margin": null,
            "max_height": null,
            "max_width": null,
            "min_height": null,
            "min_width": null,
            "object_fit": null,
            "object_position": null,
            "order": null,
            "overflow": null,
            "overflow_x": null,
            "overflow_y": null,
            "padding": null,
            "right": null,
            "top": null,
            "visibility": null,
            "width": null
          }
        },
        "58ee227a28244b9ba27656ae0a862c87": {
          "model_module": "@jupyter-widgets/controls",
          "model_name": "DescriptionStyleModel",
          "model_module_version": "1.5.0",
          "state": {
            "_model_module": "@jupyter-widgets/controls",
            "_model_module_version": "1.5.0",
            "_model_name": "DescriptionStyleModel",
            "_view_count": null,
            "_view_module": "@jupyter-widgets/base",
            "_view_module_version": "1.2.0",
            "_view_name": "StyleView",
            "description_width": ""
          }
        }
      }
    }
  },
  "nbformat": 4,
  "nbformat_minor": 0
}